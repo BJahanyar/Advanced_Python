{
 "cells": [
  {
   "cell_type": "code",
   "execution_count": null,
   "source": [
    "import pandas as pd\r\n",
    "import numpy as np\r\n",
    "import matplotlib.pylab as plt\r\n",
    "import tensorflow as tf"
   ],
   "outputs": [],
   "metadata": {}
  },
  {
   "cell_type": "code",
   "execution_count": null,
   "source": [
    "train = pd.read_csv('train.csv')\r\n",
    "train.head(2)"
   ],
   "outputs": [
    {
     "output_type": "execute_result",
     "data": {
      "text/plain": [
       "   PassengerId  Survived  Pclass  \\\n",
       "0            1         0       3   \n",
       "1            2         1       1   \n",
       "\n",
       "                                                Name     Sex   Age  SibSp  \\\n",
       "0                            Braund, Mr. Owen Harris    male  22.0      1   \n",
       "1  Cumings, Mrs. John Bradley (Florence Briggs Th...  female  38.0      1   \n",
       "\n",
       "   Parch     Ticket     Fare Cabin Embarked  \n",
       "0      0  A/5 21171   7.2500   NaN        S  \n",
       "1      0   PC 17599  71.2833   C85        C  "
      ],
      "text/html": [
       "<div>\n",
       "<style scoped>\n",
       "    .dataframe tbody tr th:only-of-type {\n",
       "        vertical-align: middle;\n",
       "    }\n",
       "\n",
       "    .dataframe tbody tr th {\n",
       "        vertical-align: top;\n",
       "    }\n",
       "\n",
       "    .dataframe thead th {\n",
       "        text-align: right;\n",
       "    }\n",
       "</style>\n",
       "<table border=\"1\" class=\"dataframe\">\n",
       "  <thead>\n",
       "    <tr style=\"text-align: right;\">\n",
       "      <th></th>\n",
       "      <th>PassengerId</th>\n",
       "      <th>Survived</th>\n",
       "      <th>Pclass</th>\n",
       "      <th>Name</th>\n",
       "      <th>Sex</th>\n",
       "      <th>Age</th>\n",
       "      <th>SibSp</th>\n",
       "      <th>Parch</th>\n",
       "      <th>Ticket</th>\n",
       "      <th>Fare</th>\n",
       "      <th>Cabin</th>\n",
       "      <th>Embarked</th>\n",
       "    </tr>\n",
       "  </thead>\n",
       "  <tbody>\n",
       "    <tr>\n",
       "      <th>0</th>\n",
       "      <td>1</td>\n",
       "      <td>0</td>\n",
       "      <td>3</td>\n",
       "      <td>Braund, Mr. Owen Harris</td>\n",
       "      <td>male</td>\n",
       "      <td>22.0</td>\n",
       "      <td>1</td>\n",
       "      <td>0</td>\n",
       "      <td>A/5 21171</td>\n",
       "      <td>7.2500</td>\n",
       "      <td>NaN</td>\n",
       "      <td>S</td>\n",
       "    </tr>\n",
       "    <tr>\n",
       "      <th>1</th>\n",
       "      <td>2</td>\n",
       "      <td>1</td>\n",
       "      <td>1</td>\n",
       "      <td>Cumings, Mrs. John Bradley (Florence Briggs Th...</td>\n",
       "      <td>female</td>\n",
       "      <td>38.0</td>\n",
       "      <td>1</td>\n",
       "      <td>0</td>\n",
       "      <td>PC 17599</td>\n",
       "      <td>71.2833</td>\n",
       "      <td>C85</td>\n",
       "      <td>C</td>\n",
       "    </tr>\n",
       "  </tbody>\n",
       "</table>\n",
       "</div>"
      ]
     },
     "metadata": {},
     "execution_count": 5
    }
   ],
   "metadata": {}
  },
  {
   "cell_type": "code",
   "execution_count": null,
   "source": [
    "#PreProcessing\r\n",
    "train= train.replace([\"female\" , \"male\"] , [0 , 1])\r\n",
    "train = train.replace([\"C\" , \"S\" , \"Q\"] , [0 , 1 , 2])\r\n",
    "train = train.fillna(0)\r\n",
    "train.head(2)"
   ],
   "outputs": [
    {
     "output_type": "execute_result",
     "data": {
      "text/plain": [
       "   PassengerId  Survived  Pclass  \\\n",
       "0            1         0       3   \n",
       "1            2         1       1   \n",
       "\n",
       "                                                Name     Sex   Age  SibSp  \\\n",
       "0                            Braund, Mr. Owen Harris    male  22.0      1   \n",
       "1  Cumings, Mrs. John Bradley (Florence Briggs Th...  female  38.0      1   \n",
       "\n",
       "   Parch     Ticket     Fare Cabin  Embarked  \n",
       "0      0  A/5 21171   7.2500     0       1.0  \n",
       "1      0   PC 17599  71.2833   C85       0.0  "
      ],
      "text/html": [
       "<div>\n",
       "<style scoped>\n",
       "    .dataframe tbody tr th:only-of-type {\n",
       "        vertical-align: middle;\n",
       "    }\n",
       "\n",
       "    .dataframe tbody tr th {\n",
       "        vertical-align: top;\n",
       "    }\n",
       "\n",
       "    .dataframe thead th {\n",
       "        text-align: right;\n",
       "    }\n",
       "</style>\n",
       "<table border=\"1\" class=\"dataframe\">\n",
       "  <thead>\n",
       "    <tr style=\"text-align: right;\">\n",
       "      <th></th>\n",
       "      <th>PassengerId</th>\n",
       "      <th>Survived</th>\n",
       "      <th>Pclass</th>\n",
       "      <th>Name</th>\n",
       "      <th>Sex</th>\n",
       "      <th>Age</th>\n",
       "      <th>SibSp</th>\n",
       "      <th>Parch</th>\n",
       "      <th>Ticket</th>\n",
       "      <th>Fare</th>\n",
       "      <th>Cabin</th>\n",
       "      <th>Embarked</th>\n",
       "    </tr>\n",
       "  </thead>\n",
       "  <tbody>\n",
       "    <tr>\n",
       "      <th>0</th>\n",
       "      <td>1</td>\n",
       "      <td>0</td>\n",
       "      <td>3</td>\n",
       "      <td>Braund, Mr. Owen Harris</td>\n",
       "      <td>male</td>\n",
       "      <td>22.0</td>\n",
       "      <td>1</td>\n",
       "      <td>0</td>\n",
       "      <td>A/5 21171</td>\n",
       "      <td>7.2500</td>\n",
       "      <td>0</td>\n",
       "      <td>1.0</td>\n",
       "    </tr>\n",
       "    <tr>\n",
       "      <th>1</th>\n",
       "      <td>2</td>\n",
       "      <td>1</td>\n",
       "      <td>1</td>\n",
       "      <td>Cumings, Mrs. John Bradley (Florence Briggs Th...</td>\n",
       "      <td>female</td>\n",
       "      <td>38.0</td>\n",
       "      <td>1</td>\n",
       "      <td>0</td>\n",
       "      <td>PC 17599</td>\n",
       "      <td>71.2833</td>\n",
       "      <td>C85</td>\n",
       "      <td>0.0</td>\n",
       "    </tr>\n",
       "  </tbody>\n",
       "</table>\n",
       "</div>"
      ]
     },
     "metadata": {},
     "execution_count": 6
    }
   ],
   "metadata": {}
  },
  {
   "cell_type": "code",
   "execution_count": null,
   "source": [
    "Y_train =  np.array(train[['Survived']])\r\n",
    "X_train = np.array(train[['Pclass', 'Sex', 'Fare', 'Age', 'SibSp', 'Parch', 'Embarked']])\r\n",
    "print(X_train.shape , Y_train.shape)"
   ],
   "outputs": [],
   "metadata": {}
  },
  {
   "cell_type": "code",
   "execution_count": null,
   "source": [
    "model = tf.keras.models.Sequential([\r\n",
    "                                    tf.keras.layers.Dense(7,activation='sigmoid'),\r\n",
    "                                    tf.keras.layers.Dense(8,activation='relu'),\r\n",
    "                                    tf.keras.layers.Dense(6,activation='relu'),\r\n",
    "                                    tf.keras.layers.Dense(4,activation='relu'),\r\n",
    "                                    tf.keras.layers.Dense(2,activation='softmax')\r\n",
    "])"
   ],
   "outputs": [],
   "metadata": {}
  },
  {
   "cell_type": "code",
   "execution_count": null,
   "source": [
    "model.compile(optimizer=tf.keras.optimizers.Adam(learning_rate=0.001),\r\n",
    "              loss=tf.keras.losses.sparse_categorical_crossentropy,\r\n",
    "              metrics=['accuracy'])"
   ],
   "outputs": [],
   "metadata": {}
  },
  {
   "cell_type": "code",
   "execution_count": null,
   "source": [
    "output=model.fit(X_train,Y_train,epochs=500)"
   ],
   "outputs": [],
   "metadata": {}
  },
  {
   "cell_type": "code",
   "execution_count": null,
   "source": [
    "plt.plot(output.history['loss'], c = 'red')\r\n",
    "plt.plot(output.history['accuracy'], c ='green')\r\n",
    "plt.xlabel('Epoch')\r\n",
    "plt.ylabel('Loss')"
   ],
   "outputs": [],
   "metadata": {}
  },
  {
   "cell_type": "code",
   "execution_count": null,
   "source": [
    "test = pd.read_csv('drive/MyDrive/Colab Notebooks/Titanic Dataset/test.csv')\r\n",
    "test = test.replace(['female','male'],[0, 1])\r\n",
    "test = test.replace(['S','C','Q'],[0, 1, 2])\r\n",
    "test=test.fillna(0)\r\n",
    "test.head()"
   ],
   "outputs": [],
   "metadata": {}
  },
  {
   "cell_type": "code",
   "execution_count": null,
   "source": [
    "survived = pd.read_csv('gender_submission.csv')\r\n",
    "survived.head(2)"
   ],
   "outputs": [],
   "metadata": {}
  },
  {
   "cell_type": "code",
   "execution_count": null,
   "source": [
    "X_test = np.array(test[['Pclass','Sex','Age','SibSp','Parch','Fare','Embarked']])\r\n",
    "Y_test = np.array(survived[['Survived']])\r\n",
    "print(X_train.shape , Y_train.shape)\r\n"
   ],
   "outputs": [],
   "metadata": {}
  },
  {
   "cell_type": "code",
   "execution_count": null,
   "source": [
    "from keras import layers\r\n",
    "layer = layers.Normalization()\r\n",
    "layer.adapt(X_test)\r\n",
    "X_test = layer(X_test).numpy()"
   ],
   "outputs": [],
   "metadata": {}
  },
  {
   "cell_type": "code",
   "execution_count": null,
   "source": [
    "acc=model.evaluate(X_test,Y_test)"
   ],
   "outputs": [],
   "metadata": {}
  },
  {
   "cell_type": "code",
   "execution_count": null,
   "source": [
    "Kelly=np.array([3,1,27,0,0,8.6,0])\r\n",
    "Kelly=Kelly.reshape(1,7)\r\n",
    "y_pred=model.predict(Kelly)\r\n",
    "prediction=np.argmax(y_pred)\r\n",
    "print('prediction  ----> ',prediction)"
   ],
   "outputs": [],
   "metadata": {}
  },
  {
   "cell_type": "code",
   "execution_count": null,
   "source": [
    "#___________KNN_____________#\r\n",
    "class kNearestNeighbors(): \r\n",
    "\r\n",
    "\r\n",
    "    def __init__(self, k):\r\n",
    "        self.k = k \r\n",
    "\r\n",
    "\r\n",
    "    def fit(self, X_train , y_train): \r\n",
    "        self.X_train = X_train\r\n",
    "        self.y_train = y_train\r\n",
    "        self.number_classes = len(np.unique(y_train))\r\n",
    "\r\n",
    "\r\n",
    "    def nearNeighbors(self , X_test):\r\n",
    "        dist = np.sqrt(np.sum((X_test - self.X_train)**2 ,axis=1))\r\n",
    "        near_neighbors = np.argsort(dist)[:self.k]\r\n",
    "        return near_neighbors\r\n",
    "\r\n",
    "        \r\n",
    "    def predict (self, X_test):\r\n",
    "        near_neighbors = self.nearNeighbors(X_test)\r\n",
    "        y = np.argmax(np.bincount(self.y_train[near_neighbors]))\r\n",
    "        return y\r\n",
    "\r\n",
    "    def Evaluate (self, X_test, y_test):\r\n",
    "        Succes=0\r\n",
    "        Test_len = len(X_test)\r\n",
    "        for i in range (Test_len):\r\n",
    "            Prediction = self.predict(X_test[i])\r\n",
    "            if Prediction == y_test[i]:\r\n",
    "                Succes = Succes+1 \r\n",
    "        Accuracy = Succes / Test_len\r\n",
    "        return Accuracy"
   ],
   "outputs": [],
   "metadata": {}
  },
  {
   "cell_type": "code",
   "execution_count": null,
   "source": [
    "Y_train = Y_train.reshape(891,)\r\n",
    "KNN = kNearestNeighbors(k=5)\r\n",
    "KNN.fit(X_train,Y_train)\r\n",
    "y = []\r\n",
    "for xts in X_test:\r\n",
    "    y.append(KNN.predict(xts))\r\n",
    "\r\n",
    "print(' Accuracy of ___________KNN_____________ is', KNN.Evaluate(X_test, Y_test))"
   ],
   "outputs": [],
   "metadata": {}
  },
  {
   "cell_type": "code",
   "execution_count": null,
   "source": [
    "#___________Adaline_____________#\r\n",
    "\r\n",
    "from numpy.linalg import inv\r\n",
    "class AdalineClassifi(): \r\n",
    "\r\n",
    "\r\n",
    "    def __init__(self):\r\n",
    "        pass\r\n",
    "\r\n",
    "    def fit(self, x_train, y_train):\r\n",
    "        # W = (X.T * X)^-1 * (X.T * Y)\r\n",
    "        self.w=np.matmul(inv(np.matmul(x_train.T,x_train)),np.matmul(x_train.T,y_train))\r\n",
    "        return self.w\r\n",
    "        \r\n",
    "    def predict(self, x_test):\r\n",
    "        y_predict = np.matmul(x_test, self.w)\r\n",
    "        y=[]\r\n",
    "        for i in range(len(y_predict)):\r\n",
    "            if y_predict[i]<0.5:\r\n",
    "                y.append(0)\r\n",
    "            else:\r\n",
    "                y.append(1)  \r\n",
    "        y=np.array(y)\r\n",
    "        return y\r\n",
    "    \r\n",
    "    def Evaluate (self, X_test, Y_test):\r\n",
    "        pred = self.predict(X_test)\r\n",
    "        Succes=0\r\n",
    "        for i in range (len(X_test)):\r\n",
    "           if pred[i] == Y_test[i]:\r\n",
    "               Succes = Succes+1 \r\n",
    "           Accuracy = Succes / len(X_test)\r\n",
    "        return Accuracy"
   ],
   "outputs": [],
   "metadata": {}
  },
  {
   "cell_type": "code",
   "execution_count": null,
   "source": [
    "model = AdalineClassifi()\r\n",
    "model.fit(X_train,Y_train)\r\n",
    "print(model.predict(X_test))\r\n",
    "print(' Accuracy of ___________Adaline_____________ is', model.Evaluate(X_test, Y_test))"
   ],
   "outputs": [],
   "metadata": {}
  },
  {
   "cell_type": "code",
   "execution_count": null,
   "source": [
    "#___________Perceptron_____________\r\n",
    "\r\n",
    "class perceptron:\r\n",
    "    def __init__ (self):\r\n",
    "        pass\r\n",
    "\r\n",
    "    def fit(self, X, Y  , epochs):\r\n",
    "\r\n",
    "        lr = 0.000001\r\n",
    "        self.w = np.random.rand(7)\r\n",
    "        self.b = np.random.rand(1)\r\n",
    "        self.Error = []\r\n",
    "        for i in range (epochs):\r\n",
    "            for i in range (X.shape[0]):\r\n",
    "                y_pred = np.matmul(X[i], self.w ) + self.b\r\n",
    "                e = Y[i] - y_pred\r\n",
    "                self.w += lr * X[i] * e\r\n",
    "                self.b += lr * e \r\n",
    "\r\n",
    "                Y_pred = np.matmul(X, self.w) + self.b\r\n",
    "                error = np.mean(np.abs(Y - Y_pred))\r\n",
    "                self.Error.append(error)\r\n",
    "        np.save('w', self.w)\r\n",
    "        np.save('b', self.b)\r\n",
    "        return self.Error\r\n",
    "\r\n",
    "    def predict (self, X):\r\n",
    "        w = np.load('w.npy')\r\n",
    "        b = np.load('b.npy')\r\n",
    "        Y_pred=np.matmul(X, w) + b\r\n",
    "        return  Y_pred\r\n",
    "\r\n",
    "    def evaluate(self, X, Y):\r\n",
    "        w = np.load('w.npy')\r\n",
    "        b = np.load('b.npy')\r\n",
    "        Y_pred = np.matmul(X, w) + b\r\n",
    "        evaluation = np.mean(np.abs(Y - Y_pred))\r\n",
    "        return evaluation"
   ],
   "outputs": [],
   "metadata": {}
  },
  {
   "cell_type": "code",
   "execution_count": null,
   "source": [
    "model = perceptron()\r\n",
    "model.fit(X_train, Y_train ,2)\r\n",
    "model.predict(X_test)\r\n",
    "model.evaluate(X_test, Y_test)\r\n",
    "print('Accuracy of ___________Perceptron_____________ is:', model.evaluate(X_test, Y_test) )"
   ],
   "outputs": [],
   "metadata": {}
  }
 ],
 "metadata": {
  "orig_nbformat": 4,
  "language_info": {
   "name": "python",
   "version": "3.9.6",
   "mimetype": "text/x-python",
   "codemirror_mode": {
    "name": "ipython",
    "version": 3
   },
   "pygments_lexer": "ipython3",
   "nbconvert_exporter": "python",
   "file_extension": ".py"
  },
  "kernelspec": {
   "name": "python3",
   "display_name": "Python 3.9.6 64-bit"
  },
  "interpreter": {
   "hash": "ac59ebe37160ed0dfa835113d9b8498d9f09ceb179beaac4002f036b9467c963"
  }
 },
 "nbformat": 4,
 "nbformat_minor": 2
}