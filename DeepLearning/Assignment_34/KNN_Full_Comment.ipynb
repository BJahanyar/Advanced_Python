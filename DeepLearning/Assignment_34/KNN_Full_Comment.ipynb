{
 "cells": [
  {
   "cell_type": "code",
   "execution_count": 1,
   "source": [
    "import matplotlib.pyplot as plt\r\n",
    "import numpy as np"
   ],
   "outputs": [],
   "metadata": {}
  },
  {
   "cell_type": "code",
   "execution_count": 2,
   "source": [
    "N = 100\r\n",
    "std = 0.4\r\n",
    "#ایجاد لیستی 500 تایی از اعداد به عنوان طول عرض \r\n",
    "Apple_width = np.random.normal(6, std , N)\r\n",
    "Apple_length = np.random.normal(6, std , N)\r\n",
    "\r\n",
    "Benanas_width = np.random.normal(4, std, N)\r\n",
    "Benanas_length = np.random.normal(8, std, N)"
   ],
   "outputs": [],
   "metadata": {}
  },
  {
   "cell_type": "code",
   "execution_count": 3,
   "source": [
    "#قرار   طول هادر یک لیست در کنار هم و الحاق عرض ها و وزن ها \r\n",
    "width = np.concatenate((Apple_width, Benanas_width))\r\n",
    "length = np.concatenate((Apple_length, Benanas_length))"
   ],
   "outputs": [],
   "metadata": {}
  },
  {
   "cell_type": "code",
   "execution_count": 11,
   "source": [
    "# ایجاد یک آرایه دو بعدی که سطر های 1000 است و ستون های عرض و طول و وزن 3 است. ما به عنوان \r\n",
    "#ویژگی که میخواهیم روی آن ها \"کا\"ر کنیم\r\n",
    "# ایجاد 500 عدد صفر و 500عدد یک برای انتصاب به لیبل بالن هاو خربزه ها\r\n",
    "X = np.array([width, length]).T #تعویض جای سطر و ستون ها\r\n",
    "Apple_lable = np.zeros(N, dtype = 'int') \r\n",
    "Benanas_lable = np.ones(N, dtype = 'int')\r\n",
    "X"
   ],
   "outputs": [
    {
     "output_type": "execute_result",
     "data": {
      "text/plain": [
       "array([[5.58149209, 6.13687253],\n",
       "       [6.29448636, 5.53263568],\n",
       "       [5.49310389, 6.224233  ],\n",
       "       [5.71307122, 5.95789168],\n",
       "       [6.23249422, 5.73710651],\n",
       "       [6.22545022, 5.91963834],\n",
       "       [5.78837554, 6.17890682],\n",
       "       [6.13989264, 6.65411358],\n",
       "       [6.27236032, 6.02592506],\n",
       "       [6.15271421, 6.453061  ],\n",
       "       [6.22686438, 6.4350834 ],\n",
       "       [6.39124394, 6.65061023],\n",
       "       [6.62945302, 5.62910557],\n",
       "       [5.72177751, 6.14945787],\n",
       "       [6.05795779, 6.20949379],\n",
       "       [5.87756623, 5.74519075],\n",
       "       [6.01750965, 6.59154858],\n",
       "       [6.77319983, 5.87507293],\n",
       "       [6.29325334, 6.09693275],\n",
       "       [6.42462571, 6.11164511],\n",
       "       [5.87521358, 6.26287029],\n",
       "       [6.37090428, 6.63009823],\n",
       "       [6.52923619, 5.97885554],\n",
       "       [5.95857338, 5.46047842],\n",
       "       [5.66597505, 4.79307739],\n",
       "       [6.87740761, 7.06016186],\n",
       "       [5.66399764, 5.44575682],\n",
       "       [6.24100268, 5.80503734],\n",
       "       [6.4122357 , 5.86357265],\n",
       "       [5.70391739, 7.024235  ],\n",
       "       [6.15349659, 5.54121635],\n",
       "       [5.63440909, 5.53801128],\n",
       "       [6.10767385, 5.88438249],\n",
       "       [7.17405677, 6.00059914],\n",
       "       [5.96017404, 5.86612852],\n",
       "       [5.64661626, 6.00886204],\n",
       "       [6.28841125, 6.22311512],\n",
       "       [6.07724652, 6.45431178],\n",
       "       [6.62954984, 5.88325606],\n",
       "       [5.69128731, 5.83830018],\n",
       "       [6.44822061, 6.06450443],\n",
       "       [5.87694554, 6.66147708],\n",
       "       [6.27649298, 6.31849304],\n",
       "       [6.28353332, 5.69948757],\n",
       "       [6.16583216, 6.63041108],\n",
       "       [6.07284624, 5.85605995],\n",
       "       [6.4771782 , 5.97679965],\n",
       "       [6.12555125, 5.45829617],\n",
       "       [4.95513107, 5.71957485],\n",
       "       [5.40714325, 5.78452256],\n",
       "       [6.00370439, 5.12460493],\n",
       "       [5.82964126, 5.33299504],\n",
       "       [5.91892111, 6.61998921],\n",
       "       [6.04005876, 6.6707221 ],\n",
       "       [6.66220825, 5.95552503],\n",
       "       [5.24445028, 4.93434946],\n",
       "       [6.3908912 , 6.16713925],\n",
       "       [5.40167048, 5.44551452],\n",
       "       [5.47883019, 6.30163791],\n",
       "       [5.26830599, 6.02588304],\n",
       "       [6.18526782, 6.14190296],\n",
       "       [5.36871975, 5.08160474],\n",
       "       [5.91280689, 5.46769461],\n",
       "       [6.58913841, 5.52712751],\n",
       "       [5.49461877, 6.05976002],\n",
       "       [6.15015815, 6.15129598],\n",
       "       [6.24527295, 6.17988537],\n",
       "       [5.80771179, 5.43289523],\n",
       "       [5.9222564 , 6.0380431 ],\n",
       "       [6.3542915 , 5.98018664],\n",
       "       [5.90405854, 5.98567426],\n",
       "       [5.82254704, 6.10684563],\n",
       "       [5.47834945, 6.51018497],\n",
       "       [5.90535637, 5.49393594],\n",
       "       [5.9360413 , 6.31092998],\n",
       "       [6.90752132, 5.81462178],\n",
       "       [5.6169317 , 5.82541961],\n",
       "       [6.02634912, 6.05583947],\n",
       "       [6.46163314, 5.76616695],\n",
       "       [6.14537464, 6.56145734],\n",
       "       [6.0655517 , 5.72290123],\n",
       "       [6.11641889, 5.67666979],\n",
       "       [6.30312049, 5.8730298 ],\n",
       "       [6.02966851, 6.50808034],\n",
       "       [5.90599452, 5.51226789],\n",
       "       [6.39180546, 5.57615579],\n",
       "       [6.49808495, 5.98833924],\n",
       "       [6.00982926, 6.24186662],\n",
       "       [5.88698411, 6.00402388],\n",
       "       [6.30770397, 6.40132009],\n",
       "       [6.03807105, 6.08611082],\n",
       "       [6.45451851, 6.09114426],\n",
       "       [5.73250417, 5.88630711],\n",
       "       [6.94962649, 5.77991066],\n",
       "       [6.19358266, 6.82801324],\n",
       "       [6.05543598, 6.58216513],\n",
       "       [6.05077337, 6.18754742],\n",
       "       [5.96549483, 6.06682011],\n",
       "       [6.21529386, 6.26886494],\n",
       "       [5.93018967, 5.79356696],\n",
       "       [3.96539161, 8.3882551 ],\n",
       "       [3.65191822, 8.02407733],\n",
       "       [4.01900093, 7.96267289],\n",
       "       [4.14192318, 7.4878837 ],\n",
       "       [4.06507493, 8.91158521],\n",
       "       [3.70295217, 7.06366122],\n",
       "       [4.54035375, 8.36798166],\n",
       "       [3.95640669, 8.29138656],\n",
       "       [4.88076005, 7.92123466],\n",
       "       [3.81837574, 7.76764655],\n",
       "       [3.9834996 , 8.09542692],\n",
       "       [3.7860696 , 7.98844179],\n",
       "       [4.36888028, 7.66174444],\n",
       "       [2.97693123, 7.34239156],\n",
       "       [4.1438734 , 7.56562383],\n",
       "       [3.4220564 , 8.23427693],\n",
       "       [3.2753463 , 7.6914176 ],\n",
       "       [4.43524795, 7.72170908],\n",
       "       [4.64952195, 7.50016523],\n",
       "       [4.32111021, 8.54031808],\n",
       "       [4.13605792, 7.16983332],\n",
       "       [3.73311611, 7.45329533],\n",
       "       [3.54794035, 8.15340077],\n",
       "       [4.37360495, 8.31909886],\n",
       "       [4.26904097, 7.99849866],\n",
       "       [3.95068161, 8.59796183],\n",
       "       [3.38444879, 7.79667419],\n",
       "       [3.48957601, 7.9812501 ],\n",
       "       [4.13285702, 7.38539053],\n",
       "       [3.96134493, 8.7744522 ],\n",
       "       [4.18937929, 8.52017271],\n",
       "       [4.39476892, 7.52896346],\n",
       "       [4.17915833, 7.23663025],\n",
       "       [4.91331629, 7.79550873],\n",
       "       [3.9209051 , 7.91340685],\n",
       "       [4.13981881, 7.91795799],\n",
       "       [4.06903084, 7.22235843],\n",
       "       [3.95454066, 8.78821376],\n",
       "       [4.61645742, 8.11341954],\n",
       "       [4.14697905, 7.36691563],\n",
       "       [3.52988133, 7.92535806],\n",
       "       [3.62361943, 8.00305661],\n",
       "       [4.03722866, 8.03757441],\n",
       "       [3.91498016, 7.29898075],\n",
       "       [4.66331974, 8.3106632 ],\n",
       "       [3.99215779, 8.25702913],\n",
       "       [3.60911169, 7.99519328],\n",
       "       [3.87286706, 8.63922231],\n",
       "       [3.42928007, 7.54303965],\n",
       "       [3.54622992, 8.50901698],\n",
       "       [3.88779446, 8.36329634],\n",
       "       [4.11879055, 7.70152929],\n",
       "       [4.21893994, 7.70250727],\n",
       "       [3.78186268, 8.0373048 ],\n",
       "       [3.79863146, 8.23051968],\n",
       "       [3.98761109, 7.56848266],\n",
       "       [4.5819273 , 7.37962854],\n",
       "       [4.30999325, 7.67588298],\n",
       "       [4.27427346, 8.09642083],\n",
       "       [3.46371015, 7.74697851],\n",
       "       [3.99906433, 8.68174065],\n",
       "       [4.12851209, 7.87595507],\n",
       "       [3.77433643, 8.50253129],\n",
       "       [3.86581292, 8.04214881],\n",
       "       [4.21508304, 8.03496423],\n",
       "       [3.87046696, 8.86383741],\n",
       "       [4.09295454, 6.27680995],\n",
       "       [4.18694766, 8.00236124],\n",
       "       [4.02664074, 8.02141088],\n",
       "       [5.18377778, 7.49934038],\n",
       "       [2.94321239, 7.82813526],\n",
       "       [4.0918193 , 7.76347218],\n",
       "       [4.47348565, 7.1258002 ],\n",
       "       [4.18042274, 8.48524165],\n",
       "       [4.13171378, 7.92915946],\n",
       "       [3.39820556, 8.10801696],\n",
       "       [3.60884014, 7.95060573],\n",
       "       [4.61204523, 8.35362242],\n",
       "       [4.5643136 , 7.93310265],\n",
       "       [4.30771609, 8.15659261],\n",
       "       [4.10993754, 8.36037833],\n",
       "       [3.58543706, 8.26858592],\n",
       "       [4.42534715, 8.20911855],\n",
       "       [4.54949332, 7.81898253],\n",
       "       [3.34872517, 7.98619871],\n",
       "       [4.53564061, 7.95831728],\n",
       "       [3.95955486, 7.71393683],\n",
       "       [3.39632188, 7.80922576],\n",
       "       [3.78672241, 7.16538093],\n",
       "       [4.44738368, 7.59556468],\n",
       "       [4.52377775, 8.13059505],\n",
       "       [3.24388252, 8.95391679],\n",
       "       [3.72438306, 8.52483358],\n",
       "       [4.03364345, 8.26848565],\n",
       "       [4.50811715, 7.49199007],\n",
       "       [4.60083475, 7.13948679],\n",
       "       [3.87510052, 7.56775312],\n",
       "       [4.2592089 , 8.09652804],\n",
       "       [5.29103375, 8.03012382],\n",
       "       [4.00486445, 8.12523323]])"
      ]
     },
     "metadata": {},
     "execution_count": 11
    }
   ],
   "metadata": {}
  },
  {
   "cell_type": "code",
   "execution_count": 10,
   "source": [
    "#به هم پیوستن لیبل بالن ها و خربزه ها برای ایجاد خروجی یا تارگت\r\n",
    "Y = np.concatenate((Apple_lable,Benanas_lable))\r\n",
    "Y"
   ],
   "outputs": [
    {
     "output_type": "execute_result",
     "data": {
      "text/plain": [
       "array([0, 0, 0, 0, 0, 0, 0, 0, 0, 0, 0, 0, 0, 0, 0, 0, 0, 0, 0, 0, 0, 0,\n",
       "       0, 0, 0, 0, 0, 0, 0, 0, 0, 0, 0, 0, 0, 0, 0, 0, 0, 0, 0, 0, 0, 0,\n",
       "       0, 0, 0, 0, 0, 0, 0, 0, 0, 0, 0, 0, 0, 0, 0, 0, 0, 0, 0, 0, 0, 0,\n",
       "       0, 0, 0, 0, 0, 0, 0, 0, 0, 0, 0, 0, 0, 0, 0, 0, 0, 0, 0, 0, 0, 0,\n",
       "       0, 0, 0, 0, 0, 0, 0, 0, 0, 0, 0, 0, 1, 1, 1, 1, 1, 1, 1, 1, 1, 1,\n",
       "       1, 1, 1, 1, 1, 1, 1, 1, 1, 1, 1, 1, 1, 1, 1, 1, 1, 1, 1, 1, 1, 1,\n",
       "       1, 1, 1, 1, 1, 1, 1, 1, 1, 1, 1, 1, 1, 1, 1, 1, 1, 1, 1, 1, 1, 1,\n",
       "       1, 1, 1, 1, 1, 1, 1, 1, 1, 1, 1, 1, 1, 1, 1, 1, 1, 1, 1, 1, 1, 1,\n",
       "       1, 1, 1, 1, 1, 1, 1, 1, 1, 1, 1, 1, 1, 1, 1, 1, 1, 1, 1, 1, 1, 1,\n",
       "       1, 1])"
      ]
     },
     "metadata": {},
     "execution_count": 10
    }
   ],
   "metadata": {}
  },
  {
   "cell_type": "code",
   "execution_count": 6,
   "source": [
    "fig = plt.figure()\r\n",
    "plt.scatter(X[0:N , 0] , X[0:N , 1] ,  c = 'RED')\r\n",
    "plt.scatter(X[N: ,0] , X[N: ,1]  , c = 'yellow')\r\n",
    "plt.xlabel('Width')\r\n",
    "plt.ylabel('Length')"
   ],
   "outputs": [
    {
     "output_type": "execute_result",
     "data": {
      "text/plain": [
       "Text(0, 0.5, 'Length')"
      ]
     },
     "metadata": {},
     "execution_count": 6
    },
    {
     "output_type": "display_data",
     "data": {
      "text/plain": [
       "<Figure size 432x288 with 1 Axes>"
      ],
      "image/svg+xml": "<?xml version=\"1.0\" encoding=\"utf-8\" standalone=\"no\"?>\r\n<!DOCTYPE svg PUBLIC \"-//W3C//DTD SVG 1.1//EN\"\r\n  \"http://www.w3.org/Graphics/SVG/1.1/DTD/svg11.dtd\">\r\n<svg height=\"262.19625pt\" version=\"1.1\" viewBox=\"0 0 376.240625 262.19625\" width=\"376.240625pt\" xmlns=\"http://www.w3.org/2000/svg\" xmlns:xlink=\"http://www.w3.org/1999/xlink\">\r\n <metadata>\r\n  <rdf:RDF xmlns:cc=\"http://creativecommons.org/ns#\" xmlns:dc=\"http://purl.org/dc/elements/1.1/\" xmlns:rdf=\"http://www.w3.org/1999/02/22-rdf-syntax-ns#\">\r\n   <cc:Work>\r\n    <dc:type rdf:resource=\"http://purl.org/dc/dcmitype/StillImage\"/>\r\n    <dc:date>2021-08-11T19:51:47.922497</dc:date>\r\n    <dc:format>image/svg+xml</dc:format>\r\n    <dc:creator>\r\n     <cc:Agent>\r\n      <dc:title>Matplotlib v3.4.2, https://matplotlib.org/</dc:title>\r\n     </cc:Agent>\r\n    </dc:creator>\r\n   </cc:Work>\r\n  </rdf:RDF>\r\n </metadata>\r\n <defs>\r\n  <style type=\"text/css\">*{stroke-linecap:butt;stroke-linejoin:round;}</style>\r\n </defs>\r\n <g id=\"figure_1\">\r\n  <g id=\"patch_1\">\r\n   <path d=\"M 0 262.19625 \r\nL 376.240625 262.19625 \r\nL 376.240625 0 \r\nL 0 0 \r\nz\r\n\" style=\"fill:none;\"/>\r\n  </g>\r\n  <g id=\"axes_1\">\r\n   <g id=\"patch_2\">\r\n    <path d=\"M 34.240625 224.64 \r\nL 369.040625 224.64 \r\nL 369.040625 7.2 \r\nL 34.240625 7.2 \r\nz\r\n\" style=\"fill:#ffffff;\"/>\r\n   </g>\r\n   <g id=\"PathCollection_1\">\r\n    <defs>\r\n     <path d=\"M 0 3 \r\nC 0.795609 3 1.55874 2.683901 2.12132 2.12132 \r\nC 2.683901 1.55874 3 0.795609 3 0 \r\nC 3 -0.795609 2.683901 -1.55874 2.12132 -2.12132 \r\nC 1.55874 -2.683901 0.795609 -3 0 -3 \r\nC -0.795609 -3 -1.55874 -2.683901 -2.12132 -2.12132 \r\nC -2.683901 -1.55874 -3 -0.795609 -3 0 \r\nC -3 0.795609 -2.683901 1.55874 -2.12132 2.12132 \r\nC -1.55874 2.683901 -0.795609 3 0 3 \r\nz\r\n\" id=\"m7b5e206e63\" style=\"stroke:#ff0000;\"/>\r\n    </defs>\r\n    <g clip-path=\"url(#pfdaa092a8e)\">\r\n     <use style=\"fill:#ff0000;stroke:#ff0000;\" x=\"239.254586\" xlink:href=\"#m7b5e206e63\" y=\"150.915483\"/>\r\n     <use style=\"fill:#ff0000;stroke:#ff0000;\" x=\"290.546836\" xlink:href=\"#m7b5e206e63\" y=\"179.621505\"/>\r\n     <use style=\"fill:#ff0000;stroke:#ff0000;\" x=\"232.896007\" xlink:href=\"#m7b5e206e63\" y=\"146.765171\"/>\r\n     <use style=\"fill:#ff0000;stroke:#ff0000;\" x=\"248.720285\" xlink:href=\"#m7b5e206e63\" y=\"159.418487\"/>\r\n     <use style=\"fill:#ff0000;stroke:#ff0000;\" x=\"286.087169\" xlink:href=\"#m7b5e206e63\" y=\"169.907526\"/>\r\n     <use style=\"fill:#ff0000;stroke:#ff0000;\" x=\"285.58043\" xlink:href=\"#m7b5e206e63\" y=\"161.235823\"/>\r\n     <use style=\"fill:#ff0000;stroke:#ff0000;\" x=\"254.137619\" xlink:href=\"#m7b5e206e63\" y=\"148.918523\"/>\r\n     <use style=\"fill:#ff0000;stroke:#ff0000;\" x=\"279.425484\" xlink:href=\"#m7b5e206e63\" y=\"126.342449\"/>\r\n     <use style=\"fill:#ff0000;stroke:#ff0000;\" x=\"288.955106\" xlink:href=\"#m7b5e206e63\" y=\"156.186364\"/>\r\n     <use style=\"fill:#ff0000;stroke:#ff0000;\" x=\"280.347858\" xlink:href=\"#m7b5e206e63\" y=\"135.894034\"/>\r\n     <use style=\"fill:#ff0000;stroke:#ff0000;\" x=\"285.682163\" xlink:href=\"#m7b5e206e63\" y=\"136.748112\"/>\r\n     <use style=\"fill:#ff0000;stroke:#ff0000;\" x=\"297.5075\" xlink:href=\"#m7b5e206e63\" y=\"126.508886\"/>\r\n     <use style=\"fill:#ff0000;stroke:#ff0000;\" x=\"314.644075\" xlink:href=\"#m7b5e206e63\" y=\"175.038424\"/>\r\n     <use style=\"fill:#ff0000;stroke:#ff0000;\" x=\"249.346609\" xlink:href=\"#m7b5e206e63\" y=\"150.31758\"/>\r\n     <use style=\"fill:#ff0000;stroke:#ff0000;\" x=\"273.531155\" xlink:href=\"#m7b5e206e63\" y=\"147.4654\"/>\r\n     <use style=\"fill:#ff0000;stroke:#ff0000;\" x=\"260.553927\" xlink:href=\"#m7b5e206e63\" y=\"169.523461\"/>\r\n     <use style=\"fill:#ff0000;stroke:#ff0000;\" x=\"270.621348\" xlink:href=\"#m7b5e206e63\" y=\"129.314781\"/>\r\n     <use style=\"fill:#ff0000;stroke:#ff0000;\" x=\"324.985108\" xlink:href=\"#m7b5e206e63\" y=\"163.353032\"/>\r\n     <use style=\"fill:#ff0000;stroke:#ff0000;\" x=\"290.458133\" xlink:href=\"#m7b5e206e63\" y=\"152.812939\"/>\r\n     <use style=\"fill:#ff0000;stroke:#ff0000;\" x=\"299.908959\" xlink:href=\"#m7b5e206e63\" y=\"152.113985\"/>\r\n     <use style=\"fill:#ff0000;stroke:#ff0000;\" x=\"260.38468\" xlink:href=\"#m7b5e206e63\" y=\"144.929595\"/>\r\n     <use style=\"fill:#ff0000;stroke:#ff0000;\" x=\"296.044281\" xlink:href=\"#m7b5e206e63\" y=\"127.483368\"/>\r\n     <use style=\"fill:#ff0000;stroke:#ff0000;\" x=\"307.434555\" xlink:href=\"#m7b5e206e63\" y=\"158.422538\"/>\r\n     <use style=\"fill:#ff0000;stroke:#ff0000;\" x=\"266.381519\" xlink:href=\"#m7b5e206e63\" y=\"183.049545\"/>\r\n     <use style=\"fill:#ff0000;stroke:#ff0000;\" x=\"245.332223\" xlink:href=\"#m7b5e206e63\" y=\"214.756364\"/>\r\n     <use style=\"fill:#ff0000;stroke:#ff0000;\" x=\"332.481735\" xlink:href=\"#m7b5e206e63\" y=\"107.05195\"/>\r\n     <use style=\"fill:#ff0000;stroke:#ff0000;\" x=\"245.18997\" xlink:href=\"#m7b5e206e63\" y=\"183.748937\"/>\r\n     <use style=\"fill:#ff0000;stroke:#ff0000;\" x=\"286.699262\" xlink:href=\"#m7b5e206e63\" y=\"166.680275\"/>\r\n     <use style=\"fill:#ff0000;stroke:#ff0000;\" x=\"299.017631\" xlink:href=\"#m7b5e206e63\" y=\"163.899386\"/>\r\n     <use style=\"fill:#ff0000;stroke:#ff0000;\" x=\"248.061766\" xlink:href=\"#m7b5e206e63\" y=\"108.758759\"/>\r\n     <use style=\"fill:#ff0000;stroke:#ff0000;\" x=\"280.404142\" xlink:href=\"#m7b5e206e63\" y=\"179.213856\"/>\r\n     <use style=\"fill:#ff0000;stroke:#ff0000;\" x=\"243.061393\" xlink:href=\"#m7b5e206e63\" y=\"179.366122\"/>\r\n     <use style=\"fill:#ff0000;stroke:#ff0000;\" x=\"277.10769\" xlink:href=\"#m7b5e206e63\" y=\"162.910754\"/>\r\n     <use style=\"fill:#ff0000;stroke:#ff0000;\" x=\"353.822443\" xlink:href=\"#m7b5e206e63\" y=\"157.389546\"/>\r\n     <use style=\"fill:#ff0000;stroke:#ff0000;\" x=\"266.496669\" xlink:href=\"#m7b5e206e63\" y=\"163.777962\"/>\r\n     <use style=\"fill:#ff0000;stroke:#ff0000;\" x=\"243.939567\" xlink:href=\"#m7b5e206e63\" y=\"156.996993\"/>\r\n     <use style=\"fill:#ff0000;stroke:#ff0000;\" x=\"290.109797\" xlink:href=\"#m7b5e206e63\" y=\"146.818279\"/>\r\n     <use style=\"fill:#ff0000;stroke:#ff0000;\" x=\"274.918771\" xlink:href=\"#m7b5e206e63\" y=\"135.834612\"/>\r\n     <use style=\"fill:#ff0000;stroke:#ff0000;\" x=\"314.651041\" xlink:href=\"#m7b5e206e63\" y=\"162.964268\"/>\r\n     <use style=\"fill:#ff0000;stroke:#ff0000;\" x=\"247.153167\" xlink:href=\"#m7b5e206e63\" y=\"165.100028\"/>\r\n     <use style=\"fill:#ff0000;stroke:#ff0000;\" x=\"301.606357\" xlink:href=\"#m7b5e206e63\" y=\"154.35354\"/>\r\n     <use style=\"fill:#ff0000;stroke:#ff0000;\" x=\"260.509276\" xlink:href=\"#m7b5e206e63\" y=\"125.992625\"/>\r\n     <use style=\"fill:#ff0000;stroke:#ff0000;\" x=\"289.252406\" xlink:href=\"#m7b5e206e63\" y=\"142.287075\"/>\r\n     <use style=\"fill:#ff0000;stroke:#ff0000;\" x=\"289.758882\" xlink:href=\"#m7b5e206e63\" y=\"171.694723\"/>\r\n     <use style=\"fill:#ff0000;stroke:#ff0000;\" x=\"281.291554\" xlink:href=\"#m7b5e206e63\" y=\"127.468505\"/>\r\n     <use style=\"fill:#ff0000;stroke:#ff0000;\" x=\"274.602219\" xlink:href=\"#m7b5e206e63\" y=\"164.256299\"/>\r\n     <use style=\"fill:#ff0000;stroke:#ff0000;\" x=\"303.689544\" xlink:href=\"#m7b5e206e63\" y=\"158.520209\"/>\r\n     <use style=\"fill:#ff0000;stroke:#ff0000;\" x=\"278.393776\" xlink:href=\"#m7b5e206e63\" y=\"183.153219\"/>\r\n     <use style=\"fill:#ff0000;stroke:#ff0000;\" x=\"194.194664\" xlink:href=\"#m7b5e206e63\" y=\"170.740419\"/>\r\n     <use style=\"fill:#ff0000;stroke:#ff0000;\" x=\"226.712066\" xlink:href=\"#m7b5e206e63\" y=\"167.654889\"/>\r\n     <use style=\"fill:#ff0000;stroke:#ff0000;\" x=\"269.628208\" xlink:href=\"#m7b5e206e63\" y=\"199.006188\"/>\r\n     <use style=\"fill:#ff0000;stroke:#ff0000;\" x=\"257.106243\" xlink:href=\"#m7b5e206e63\" y=\"189.106012\"/>\r\n     <use style=\"fill:#ff0000;stroke:#ff0000;\" x=\"263.528965\" xlink:href=\"#m7b5e206e63\" y=\"127.963626\"/>\r\n     <use style=\"fill:#ff0000;stroke:#ff0000;\" x=\"272.243513\" xlink:href=\"#m7b5e206e63\" y=\"125.553413\"/>\r\n     <use style=\"fill:#ff0000;stroke:#ff0000;\" x=\"317.000461\" xlink:href=\"#m7b5e206e63\" y=\"159.530921\"/>\r\n     <use style=\"fill:#ff0000;stroke:#ff0000;\" x=\"215.008061\" xlink:href=\"#m7b5e206e63\" y=\"208.044825\"/>\r\n     <use style=\"fill:#ff0000;stroke:#ff0000;\" x=\"297.482125\" xlink:href=\"#m7b5e206e63\" y=\"149.477575\"/>\r\n     <use style=\"fill:#ff0000;stroke:#ff0000;\" x=\"226.318359\" xlink:href=\"#m7b5e206e63\" y=\"183.760448\"/>\r\n     <use style=\"fill:#ff0000;stroke:#ff0000;\" x=\"231.869169\" xlink:href=\"#m7b5e206e63\" y=\"143.087827\"/>\r\n     <use style=\"fill:#ff0000;stroke:#ff0000;\" x=\"216.724222\" xlink:href=\"#m7b5e206e63\" y=\"156.188361\"/>\r\n     <use style=\"fill:#ff0000;stroke:#ff0000;\" x=\"282.68974\" xlink:href=\"#m7b5e206e63\" y=\"150.676498\"/>\r\n     <use style=\"fill:#ff0000;stroke:#ff0000;\" x=\"223.947909\" xlink:href=\"#m7b5e206e63\" y=\"201.049036\"/>\r\n     <use style=\"fill:#ff0000;stroke:#ff0000;\" x=\"263.089113\" xlink:href=\"#m7b5e206e63\" y=\"182.706719\"/>\r\n     <use style=\"fill:#ff0000;stroke:#ff0000;\" x=\"311.743874\" xlink:href=\"#m7b5e206e63\" y=\"179.883187\"/>\r\n     <use style=\"fill:#ff0000;stroke:#ff0000;\" x=\"233.004987\" xlink:href=\"#m7b5e206e63\" y=\"154.578937\"/>\r\n     <use style=\"fill:#ff0000;stroke:#ff0000;\" x=\"280.163977\" xlink:href=\"#m7b5e206e63\" y=\"150.230256\"/>\r\n     <use style=\"fill:#ff0000;stroke:#ff0000;\" x=\"287.006461\" xlink:href=\"#m7b5e206e63\" y=\"148.872034\"/>\r\n     <use style=\"fill:#ff0000;stroke:#ff0000;\" x=\"255.528654\" xlink:href=\"#m7b5e206e63\" y=\"184.359964\"/>\r\n     <use style=\"fill:#ff0000;stroke:#ff0000;\" x=\"263.768904\" xlink:href=\"#m7b5e206e63\" y=\"155.610662\"/>\r\n     <use style=\"fill:#ff0000;stroke:#ff0000;\" x=\"294.849171\" xlink:href=\"#m7b5e206e63\" y=\"158.359301\"/>\r\n     <use style=\"fill:#ff0000;stroke:#ff0000;\" x=\"262.459764\" xlink:href=\"#m7b5e206e63\" y=\"158.098595\"/>\r\n     <use style=\"fill:#ff0000;stroke:#ff0000;\" x=\"256.59589\" xlink:href=\"#m7b5e206e63\" y=\"152.341998\"/>\r\n     <use style=\"fill:#ff0000;stroke:#ff0000;\" x=\"231.834585\" xlink:href=\"#m7b5e206e63\" y=\"133.180195\"/>\r\n     <use style=\"fill:#ff0000;stroke:#ff0000;\" x=\"262.553128\" xlink:href=\"#m7b5e206e63\" y=\"181.460048\"/>\r\n     <use style=\"fill:#ff0000;stroke:#ff0000;\" x=\"264.760578\" xlink:href=\"#m7b5e206e63\" y=\"142.64638\"/>\r\n     <use style=\"fill:#ff0000;stroke:#ff0000;\" x=\"334.648092\" xlink:href=\"#m7b5e206e63\" y=\"166.224939\"/>\r\n     <use style=\"fill:#ff0000;stroke:#ff0000;\" x=\"241.804083\" xlink:href=\"#m7b5e206e63\" y=\"165.711956\"/>\r\n     <use style=\"fill:#ff0000;stroke:#ff0000;\" x=\"271.257252\" xlink:href=\"#m7b5e206e63\" y=\"154.765193\"/>\r\n     <use style=\"fill:#ff0000;stroke:#ff0000;\" x=\"302.571244\" xlink:href=\"#m7b5e206e63\" y=\"168.526926\"/>\r\n     <use style=\"fill:#ff0000;stroke:#ff0000;\" x=\"279.819855\" xlink:href=\"#m7b5e206e63\" y=\"130.744352\"/>\r\n     <use style=\"fill:#ff0000;stroke:#ff0000;\" x=\"274.077455\" xlink:href=\"#m7b5e206e63\" y=\"170.582389\"/>\r\n     <use style=\"fill:#ff0000;stroke:#ff0000;\" x=\"277.736801\" xlink:href=\"#m7b5e206e63\" y=\"172.778747\"/>\r\n     <use style=\"fill:#ff0000;stroke:#ff0000;\" x=\"291.167968\" xlink:href=\"#m7b5e206e63\" y=\"163.450097\"/>\r\n     <use style=\"fill:#ff0000;stroke:#ff0000;\" x=\"271.496047\" xlink:href=\"#m7b5e206e63\" y=\"133.280181\"/>\r\n     <use style=\"fill:#ff0000;stroke:#ff0000;\" x=\"262.599037\" xlink:href=\"#m7b5e206e63\" y=\"180.589136\"/>\r\n     <use style=\"fill:#ff0000;stroke:#ff0000;\" x=\"297.547896\" xlink:href=\"#m7b5e206e63\" y=\"177.553956\"/>\r\n     <use style=\"fill:#ff0000;stroke:#ff0000;\" x=\"305.193559\" xlink:href=\"#m7b5e206e63\" y=\"157.971988\"/>\r\n     <use style=\"fill:#ff0000;stroke:#ff0000;\" x=\"270.068827\" xlink:href=\"#m7b5e206e63\" y=\"145.927435\"/>\r\n     <use style=\"fill:#ff0000;stroke:#ff0000;\" x=\"261.231442\" xlink:href=\"#m7b5e206e63\" y=\"157.226843\"/>\r\n     <use style=\"fill:#ff0000;stroke:#ff0000;\" x=\"291.4977\" xlink:href=\"#m7b5e206e63\" y=\"138.352136\"/>\r\n     <use style=\"fill:#ff0000;stroke:#ff0000;\" x=\"272.100519\" xlink:href=\"#m7b5e206e63\" y=\"153.327066\"/>\r\n     <use style=\"fill:#ff0000;stroke:#ff0000;\" x=\"302.059424\" xlink:href=\"#m7b5e206e63\" y=\"153.087937\"/>\r\n     <use style=\"fill:#ff0000;stroke:#ff0000;\" x=\"250.118276\" xlink:href=\"#m7b5e206e63\" y=\"162.81932\"/>\r\n     <use style=\"fill:#ff0000;stroke:#ff0000;\" x=\"337.677104\" xlink:href=\"#m7b5e206e63\" y=\"167.873991\"/>\r\n     <use style=\"fill:#ff0000;stroke:#ff0000;\" x=\"283.287903\" xlink:href=\"#m7b5e206e63\" y=\"118.080842\"/>\r\n     <use style=\"fill:#ff0000;stroke:#ff0000;\" x=\"273.349738\" xlink:href=\"#m7b5e206e63\" y=\"129.760569\"/>\r\n     <use style=\"fill:#ff0000;stroke:#ff0000;\" x=\"273.014314\" xlink:href=\"#m7b5e206e63\" y=\"148.508026\"/>\r\n     <use style=\"fill:#ff0000;stroke:#ff0000;\" x=\"266.879443\" xlink:href=\"#m7b5e206e63\" y=\"154.243527\"/>\r\n     <use style=\"fill:#ff0000;stroke:#ff0000;\" x=\"284.849789\" xlink:href=\"#m7b5e206e63\" y=\"144.644802\"/>\r\n     <use style=\"fill:#ff0000;stroke:#ff0000;\" x=\"264.339617\" xlink:href=\"#m7b5e206e63\" y=\"167.225209\"/>\r\n    </g>\r\n   </g>\r\n   <g id=\"PathCollection_2\">\r\n    <defs>\r\n     <path d=\"M 0 3 \r\nC 0.795609 3 1.55874 2.683901 2.12132 2.12132 \r\nC 2.683901 1.55874 3 0.795609 3 0 \r\nC 3 -0.795609 2.683901 -1.55874 2.12132 -2.12132 \r\nC 1.55874 -2.683901 0.795609 -3 0 -3 \r\nC -0.795609 -3 -1.55874 -2.683901 -2.12132 -2.12132 \r\nC -2.683901 -1.55874 -3 -0.795609 -3 0 \r\nC -3 0.795609 -2.683901 1.55874 -2.12132 2.12132 \r\nC -1.55874 2.683901 -0.795609 3 0 3 \r\nz\r\n\" id=\"mc9674e3d6d\" style=\"stroke:#ffff00;\"/>\r\n    </defs>\r\n    <g clip-path=\"url(#pfdaa092a8e)\">\r\n     <use style=\"fill:#ffff00;stroke:#ffff00;\" x=\"122.99358\" xlink:href=\"#mc9674e3d6d\" y=\"43.957034\"/>\r\n     <use style=\"fill:#ffff00;stroke:#ffff00;\" x=\"100.44255\" xlink:href=\"#mc9674e3d6d\" y=\"61.258354\"/>\r\n     <use style=\"fill:#ffff00;stroke:#ffff00;\" x=\"126.850193\" xlink:href=\"#mc9674e3d6d\" y=\"64.175549\"/>\r\n     <use style=\"fill:#ffff00;stroke:#ffff00;\" x=\"135.693124\" xlink:href=\"#mc9674e3d6d\" y=\"86.731785\"/>\r\n     <use style=\"fill:#ffff00;stroke:#ffff00;\" x=\"130.164721\" xlink:href=\"#mc9674e3d6d\" y=\"19.094721\"/>\r\n     <use style=\"fill:#ffff00;stroke:#ffff00;\" x=\"104.113892\" xlink:href=\"#mc9674e3d6d\" y=\"106.885702\"/>\r\n     <use style=\"fill:#ffff00;stroke:#ffff00;\" x=\"164.355907\" xlink:href=\"#mc9674e3d6d\" y=\"44.920182\"/>\r\n     <use style=\"fill:#ffff00;stroke:#ffff00;\" x=\"122.347213\" xlink:href=\"#mc9674e3d6d\" y=\"48.559054\"/>\r\n     <use style=\"fill:#ffff00;stroke:#ffff00;\" x=\"188.84447\" xlink:href=\"#mc9674e3d6d\" y=\"66.144192\"/>\r\n     <use style=\"fill:#ffff00;stroke:#ffff00;\" x=\"112.417374\" xlink:href=\"#mc9674e3d6d\" y=\"73.44084\"/>\r\n     <use style=\"fill:#ffff00;stroke:#ffff00;\" x=\"124.296255\" xlink:href=\"#mc9674e3d6d\" y=\"57.868685\"/>\r\n     <use style=\"fill:#ffff00;stroke:#ffff00;\" x=\"110.093295\" xlink:href=\"#mc9674e3d6d\" y=\"62.951323\"/>\r\n     <use style=\"fill:#ffff00;stroke:#ffff00;\" x=\"152.02024\" xlink:href=\"#mc9674e3d6d\" y=\"78.472027\"/>\r\n     <use style=\"fill:#ffff00;stroke:#ffff00;\" x=\"51.884513\" xlink:href=\"#mc9674e3d6d\" y=\"93.64381\"/>\r\n     <use style=\"fill:#ffff00;stroke:#ffff00;\" x=\"135.833421\" xlink:href=\"#mc9674e3d6d\" y=\"83.038515\"/>\r\n     <use style=\"fill:#ffff00;stroke:#ffff00;\" x=\"83.90647\" xlink:href=\"#mc9674e3d6d\" y=\"51.272212\"/>\r\n     <use style=\"fill:#ffff00;stroke:#ffff00;\" x=\"73.35226\" xlink:href=\"#mc9674e3d6d\" y=\"77.062317\"/>\r\n     <use style=\"fill:#ffff00;stroke:#ffff00;\" x=\"156.794678\" xlink:href=\"#mc9674e3d6d\" y=\"75.623233\"/>\r\n     <use style=\"fill:#ffff00;stroke:#ffff00;\" x=\"172.209382\" xlink:href=\"#mc9674e3d6d\" y=\"86.148315\"/>\r\n     <use style=\"fill:#ffff00;stroke:#ffff00;\" x=\"148.583699\" xlink:href=\"#mc9674e3d6d\" y=\"36.732841\"/>\r\n     <use style=\"fill:#ffff00;stroke:#ffff00;\" x=\"135.271181\" xlink:href=\"#mc9674e3d6d\" y=\"101.841689\"/>\r\n     <use style=\"fill:#ffff00;stroke:#ffff00;\" x=\"106.283863\" xlink:href=\"#mc9674e3d6d\" y=\"88.375005\"/>\r\n     <use style=\"fill:#ffff00;stroke:#ffff00;\" x=\"92.962463\" xlink:href=\"#mc9674e3d6d\" y=\"55.114469\"/>\r\n     <use style=\"fill:#ffff00;stroke:#ffff00;\" x=\"152.360129\" xlink:href=\"#mc9674e3d6d\" y=\"47.242501\"/>\r\n     <use style=\"fill:#ffff00;stroke:#ffff00;\" x=\"144.837878\" xlink:href=\"#mc9674e3d6d\" y=\"62.473542\"/>\r\n     <use style=\"fill:#ffff00;stroke:#ffff00;\" x=\"121.935355\" xlink:href=\"#mc9674e3d6d\" y=\"33.994308\"/>\r\n     <use style=\"fill:#ffff00;stroke:#ffff00;\" x=\"81.201008\" xlink:href=\"#mc9674e3d6d\" y=\"72.061798\"/>\r\n     <use style=\"fill:#ffff00;stroke:#ffff00;\" x=\"88.763778\" xlink:href=\"#mc9674e3d6d\" y=\"63.292985\"/>\r\n     <use style=\"fill:#ffff00;stroke:#ffff00;\" x=\"135.040911\" xlink:href=\"#mc9674e3d6d\" y=\"91.60102\"/>\r\n     <use style=\"fill:#ffff00;stroke:#ffff00;\" x=\"122.702466\" xlink:href=\"#mc9674e3d6d\" y=\"25.609622\"/>\r\n     <use style=\"fill:#ffff00;stroke:#ffff00;\" x=\"139.107079\" xlink:href=\"#mc9674e3d6d\" y=\"37.689905\"/>\r\n     <use style=\"fill:#ffff00;stroke:#ffff00;\" x=\"153.882648\" xlink:href=\"#mc9674e3d6d\" y=\"84.780172\"/>\r\n     <use style=\"fill:#ffff00;stroke:#ffff00;\" x=\"138.371791\" xlink:href=\"#mc9674e3d6d\" y=\"98.668308\"/>\r\n     <use style=\"fill:#ffff00;stroke:#ffff00;\" x=\"191.186541\" xlink:href=\"#mc9674e3d6d\" y=\"72.117167\"/>\r\n     <use style=\"fill:#ffff00;stroke:#ffff00;\" x=\"119.793256\" xlink:href=\"#mc9674e3d6d\" y=\"66.516075\"/>\r\n     <use style=\"fill:#ffff00;stroke:#ffff00;\" x=\"135.541737\" xlink:href=\"#mc9674e3d6d\" y=\"66.29986\"/>\r\n     <use style=\"fill:#ffff00;stroke:#ffff00;\" x=\"130.449306\" xlink:href=\"#mc9674e3d6d\" y=\"99.346332\"/>\r\n     <use style=\"fill:#ffff00;stroke:#ffff00;\" x=\"122.212971\" xlink:href=\"#mc9674e3d6d\" y=\"24.955839\"/>\r\n     <use style=\"fill:#ffff00;stroke:#ffff00;\" x=\"169.830746\" xlink:href=\"#mc9674e3d6d\" y=\"57.013893\"/>\r\n     <use style=\"fill:#ffff00;stroke:#ffff00;\" x=\"136.056839\" xlink:href=\"#mc9674e3d6d\" y=\"92.478723\"/>\r\n     <use style=\"fill:#ffff00;stroke:#ffff00;\" x=\"91.663312\" xlink:href=\"#mc9674e3d6d\" y=\"65.948298\"/>\r\n     <use style=\"fill:#ffff00;stroke:#ffff00;\" x=\"98.406757\" xlink:href=\"#mc9674e3d6d\" y=\"62.257003\"/>\r\n     <use style=\"fill:#ffff00;stroke:#ffff00;\" x=\"128.161481\" xlink:href=\"#mc9674e3d6d\" y=\"60.617135\"/>\r\n     <use style=\"fill:#ffff00;stroke:#ffff00;\" x=\"119.36702\" xlink:href=\"#mc9674e3d6d\" y=\"95.706167\"/>\r\n     <use style=\"fill:#ffff00;stroke:#ffff00;\" x=\"173.201985\" xlink:href=\"#mc9674e3d6d\" y=\"47.643261\"/>\r\n     <use style=\"fill:#ffff00;stroke:#ffff00;\" x=\"124.919118\" xlink:href=\"#mc9674e3d6d\" y=\"50.191303\"/>\r\n     <use style=\"fill:#ffff00;stroke:#ffff00;\" x=\"97.363081\" xlink:href=\"#mc9674e3d6d\" y=\"62.630574\"/>\r\n     <use style=\"fill:#ffff00;stroke:#ffff00;\" x=\"116.337437\" xlink:href=\"#mc9674e3d6d\" y=\"32.034109\"/>\r\n     <use style=\"fill:#ffff00;stroke:#ffff00;\" x=\"84.426135\" xlink:href=\"#mc9674e3d6d\" y=\"84.111442\"/>\r\n     <use style=\"fill:#ffff00;stroke:#ffff00;\" x=\"92.839416\" xlink:href=\"#mc9674e3d6d\" y=\"38.21989\"/>\r\n     <use style=\"fill:#ffff00;stroke:#ffff00;\" x=\"117.411302\" xlink:href=\"#mc9674e3d6d\" y=\"45.142772\"/>\r\n     <use style=\"fill:#ffff00;stroke:#ffff00;\" x=\"134.02898\" xlink:href=\"#mc9674e3d6d\" y=\"76.581932\"/>\r\n     <use style=\"fill:#ffff00;stroke:#ffff00;\" x=\"141.233649\" xlink:href=\"#mc9674e3d6d\" y=\"76.53547\"/>\r\n     <use style=\"fill:#ffff00;stroke:#ffff00;\" x=\"109.790653\" xlink:href=\"#mc9674e3d6d\" y=\"60.629944\"/>\r\n     <use style=\"fill:#ffff00;stroke:#ffff00;\" x=\"110.996986\" xlink:href=\"#mc9674e3d6d\" y=\"51.450711\"/>\r\n     <use style=\"fill:#ffff00;stroke:#ffff00;\" x=\"124.592032\" xlink:href=\"#mc9674e3d6d\" y=\"82.902698\"/>\r\n     <use style=\"fill:#ffff00;stroke:#ffff00;\" x=\"167.346676\" xlink:href=\"#mc9674e3d6d\" y=\"91.87476\"/>\r\n     <use style=\"fill:#ffff00;stroke:#ffff00;\" x=\"147.783953\" xlink:href=\"#mc9674e3d6d\" y=\"77.800335\"/>\r\n     <use style=\"fill:#ffff00;stroke:#ffff00;\" x=\"145.214299\" xlink:href=\"#mc9674e3d6d\" y=\"57.821466\"/>\r\n     <use style=\"fill:#ffff00;stroke:#ffff00;\" x=\"86.903009\" xlink:href=\"#mc9674e3d6d\" y=\"74.422735\"/>\r\n     <use style=\"fill:#ffff00;stroke:#ffff00;\" x=\"125.41597\" xlink:href=\"#mc9674e3d6d\" y=\"30.014152\"/>\r\n     <use style=\"fill:#ffff00;stroke:#ffff00;\" x=\"134.72834\" xlink:href=\"#mc9674e3d6d\" y=\"68.29533\"/>\r\n     <use style=\"fill:#ffff00;stroke:#ffff00;\" x=\"109.24922\" xlink:href=\"#mc9674e3d6d\" y=\"38.528012\"/>\r\n     <use style=\"fill:#ffff00;stroke:#ffff00;\" x=\"115.829967\" xlink:href=\"#mc9674e3d6d\" y=\"60.399815\"/>\r\n     <use style=\"fill:#ffff00;stroke:#ffff00;\" x=\"140.956186\" xlink:href=\"#mc9674e3d6d\" y=\"60.741139\"/>\r\n     <use style=\"fill:#ffff00;stroke:#ffff00;\" x=\"116.164775\" xlink:href=\"#mc9674e3d6d\" y=\"21.363118\"/>\r\n     <use style=\"fill:#ffff00;stroke:#ffff00;\" x=\"132.170358\" xlink:href=\"#mc9674e3d6d\" y=\"144.267351\"/>\r\n     <use style=\"fill:#ffff00;stroke:#ffff00;\" x=\"138.932149\" xlink:href=\"#mc9674e3d6d\" y=\"62.290039\"/>\r\n     <use style=\"fill:#ffff00;stroke:#ffff00;\" x=\"127.399795\" xlink:href=\"#mc9674e3d6d\" y=\"61.385031\"/>\r\n     <use style=\"fill:#ffff00;stroke:#ffff00;\" x=\"210.643329\" xlink:href=\"#mc9674e3d6d\" y=\"86.187502\"/>\r\n     <use style=\"fill:#ffff00;stroke:#ffff00;\" x=\"49.458807\" xlink:href=\"#mc9674e3d6d\" y=\"70.567149\"/>\r\n     <use style=\"fill:#ffff00;stroke:#ffff00;\" x=\"132.088689\" xlink:href=\"#mc9674e3d6d\" y=\"73.639156\"/>\r\n     <use style=\"fill:#ffff00;stroke:#ffff00;\" x=\"159.545469\" xlink:href=\"#mc9674e3d6d\" y=\"103.93361\"/>\r\n     <use style=\"fill:#ffff00;stroke:#ffff00;\" x=\"138.462752\" xlink:href=\"#mc9674e3d6d\" y=\"39.349406\"/>\r\n     <use style=\"fill:#ffff00;stroke:#ffff00;\" x=\"134.958667\" xlink:href=\"#mc9674e3d6d\" y=\"65.767702\"/>\r\n     <use style=\"fill:#ffff00;stroke:#ffff00;\" x=\"82.190659\" xlink:href=\"#mc9674e3d6d\" y=\"57.270558\"/>\r\n     <use style=\"fill:#ffff00;stroke:#ffff00;\" x=\"97.343546\" xlink:href=\"#mc9674e3d6d\" y=\"64.748835\"/>\r\n     <use style=\"fill:#ffff00;stroke:#ffff00;\" x=\"169.513336\" xlink:href=\"#mc9674e3d6d\" y=\"45.602359\"/>\r\n     <use style=\"fill:#ffff00;stroke:#ffff00;\" x=\"166.07956\" xlink:href=\"#mc9674e3d6d\" y=\"65.580369\"/>\r\n     <use style=\"fill:#ffff00;stroke:#ffff00;\" x=\"147.620136\" xlink:href=\"#mc9674e3d6d\" y=\"54.962831\"/>\r\n     <use style=\"fill:#ffff00;stroke:#ffff00;\" x=\"133.392101\" xlink:href=\"#mc9674e3d6d\" y=\"45.2814\"/>\r\n     <use style=\"fill:#ffff00;stroke:#ffff00;\" x=\"95.659947\" xlink:href=\"#mc9674e3d6d\" y=\"49.642265\"/>\r\n     <use style=\"fill:#ffff00;stroke:#ffff00;\" x=\"156.082423\" xlink:href=\"#mc9674e3d6d\" y=\"52.467434\"/>\r\n     <use style=\"fill:#ffff00;stroke:#ffff00;\" x=\"165.013401\" xlink:href=\"#mc9674e3d6d\" y=\"71.001976\"/>\r\n     <use style=\"fill:#ffff00;stroke:#ffff00;\" x=\"78.631079\" xlink:href=\"#mc9674e3d6d\" y=\"63.057887\"/>\r\n     <use style=\"fill:#ffff00;stroke:#ffff00;\" x=\"164.016848\" xlink:href=\"#mc9674e3d6d\" y=\"64.382475\"/>\r\n     <use style=\"fill:#ffff00;stroke:#ffff00;\" x=\"122.573689\" xlink:href=\"#mc9674e3d6d\" y=\"75.992476\"/>\r\n     <use style=\"fill:#ffff00;stroke:#ffff00;\" x=\"82.055149\" xlink:href=\"#mc9674e3d6d\" y=\"71.465499\"/>\r\n     <use style=\"fill:#ffff00;stroke:#ffff00;\" x=\"110.140258\" xlink:href=\"#mc9674e3d6d\" y=\"102.053213\"/>\r\n     <use style=\"fill:#ffff00;stroke:#ffff00;\" x=\"157.667713\" xlink:href=\"#mc9674e3d6d\" y=\"81.616088\"/>\r\n     <use style=\"fill:#ffff00;stroke:#ffff00;\" x=\"163.163443\" xlink:href=\"#mc9674e3d6d\" y=\"56.19792\"/>\r\n     <use style=\"fill:#ffff00;stroke:#ffff00;\" x=\"71.088781\" xlink:href=\"#mc9674e3d6d\" y=\"17.083636\"/>\r\n     <use style=\"fill:#ffff00;stroke:#ffff00;\" x=\"105.655614\" xlink:href=\"#mc9674e3d6d\" y=\"37.468477\"/>\r\n     <use style=\"fill:#ffff00;stroke:#ffff00;\" x=\"127.903565\" xlink:href=\"#mc9674e3d6d\" y=\"49.647028\"/>\r\n     <use style=\"fill:#ffff00;stroke:#ffff00;\" x=\"162.036831\" xlink:href=\"#mc9674e3d6d\" y=\"86.5367\"/>\r\n     <use style=\"fill:#ffff00;stroke:#ffff00;\" x=\"168.706863\" xlink:href=\"#mc9674e3d6d\" y=\"103.283389\"/>\r\n     <use style=\"fill:#ffff00;stroke:#ffff00;\" x=\"116.49811\" xlink:href=\"#mc9674e3d6d\" y=\"82.937357\"/>\r\n     <use style=\"fill:#ffff00;stroke:#ffff00;\" x=\"144.130567\" xlink:href=\"#mc9674e3d6d\" y=\"57.816373\"/>\r\n     <use style=\"fill:#ffff00;stroke:#ffff00;\" x=\"218.35924\" xlink:href=\"#mc9674e3d6d\" y=\"60.971097\"/>\r\n     <use style=\"fill:#ffff00;stroke:#ffff00;\" x=\"125.833226\" xlink:href=\"#mc9674e3d6d\" y=\"56.452649\"/>\r\n    </g>\r\n   </g>\r\n   <g id=\"matplotlib.axis_1\">\r\n    <g id=\"xtick_1\">\r\n     <g id=\"line2d_1\">\r\n      <defs>\r\n       <path d=\"M 0 0 \r\nL 0 3.5 \r\n\" id=\"m9141bcdf8f\" style=\"stroke:#000000;stroke-width:0.8;\"/>\r\n      </defs>\r\n      <g>\r\n       <use style=\"stroke:#000000;stroke-width:0.8;\" x=\"53.544063\" xlink:href=\"#m9141bcdf8f\" y=\"224.64\"/>\r\n      </g>\r\n     </g>\r\n     <g id=\"text_1\">\r\n      <!-- 3 -->\r\n      <g transform=\"translate(50.362813 239.238437)scale(0.1 -0.1)\">\r\n       <defs>\r\n        <path d=\"M 2597 2516 \r\nQ 3050 2419 3304 2112 \r\nQ 3559 1806 3559 1356 \r\nQ 3559 666 3084 287 \r\nQ 2609 -91 1734 -91 \r\nQ 1441 -91 1130 -33 \r\nQ 819 25 488 141 \r\nL 488 750 \r\nQ 750 597 1062 519 \r\nQ 1375 441 1716 441 \r\nQ 2309 441 2620 675 \r\nQ 2931 909 2931 1356 \r\nQ 2931 1769 2642 2001 \r\nQ 2353 2234 1838 2234 \r\nL 1294 2234 \r\nL 1294 2753 \r\nL 1863 2753 \r\nQ 2328 2753 2575 2939 \r\nQ 2822 3125 2822 3475 \r\nQ 2822 3834 2567 4026 \r\nQ 2313 4219 1838 4219 \r\nQ 1578 4219 1281 4162 \r\nQ 984 4106 628 3988 \r\nL 628 4550 \r\nQ 988 4650 1302 4700 \r\nQ 1616 4750 1894 4750 \r\nQ 2613 4750 3031 4423 \r\nQ 3450 4097 3450 3541 \r\nQ 3450 3153 3228 2886 \r\nQ 3006 2619 2597 2516 \r\nz\r\n\" id=\"DejaVuSans-33\" transform=\"scale(0.015625)\"/>\r\n       </defs>\r\n       <use xlink:href=\"#DejaVuSans-33\"/>\r\n      </g>\r\n     </g>\r\n    </g>\r\n    <g id=\"xtick_2\">\r\n     <g id=\"line2d_2\">\r\n      <g>\r\n       <use style=\"stroke:#000000;stroke-width:0.8;\" x=\"125.483281\" xlink:href=\"#m9141bcdf8f\" y=\"224.64\"/>\r\n      </g>\r\n     </g>\r\n     <g id=\"text_2\">\r\n      <!-- 4 -->\r\n      <g transform=\"translate(122.302031 239.238437)scale(0.1 -0.1)\">\r\n       <defs>\r\n        <path d=\"M 2419 4116 \r\nL 825 1625 \r\nL 2419 1625 \r\nL 2419 4116 \r\nz\r\nM 2253 4666 \r\nL 3047 4666 \r\nL 3047 1625 \r\nL 3713 1625 \r\nL 3713 1100 \r\nL 3047 1100 \r\nL 3047 0 \r\nL 2419 0 \r\nL 2419 1100 \r\nL 313 1100 \r\nL 313 1709 \r\nL 2253 4666 \r\nz\r\n\" id=\"DejaVuSans-34\" transform=\"scale(0.015625)\"/>\r\n       </defs>\r\n       <use xlink:href=\"#DejaVuSans-34\"/>\r\n      </g>\r\n     </g>\r\n    </g>\r\n    <g id=\"xtick_3\">\r\n     <g id=\"line2d_3\">\r\n      <g>\r\n       <use style=\"stroke:#000000;stroke-width:0.8;\" x=\"197.422499\" xlink:href=\"#m9141bcdf8f\" y=\"224.64\"/>\r\n      </g>\r\n     </g>\r\n     <g id=\"text_3\">\r\n      <!-- 5 -->\r\n      <g transform=\"translate(194.241249 239.238437)scale(0.1 -0.1)\">\r\n       <defs>\r\n        <path d=\"M 691 4666 \r\nL 3169 4666 \r\nL 3169 4134 \r\nL 1269 4134 \r\nL 1269 2991 \r\nQ 1406 3038 1543 3061 \r\nQ 1681 3084 1819 3084 \r\nQ 2600 3084 3056 2656 \r\nQ 3513 2228 3513 1497 \r\nQ 3513 744 3044 326 \r\nQ 2575 -91 1722 -91 \r\nQ 1428 -91 1123 -41 \r\nQ 819 9 494 109 \r\nL 494 744 \r\nQ 775 591 1075 516 \r\nQ 1375 441 1709 441 \r\nQ 2250 441 2565 725 \r\nQ 2881 1009 2881 1497 \r\nQ 2881 1984 2565 2268 \r\nQ 2250 2553 1709 2553 \r\nQ 1456 2553 1204 2497 \r\nQ 953 2441 691 2322 \r\nL 691 4666 \r\nz\r\n\" id=\"DejaVuSans-35\" transform=\"scale(0.015625)\"/>\r\n       </defs>\r\n       <use xlink:href=\"#DejaVuSans-35\"/>\r\n      </g>\r\n     </g>\r\n    </g>\r\n    <g id=\"xtick_4\">\r\n     <g id=\"line2d_4\">\r\n      <g>\r\n       <use style=\"stroke:#000000;stroke-width:0.8;\" x=\"269.361717\" xlink:href=\"#m9141bcdf8f\" y=\"224.64\"/>\r\n      </g>\r\n     </g>\r\n     <g id=\"text_4\">\r\n      <!-- 6 -->\r\n      <g transform=\"translate(266.180467 239.238437)scale(0.1 -0.1)\">\r\n       <defs>\r\n        <path d=\"M 2113 2584 \r\nQ 1688 2584 1439 2293 \r\nQ 1191 2003 1191 1497 \r\nQ 1191 994 1439 701 \r\nQ 1688 409 2113 409 \r\nQ 2538 409 2786 701 \r\nQ 3034 994 3034 1497 \r\nQ 3034 2003 2786 2293 \r\nQ 2538 2584 2113 2584 \r\nz\r\nM 3366 4563 \r\nL 3366 3988 \r\nQ 3128 4100 2886 4159 \r\nQ 2644 4219 2406 4219 \r\nQ 1781 4219 1451 3797 \r\nQ 1122 3375 1075 2522 \r\nQ 1259 2794 1537 2939 \r\nQ 1816 3084 2150 3084 \r\nQ 2853 3084 3261 2657 \r\nQ 3669 2231 3669 1497 \r\nQ 3669 778 3244 343 \r\nQ 2819 -91 2113 -91 \r\nQ 1303 -91 875 529 \r\nQ 447 1150 447 2328 \r\nQ 447 3434 972 4092 \r\nQ 1497 4750 2381 4750 \r\nQ 2619 4750 2861 4703 \r\nQ 3103 4656 3366 4563 \r\nz\r\n\" id=\"DejaVuSans-36\" transform=\"scale(0.015625)\"/>\r\n       </defs>\r\n       <use xlink:href=\"#DejaVuSans-36\"/>\r\n      </g>\r\n     </g>\r\n    </g>\r\n    <g id=\"xtick_5\">\r\n     <g id=\"line2d_5\">\r\n      <g>\r\n       <use style=\"stroke:#000000;stroke-width:0.8;\" x=\"341.300935\" xlink:href=\"#m9141bcdf8f\" y=\"224.64\"/>\r\n      </g>\r\n     </g>\r\n     <g id=\"text_5\">\r\n      <!-- 7 -->\r\n      <g transform=\"translate(338.119685 239.238437)scale(0.1 -0.1)\">\r\n       <defs>\r\n        <path d=\"M 525 4666 \r\nL 3525 4666 \r\nL 3525 4397 \r\nL 1831 0 \r\nL 1172 0 \r\nL 2766 4134 \r\nL 525 4134 \r\nL 525 4666 \r\nz\r\n\" id=\"DejaVuSans-37\" transform=\"scale(0.015625)\"/>\r\n       </defs>\r\n       <use xlink:href=\"#DejaVuSans-37\"/>\r\n      </g>\r\n     </g>\r\n    </g>\r\n    <g id=\"text_6\">\r\n     <!-- Width -->\r\n     <g transform=\"translate(187.117188 252.916562)scale(0.1 -0.1)\">\r\n      <defs>\r\n       <path d=\"M 213 4666 \r\nL 850 4666 \r\nL 1831 722 \r\nL 2809 4666 \r\nL 3519 4666 \r\nL 4500 722 \r\nL 5478 4666 \r\nL 6119 4666 \r\nL 4947 0 \r\nL 4153 0 \r\nL 3169 4050 \r\nL 2175 0 \r\nL 1381 0 \r\nL 213 4666 \r\nz\r\n\" id=\"DejaVuSans-57\" transform=\"scale(0.015625)\"/>\r\n       <path d=\"M 603 3500 \r\nL 1178 3500 \r\nL 1178 0 \r\nL 603 0 \r\nL 603 3500 \r\nz\r\nM 603 4863 \r\nL 1178 4863 \r\nL 1178 4134 \r\nL 603 4134 \r\nL 603 4863 \r\nz\r\n\" id=\"DejaVuSans-69\" transform=\"scale(0.015625)\"/>\r\n       <path d=\"M 2906 2969 \r\nL 2906 4863 \r\nL 3481 4863 \r\nL 3481 0 \r\nL 2906 0 \r\nL 2906 525 \r\nQ 2725 213 2448 61 \r\nQ 2172 -91 1784 -91 \r\nQ 1150 -91 751 415 \r\nQ 353 922 353 1747 \r\nQ 353 2572 751 3078 \r\nQ 1150 3584 1784 3584 \r\nQ 2172 3584 2448 3432 \r\nQ 2725 3281 2906 2969 \r\nz\r\nM 947 1747 \r\nQ 947 1113 1208 752 \r\nQ 1469 391 1925 391 \r\nQ 2381 391 2643 752 \r\nQ 2906 1113 2906 1747 \r\nQ 2906 2381 2643 2742 \r\nQ 2381 3103 1925 3103 \r\nQ 1469 3103 1208 2742 \r\nQ 947 2381 947 1747 \r\nz\r\n\" id=\"DejaVuSans-64\" transform=\"scale(0.015625)\"/>\r\n       <path d=\"M 1172 4494 \r\nL 1172 3500 \r\nL 2356 3500 \r\nL 2356 3053 \r\nL 1172 3053 \r\nL 1172 1153 \r\nQ 1172 725 1289 603 \r\nQ 1406 481 1766 481 \r\nL 2356 481 \r\nL 2356 0 \r\nL 1766 0 \r\nQ 1100 0 847 248 \r\nQ 594 497 594 1153 \r\nL 594 3053 \r\nL 172 3053 \r\nL 172 3500 \r\nL 594 3500 \r\nL 594 4494 \r\nL 1172 4494 \r\nz\r\n\" id=\"DejaVuSans-74\" transform=\"scale(0.015625)\"/>\r\n       <path d=\"M 3513 2113 \r\nL 3513 0 \r\nL 2938 0 \r\nL 2938 2094 \r\nQ 2938 2591 2744 2837 \r\nQ 2550 3084 2163 3084 \r\nQ 1697 3084 1428 2787 \r\nQ 1159 2491 1159 1978 \r\nL 1159 0 \r\nL 581 0 \r\nL 581 4863 \r\nL 1159 4863 \r\nL 1159 2956 \r\nQ 1366 3272 1645 3428 \r\nQ 1925 3584 2291 3584 \r\nQ 2894 3584 3203 3211 \r\nQ 3513 2838 3513 2113 \r\nz\r\n\" id=\"DejaVuSans-68\" transform=\"scale(0.015625)\"/>\r\n      </defs>\r\n      <use xlink:href=\"#DejaVuSans-57\"/>\r\n      <use x=\"96.626953\" xlink:href=\"#DejaVuSans-69\"/>\r\n      <use x=\"124.410156\" xlink:href=\"#DejaVuSans-64\"/>\r\n      <use x=\"187.886719\" xlink:href=\"#DejaVuSans-74\"/>\r\n      <use x=\"227.095703\" xlink:href=\"#DejaVuSans-68\"/>\r\n     </g>\r\n    </g>\r\n   </g>\r\n   <g id=\"matplotlib.axis_2\">\r\n    <g id=\"ytick_1\">\r\n     <g id=\"line2d_6\">\r\n      <defs>\r\n       <path d=\"M 0 0 \r\nL -3.5 0 \r\n\" id=\"m7cc55941b5\" style=\"stroke:#000000;stroke-width:0.8;\"/>\r\n      </defs>\r\n      <g>\r\n       <use style=\"stroke:#000000;stroke-width:0.8;\" x=\"34.240625\" xlink:href=\"#m7cc55941b5\" y=\"204.925906\"/>\r\n      </g>\r\n     </g>\r\n     <g id=\"text_7\">\r\n      <!-- 5 -->\r\n      <g transform=\"translate(20.878125 208.725125)scale(0.1 -0.1)\">\r\n       <use xlink:href=\"#DejaVuSans-35\"/>\r\n      </g>\r\n     </g>\r\n    </g>\r\n    <g id=\"ytick_2\">\r\n     <g id=\"line2d_7\">\r\n      <g>\r\n       <use style=\"stroke:#000000;stroke-width:0.8;\" x=\"34.240625\" xlink:href=\"#m7cc55941b5\" y=\"157.418009\"/>\r\n      </g>\r\n     </g>\r\n     <g id=\"text_8\">\r\n      <!-- 6 -->\r\n      <g transform=\"translate(20.878125 161.217228)scale(0.1 -0.1)\">\r\n       <use xlink:href=\"#DejaVuSans-36\"/>\r\n      </g>\r\n     </g>\r\n    </g>\r\n    <g id=\"ytick_3\">\r\n     <g id=\"line2d_8\">\r\n      <g>\r\n       <use style=\"stroke:#000000;stroke-width:0.8;\" x=\"34.240625\" xlink:href=\"#m7cc55941b5\" y=\"109.910113\"/>\r\n      </g>\r\n     </g>\r\n     <g id=\"text_9\">\r\n      <!-- 7 -->\r\n      <g transform=\"translate(20.878125 113.709332)scale(0.1 -0.1)\">\r\n       <use xlink:href=\"#DejaVuSans-37\"/>\r\n      </g>\r\n     </g>\r\n    </g>\r\n    <g id=\"ytick_4\">\r\n     <g id=\"line2d_9\">\r\n      <g>\r\n       <use style=\"stroke:#000000;stroke-width:0.8;\" x=\"34.240625\" xlink:href=\"#m7cc55941b5\" y=\"62.402217\"/>\r\n      </g>\r\n     </g>\r\n     <g id=\"text_10\">\r\n      <!-- 8 -->\r\n      <g transform=\"translate(20.878125 66.201435)scale(0.1 -0.1)\">\r\n       <defs>\r\n        <path d=\"M 2034 2216 \r\nQ 1584 2216 1326 1975 \r\nQ 1069 1734 1069 1313 \r\nQ 1069 891 1326 650 \r\nQ 1584 409 2034 409 \r\nQ 2484 409 2743 651 \r\nQ 3003 894 3003 1313 \r\nQ 3003 1734 2745 1975 \r\nQ 2488 2216 2034 2216 \r\nz\r\nM 1403 2484 \r\nQ 997 2584 770 2862 \r\nQ 544 3141 544 3541 \r\nQ 544 4100 942 4425 \r\nQ 1341 4750 2034 4750 \r\nQ 2731 4750 3128 4425 \r\nQ 3525 4100 3525 3541 \r\nQ 3525 3141 3298 2862 \r\nQ 3072 2584 2669 2484 \r\nQ 3125 2378 3379 2068 \r\nQ 3634 1759 3634 1313 \r\nQ 3634 634 3220 271 \r\nQ 2806 -91 2034 -91 \r\nQ 1263 -91 848 271 \r\nQ 434 634 434 1313 \r\nQ 434 1759 690 2068 \r\nQ 947 2378 1403 2484 \r\nz\r\nM 1172 3481 \r\nQ 1172 3119 1398 2916 \r\nQ 1625 2713 2034 2713 \r\nQ 2441 2713 2670 2916 \r\nQ 2900 3119 2900 3481 \r\nQ 2900 3844 2670 4047 \r\nQ 2441 4250 2034 4250 \r\nQ 1625 4250 1398 4047 \r\nQ 1172 3844 1172 3481 \r\nz\r\n\" id=\"DejaVuSans-38\" transform=\"scale(0.015625)\"/>\r\n       </defs>\r\n       <use xlink:href=\"#DejaVuSans-38\"/>\r\n      </g>\r\n     </g>\r\n    </g>\r\n    <g id=\"ytick_5\">\r\n     <g id=\"line2d_10\">\r\n      <g>\r\n       <use style=\"stroke:#000000;stroke-width:0.8;\" x=\"34.240625\" xlink:href=\"#m7cc55941b5\" y=\"14.89432\"/>\r\n      </g>\r\n     </g>\r\n     <g id=\"text_11\">\r\n      <!-- 9 -->\r\n      <g transform=\"translate(20.878125 18.693539)scale(0.1 -0.1)\">\r\n       <defs>\r\n        <path d=\"M 703 97 \r\nL 703 672 \r\nQ 941 559 1184 500 \r\nQ 1428 441 1663 441 \r\nQ 2288 441 2617 861 \r\nQ 2947 1281 2994 2138 \r\nQ 2813 1869 2534 1725 \r\nQ 2256 1581 1919 1581 \r\nQ 1219 1581 811 2004 \r\nQ 403 2428 403 3163 \r\nQ 403 3881 828 4315 \r\nQ 1253 4750 1959 4750 \r\nQ 2769 4750 3195 4129 \r\nQ 3622 3509 3622 2328 \r\nQ 3622 1225 3098 567 \r\nQ 2575 -91 1691 -91 \r\nQ 1453 -91 1209 -44 \r\nQ 966 3 703 97 \r\nz\r\nM 1959 2075 \r\nQ 2384 2075 2632 2365 \r\nQ 2881 2656 2881 3163 \r\nQ 2881 3666 2632 3958 \r\nQ 2384 4250 1959 4250 \r\nQ 1534 4250 1286 3958 \r\nQ 1038 3666 1038 3163 \r\nQ 1038 2656 1286 2365 \r\nQ 1534 2075 1959 2075 \r\nz\r\n\" id=\"DejaVuSans-39\" transform=\"scale(0.015625)\"/>\r\n       </defs>\r\n       <use xlink:href=\"#DejaVuSans-39\"/>\r\n      </g>\r\n     </g>\r\n    </g>\r\n    <g id=\"text_12\">\r\n     <!-- Length -->\r\n     <g transform=\"translate(14.798437 133.166875)rotate(-90)scale(0.1 -0.1)\">\r\n      <defs>\r\n       <path d=\"M 628 4666 \r\nL 1259 4666 \r\nL 1259 531 \r\nL 3531 531 \r\nL 3531 0 \r\nL 628 0 \r\nL 628 4666 \r\nz\r\n\" id=\"DejaVuSans-4c\" transform=\"scale(0.015625)\"/>\r\n       <path d=\"M 3597 1894 \r\nL 3597 1613 \r\nL 953 1613 \r\nQ 991 1019 1311 708 \r\nQ 1631 397 2203 397 \r\nQ 2534 397 2845 478 \r\nQ 3156 559 3463 722 \r\nL 3463 178 \r\nQ 3153 47 2828 -22 \r\nQ 2503 -91 2169 -91 \r\nQ 1331 -91 842 396 \r\nQ 353 884 353 1716 \r\nQ 353 2575 817 3079 \r\nQ 1281 3584 2069 3584 \r\nQ 2775 3584 3186 3129 \r\nQ 3597 2675 3597 1894 \r\nz\r\nM 3022 2063 \r\nQ 3016 2534 2758 2815 \r\nQ 2500 3097 2075 3097 \r\nQ 1594 3097 1305 2825 \r\nQ 1016 2553 972 2059 \r\nL 3022 2063 \r\nz\r\n\" id=\"DejaVuSans-65\" transform=\"scale(0.015625)\"/>\r\n       <path d=\"M 3513 2113 \r\nL 3513 0 \r\nL 2938 0 \r\nL 2938 2094 \r\nQ 2938 2591 2744 2837 \r\nQ 2550 3084 2163 3084 \r\nQ 1697 3084 1428 2787 \r\nQ 1159 2491 1159 1978 \r\nL 1159 0 \r\nL 581 0 \r\nL 581 3500 \r\nL 1159 3500 \r\nL 1159 2956 \r\nQ 1366 3272 1645 3428 \r\nQ 1925 3584 2291 3584 \r\nQ 2894 3584 3203 3211 \r\nQ 3513 2838 3513 2113 \r\nz\r\n\" id=\"DejaVuSans-6e\" transform=\"scale(0.015625)\"/>\r\n       <path d=\"M 2906 1791 \r\nQ 2906 2416 2648 2759 \r\nQ 2391 3103 1925 3103 \r\nQ 1463 3103 1205 2759 \r\nQ 947 2416 947 1791 \r\nQ 947 1169 1205 825 \r\nQ 1463 481 1925 481 \r\nQ 2391 481 2648 825 \r\nQ 2906 1169 2906 1791 \r\nz\r\nM 3481 434 \r\nQ 3481 -459 3084 -895 \r\nQ 2688 -1331 1869 -1331 \r\nQ 1566 -1331 1297 -1286 \r\nQ 1028 -1241 775 -1147 \r\nL 775 -588 \r\nQ 1028 -725 1275 -790 \r\nQ 1522 -856 1778 -856 \r\nQ 2344 -856 2625 -561 \r\nQ 2906 -266 2906 331 \r\nL 2906 616 \r\nQ 2728 306 2450 153 \r\nQ 2172 0 1784 0 \r\nQ 1141 0 747 490 \r\nQ 353 981 353 1791 \r\nQ 353 2603 747 3093 \r\nQ 1141 3584 1784 3584 \r\nQ 2172 3584 2450 3431 \r\nQ 2728 3278 2906 2969 \r\nL 2906 3500 \r\nL 3481 3500 \r\nL 3481 434 \r\nz\r\n\" id=\"DejaVuSans-67\" transform=\"scale(0.015625)\"/>\r\n      </defs>\r\n      <use xlink:href=\"#DejaVuSans-4c\"/>\r\n      <use x=\"53.962891\" xlink:href=\"#DejaVuSans-65\"/>\r\n      <use x=\"115.486328\" xlink:href=\"#DejaVuSans-6e\"/>\r\n      <use x=\"178.865234\" xlink:href=\"#DejaVuSans-67\"/>\r\n      <use x=\"242.341797\" xlink:href=\"#DejaVuSans-74\"/>\r\n      <use x=\"281.550781\" xlink:href=\"#DejaVuSans-68\"/>\r\n     </g>\r\n    </g>\r\n   </g>\r\n   <g id=\"patch_3\">\r\n    <path d=\"M 34.240625 224.64 \r\nL 34.240625 7.2 \r\n\" style=\"fill:none;stroke:#000000;stroke-linecap:square;stroke-linejoin:miter;stroke-width:0.8;\"/>\r\n   </g>\r\n   <g id=\"patch_4\">\r\n    <path d=\"M 369.040625 224.64 \r\nL 369.040625 7.2 \r\n\" style=\"fill:none;stroke:#000000;stroke-linecap:square;stroke-linejoin:miter;stroke-width:0.8;\"/>\r\n   </g>\r\n   <g id=\"patch_5\">\r\n    <path d=\"M 34.240625 224.64 \r\nL 369.040625 224.64 \r\n\" style=\"fill:none;stroke:#000000;stroke-linecap:square;stroke-linejoin:miter;stroke-width:0.8;\"/>\r\n   </g>\r\n   <g id=\"patch_6\">\r\n    <path d=\"M 34.240625 7.2 \r\nL 369.040625 7.2 \r\n\" style=\"fill:none;stroke:#000000;stroke-linecap:square;stroke-linejoin:miter;stroke-width:0.8;\"/>\r\n   </g>\r\n  </g>\r\n </g>\r\n <defs>\r\n  <clipPath id=\"pfdaa092a8e\">\r\n   <rect height=\"217.44\" width=\"334.8\" x=\"34.240625\" y=\"7.2\"/>\r\n  </clipPath>\r\n </defs>\r\n</svg>\r\n",
      "image/png": "[encoded data removed]"
     },
     "metadata": {
      "needs_background": "light"
     }
    }
   ],
   "metadata": {}
  },
  {
   "cell_type": "code",
   "execution_count": 7,
   "source": [
    "class kNearestNeighbors(): #چون الگوریتم ساده ای هست فاز ترین هم در آن ساده است\r\n",
    "    def __init__(self, k):# زمانی الگوریتم میخواد اجرا بشه تنها چیزی میپرسه ک است\r\n",
    "        self.k = k # یک ک به عنوان پارامتر براش میفرستیم\r\n",
    "        # در این الگوریتم به این گونه است که موقعیت هر ایتم را بدوانیم(مثلا سیب ها کجا هستند ) تا بتوانی با ورود میوه جدید با یافتن فاصله محسبات و پیش بینی انجام دهیم \r\n",
    "        # تابعی که عملیات ترین رو انجام میده معمولا به نام \"\"فیت\" می شناسیم. یک سری داده را روی یک مدل فیت کنیم یعنی ان ها ترین شدندdef fit(self, X_train , Y_train): #( ترین میشه دانستن داده های ورودی)میوه هایی که از اول تولید کردیم و موجود هستند\r\n",
    "    \r\n",
    "    def fit(self, X_train , Y_train): \r\n",
    "        self.X_train = X_train\r\n",
    "        self.Y_train = Y_train\r\n",
    "        #الگوریتم حق داره تعداد دسته ها را بداند و کلاس هایی که توسط آن ها پیش بینی انجام شود باید مشخص گردد__ در تارگت ما دو عدد منحصر به فرد وجود دارد صفر و یک پس دوتا کلاس داریم\r\n",
    "        self.number_classes = len(np.unique(Y_train))\r\n",
    "\r\n",
    "            # اول باید همسایه هارو پیدا کنی تا بعد بریم سراغ همسایه های نزدیک\r\n",
    "    def nearNeighbors(self , X_test):\r\n",
    "        #از فاصله اقلیدوسی برای یافتن فاصله میوه جدید با 200 تا تمام میوه قبلی استفاده میکنیم \r\n",
    "        #فاصله با تمام میوه ها که حساب شد سورت میکنیم و \"کا\" تا نزدیک تر رو بر میداریم\r\n",
    "        # تابع جمع در اینجا در نهایت یک عدد رو جزر میگیره و یک عدد به ما میده که به درد ما نخواهد خورد ما به اندازه تمام دیتای ترین شده فاصله نیاز داریم پس باشد اکسیس = 1 را قرار دهیم\r\n",
    "        dist = np.sqrt(np.sum((X_test - self.X_train) ** 2 , axis = 1))\r\n",
    "        #فاصله ها را سورت میکنه و \"کا\" تا اول را بر میداردو اسمش را میگزاریم همسایه های نزدیک    \r\n",
    "        #وقتی بر اساس فاصله صورت میکنیم و در متغییر میریزیم فاصله هارو داریم\r\n",
    "        # ما نیاز به فاصله ها نداریم ما نیاز به مشخص شن نوع میوه داریم پس از \"آرگ سورت\" استفاده میکنیم تا اندیس را داشته باشیم\r\n",
    "        # بعد ازینکه اندیس \"کا\" میوه نزدیک را در بین تمام میوه ها بدست آوریم \r\n",
    "        near_neighbors = np.argsort(dist)[:self.k]\r\n",
    "        print(near_neighbors)\r\n",
    "        print(self.Y_train[near_neighbors])\r\n",
    "        # حال باید ببینیم از میوه اهی مشخص شده کدوام تکرار بیشتری دارد\r\n",
    "        # با تایع \"بین \"کا\"نت\" می توانیم تعداد رخ داد های در آرایه را ببینیم یا بهتر بگیم تعداد تکرار مقادری هر خانه آرائه را نمایش می دهد\r\n",
    "        print(np.bincount(self.Y_train[near_neighbors]))\r\n",
    "        # چک میکنیم اندیس  بیشترین عدد تکرار شده را نشان بده تا بفهمیم 0 یا 1 بیشتر تکرار شده\r\n",
    "        return near_neighbors\r\n",
    "\r\n",
    "            \r\n",
    "        # این تابع یک داده از ما میگیرد و برچسبش رو ترین میکنه و موقع جواب دادن رسیده. پس تنها پارامتری که میگیره ویژگی یا ایکس هست و خودش باید پیش بینی انجام دهد\r\n",
    "        # کی‌ان‌ان میگه \"کا\" همسایه های نزدیک رو پیدا کن و ببین به کدوم آیتم شبیه تر است\r\n",
    "    def predict (self, X_test):\r\n",
    "        near_neighbors = self.nearNeighbors(X_test)\r\n",
    "        #به همسایه های نزدیک تابع قبل نگاه میکند و پردیکت انجام میدهد \r\n",
    "        y = np.argmax(np.bincount(self.Y_train[near_neighbors]))\r\n",
    "        return y"
   ],
   "outputs": [],
   "metadata": {}
  },
  {
   "cell_type": "code",
   "execution_count": 8,
   "source": [
    "knn = kNearestNeighbors (k = 5)\r\n",
    "knn.fit(X,Y)"
   ],
   "outputs": [],
   "metadata": {}
  },
  {
   "cell_type": "code",
   "execution_count": 9,
   "source": [
    "new_fruit = np.array([4.7 , 6.8])\r\n",
    "y_pred = knn.predict(new_fruit)\r\n",
    "friut = { 0 : 'موز' , \r\n",
    "          1: 'سیب'}\r\n",
    "print(friut[y_pred])"
   ],
   "outputs": [
    {
     "output_type": "stream",
     "name": "stdout",
     "text": [
      "[195 172 156 120 132]\n",
      "[1 1 1 1 1]\n",
      "[0 5]\n",
      "سیب\n"
     ]
    }
   ],
   "metadata": {}
  }
 ],
 "metadata": {
  "orig_nbformat": 4,
  "language_info": {
   "name": "python",
   "version": "3.9.6",
   "mimetype": "text/x-python",
   "codemirror_mode": {
    "name": "ipython",
    "version": 3
   },
   "pygments_lexer": "ipython3",
   "nbconvert_exporter": "python",
   "file_extension": ".py"
  },
  "kernelspec": {
   "name": "python3",
   "display_name": "Python 3.9.6 64-bit"
  },
  "interpreter": {
   "hash": "ac59ebe37160ed0dfa835113d9b8498d9f09ceb179beaac4002f036b9467c963"
  }
 },
 "nbformat": 4,
 "nbformat_minor": 2
}