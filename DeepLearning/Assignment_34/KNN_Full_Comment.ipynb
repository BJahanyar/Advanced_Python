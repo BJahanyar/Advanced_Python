{
 "cells": [
  {
   "cell_type": "code",
   "execution_count": 46,
   "source": [
    "import matplotlib.pyplot as plt\r\n",
    "import numpy as np"
   ],
   "outputs": [],
   "metadata": {}
  },
  {
   "cell_type": "code",
   "execution_count": 47,
   "source": [
    "N = 100\r\n",
    "std = 0.4\r\n",
    "#ایجاد لیستی 500 تایی از اعداد به عنوان طول عرض \r\n",
    "Apple_width = np.random.normal(6, std , N)\r\n",
    "Apple_length = np.random.normal(6, std , N)\r\n",
    "\r\n",
    "Benanas_width = np.random.normal(4, std, N)\r\n",
    "Benanas_length = np.random.normal(8, std, N)"
   ],
   "outputs": [],
   "metadata": {}
  },
  {
   "cell_type": "code",
   "execution_count": 48,
   "source": [
    "#   طول هادر یک لیست در کنار هم و الحاق عرض ها و وزن ها \r\n",
    "width = np.concatenate((Apple_width, Benanas_width))\r\n",
    "length = np.concatenate((Apple_length, Benanas_length))"
   ],
   "outputs": [],
   "metadata": {}
  },
  {
   "cell_type": "code",
   "execution_count": 49,
   "source": [
    "# ایجاد یک آرایه دو بعدی که سطر های 1000 است و ستون های عرض و طول و وزن 3 است. ما به عنوان \r\n",
    "#ویژگی که میخواهیم روی آن ها \"کا\"ر کنیم\r\n",
    "# ایجاد 500 عدد صفر و 500عدد یک برای انتصاب به لیبل بالن هاو خربزه ها\r\n",
    "X = np.array([width, length]).T #تعویض جای سطر و ستون ها\r\n",
    "Apple_lable = np.zeros(N, dtype = 'int') \r\n",
    "Benanas_lable = np.ones(N, dtype = 'int')\r\n",
    "X"
   ],
   "outputs": [
    {
     "output_type": "execute_result",
     "data": {
      "text/plain": [
       "array([[6.03320282, 5.59850342],\n",
       "       [5.79331928, 6.80653913],\n",
       "       [5.09645468, 6.65907321],\n",
       "       [6.03485835, 5.93763844],\n",
       "       [6.07791729, 5.9437853 ],\n",
       "       [6.20618019, 5.87309719],\n",
       "       [6.65268982, 6.69723028],\n",
       "       [6.27481942, 6.74951762],\n",
       "       [5.88494979, 6.21387561],\n",
       "       [5.64315874, 6.33446793],\n",
       "       [6.31774774, 6.31307761],\n",
       "       [5.78823451, 6.50338682],\n",
       "       [6.3990347 , 5.89073319],\n",
       "       [6.46080903, 6.67332461],\n",
       "       [5.46068181, 5.99343126],\n",
       "       [6.17630369, 5.78121362],\n",
       "       [7.37255481, 5.95923407],\n",
       "       [5.40490204, 6.208079  ],\n",
       "       [6.03983461, 5.71343861],\n",
       "       [5.71624384, 6.26353682],\n",
       "       [5.48130158, 5.91223137],\n",
       "       [6.12003232, 5.31376744],\n",
       "       [6.57273368, 6.16052909],\n",
       "       [5.93147251, 6.43374158],\n",
       "       [6.18773734, 5.72150223],\n",
       "       [6.15555674, 6.21150325],\n",
       "       [5.58423862, 5.82416427],\n",
       "       [6.15339289, 6.32299242],\n",
       "       [6.00983622, 5.81386068],\n",
       "       [6.51197316, 6.36807176],\n",
       "       [5.71738883, 6.4114011 ],\n",
       "       [5.65390197, 6.11398776],\n",
       "       [5.73971195, 6.32039798],\n",
       "       [5.70195738, 5.88355676],\n",
       "       [6.28324941, 6.05381233],\n",
       "       [5.86233639, 5.62829468],\n",
       "       [5.87789318, 6.1195454 ],\n",
       "       [6.01901183, 6.6975589 ],\n",
       "       [6.42389999, 6.06512382],\n",
       "       [6.67205566, 6.03964912],\n",
       "       [6.09702219, 5.77911318],\n",
       "       [5.87760197, 5.60828313],\n",
       "       [6.26705984, 5.90061082],\n",
       "       [5.77991373, 6.26986949],\n",
       "       [6.46783735, 5.36164536],\n",
       "       [5.83162187, 4.94450797],\n",
       "       [6.2816546 , 5.78627888],\n",
       "       [5.69094287, 5.51997756],\n",
       "       [5.75260205, 5.59648718],\n",
       "       [5.55923995, 5.89051237],\n",
       "       [6.22446832, 5.45616181],\n",
       "       [6.28259208, 6.29054807],\n",
       "       [6.4114285 , 6.08079446],\n",
       "       [5.99569286, 5.85603544],\n",
       "       [6.29787613, 6.74729712],\n",
       "       [6.59631884, 5.59035888],\n",
       "       [5.92276389, 6.05613667],\n",
       "       [5.75439255, 6.19000957],\n",
       "       [6.07640305, 5.80915393],\n",
       "       [5.9290041 , 5.60711515],\n",
       "       [6.11235144, 6.43320022],\n",
       "       [6.60072145, 5.81441536],\n",
       "       [5.91148133, 6.00267563],\n",
       "       [5.66535423, 5.86988879],\n",
       "       [5.50361679, 5.80798938],\n",
       "       [6.34966782, 6.35128069],\n",
       "       [6.22274096, 6.8753945 ],\n",
       "       [6.42064093, 5.81806411],\n",
       "       [5.65442677, 5.84142821],\n",
       "       [5.89480926, 5.93858952],\n",
       "       [6.56981572, 6.41826167],\n",
       "       [6.63557951, 5.77788724],\n",
       "       [6.44041106, 6.30119089],\n",
       "       [6.13338484, 5.70973848],\n",
       "       [6.96122535, 6.27201476],\n",
       "       [5.93579209, 6.17710763],\n",
       "       [6.04854872, 6.92053625],\n",
       "       [5.58597648, 6.45645171],\n",
       "       [6.08326259, 5.97948968],\n",
       "       [6.33248351, 5.16789971],\n",
       "       [6.40998071, 5.39143442],\n",
       "       [5.62095128, 6.31305232],\n",
       "       [5.62108584, 6.89079165],\n",
       "       [5.194742  , 6.39755567],\n",
       "       [5.85496748, 6.57183326],\n",
       "       [6.2636504 , 6.27671611],\n",
       "       [6.07638894, 5.87835797],\n",
       "       [5.42765732, 6.06169002],\n",
       "       [6.30868316, 6.65548813],\n",
       "       [6.36400008, 5.78532556],\n",
       "       [5.86193056, 6.08011006],\n",
       "       [6.17421195, 6.37710923],\n",
       "       [5.69056611, 6.05711402],\n",
       "       [5.3667967 , 6.25001033],\n",
       "       [6.14986145, 5.76751577],\n",
       "       [5.82623157, 5.90561153],\n",
       "       [5.91276748, 6.2324762 ],\n",
       "       [5.79436033, 5.46708745],\n",
       "       [5.9550914 , 5.81178009],\n",
       "       [5.99964698, 5.95133981],\n",
       "       [3.83428896, 8.38165455],\n",
       "       [3.8861672 , 8.3532213 ],\n",
       "       [4.31432594, 8.47898515],\n",
       "       [4.09596948, 7.41654141],\n",
       "       [4.42958571, 7.89129238],\n",
       "       [3.72217371, 8.42735849],\n",
       "       [4.38675464, 8.34232825],\n",
       "       [4.53519295, 8.26503928],\n",
       "       [3.5258879 , 8.55787297],\n",
       "       [4.1536605 , 7.95444988],\n",
       "       [3.56946351, 8.18427891],\n",
       "       [4.37003465, 7.13426853],\n",
       "       [4.24168427, 7.88451759],\n",
       "       [3.88799495, 7.39742198],\n",
       "       [3.85634476, 8.65338574],\n",
       "       [3.95314169, 8.51215679],\n",
       "       [3.81621623, 7.68395214],\n",
       "       [3.53271507, 7.70123675],\n",
       "       [3.49481202, 7.18562294],\n",
       "       [5.05680976, 8.13214421],\n",
       "       [4.30524157, 7.60894481],\n",
       "       [4.36502677, 7.70927791],\n",
       "       [4.43332488, 8.12613488],\n",
       "       [3.78453713, 8.32461968],\n",
       "       [4.5616595 , 7.85543429],\n",
       "       [4.57521842, 7.50740609],\n",
       "       [3.67954768, 7.73292894],\n",
       "       [4.07643749, 8.09171379],\n",
       "       [3.15390621, 7.67033682],\n",
       "       [4.02434475, 7.91209041],\n",
       "       [3.83999731, 8.19347265],\n",
       "       [3.150114  , 8.13282956],\n",
       "       [3.77707258, 8.76286601],\n",
       "       [4.68221394, 7.76923322],\n",
       "       [4.32665601, 7.00768562],\n",
       "       [3.52461166, 8.15313044],\n",
       "       [3.88774996, 7.44779509],\n",
       "       [3.94310003, 7.83660963],\n",
       "       [4.3629139 , 8.76130576],\n",
       "       [4.19634917, 8.02556176],\n",
       "       [4.07762498, 8.32002071],\n",
       "       [3.85896761, 7.45668992],\n",
       "       [3.69675228, 7.46925889],\n",
       "       [3.58741782, 7.91644715],\n",
       "       [3.53155045, 8.00270701],\n",
       "       [3.92825772, 8.32135803],\n",
       "       [4.1064992 , 7.9029485 ],\n",
       "       [4.22019997, 7.38512743],\n",
       "       [4.05886659, 7.98093777],\n",
       "       [3.62968827, 8.36419244],\n",
       "       [4.24411257, 7.82378373],\n",
       "       [4.12449478, 7.90430005],\n",
       "       [4.56832036, 8.05276266],\n",
       "       [4.51353805, 7.99097465],\n",
       "       [3.62479674, 8.43008828],\n",
       "       [4.84139382, 8.09407972],\n",
       "       [4.3778961 , 7.50735553],\n",
       "       [4.27684857, 7.76479405],\n",
       "       [3.92758328, 7.27946646],\n",
       "       [3.92716873, 7.87014523],\n",
       "       [4.18370335, 7.39461703],\n",
       "       [3.53345593, 7.69361856],\n",
       "       [3.92537069, 8.05120341],\n",
       "       [4.02556767, 7.33102751],\n",
       "       [4.26690387, 8.0617732 ],\n",
       "       [3.68899875, 7.89382067],\n",
       "       [3.40140112, 8.32329492],\n",
       "       [4.17969824, 6.92429303],\n",
       "       [4.29207207, 8.23192981],\n",
       "       [3.18037069, 7.95347158],\n",
       "       [4.17161745, 7.7412405 ],\n",
       "       [3.81227802, 8.65366097],\n",
       "       [4.75864702, 8.46542612],\n",
       "       [4.23480272, 7.82763894],\n",
       "       [4.5038996 , 7.84542185],\n",
       "       [3.93837314, 8.34878016],\n",
       "       [3.59997082, 7.81977041],\n",
       "       [4.2427339 , 8.21447878],\n",
       "       [3.89671664, 8.49139532],\n",
       "       [3.72333909, 8.17451832],\n",
       "       [4.00073572, 8.43862694],\n",
       "       [4.41439026, 8.58676101],\n",
       "       [4.77044925, 8.82922424],\n",
       "       [4.69878251, 8.07352084],\n",
       "       [4.54318818, 8.21570801],\n",
       "       [4.14697134, 8.57360528],\n",
       "       [4.24986124, 7.4568757 ],\n",
       "       [4.21079721, 7.79363045],\n",
       "       [4.09572129, 7.92195485],\n",
       "       [4.34669785, 8.00318708],\n",
       "       [4.5327291 , 7.57357539],\n",
       "       [3.7532682 , 8.47345965],\n",
       "       [3.87312413, 8.26743528],\n",
       "       [3.77139939, 8.28955152],\n",
       "       [3.51225965, 7.99845353],\n",
       "       [3.94348668, 7.9287076 ],\n",
       "       [3.93045588, 8.06159631],\n",
       "       [3.5660671 , 7.52418779],\n",
       "       [3.93601192, 8.17494561],\n",
       "       [4.22220558, 7.74320301]])"
      ]
     },
     "metadata": {},
     "execution_count": 49
    }
   ],
   "metadata": {}
  },
  {
   "cell_type": "code",
   "execution_count": 50,
   "source": [
    "#به هم پیوستن لیبل بالن ها و خربزه ها برای ایجاد خروجی یا تارگت\r\n",
    "Y = np.concatenate((Apple_lable,Benanas_lable))\r\n",
    "Y"
   ],
   "outputs": [
    {
     "output_type": "execute_result",
     "data": {
      "text/plain": [
       "array([0, 0, 0, 0, 0, 0, 0, 0, 0, 0, 0, 0, 0, 0, 0, 0, 0, 0, 0, 0, 0, 0,\n",
       "       0, 0, 0, 0, 0, 0, 0, 0, 0, 0, 0, 0, 0, 0, 0, 0, 0, 0, 0, 0, 0, 0,\n",
       "       0, 0, 0, 0, 0, 0, 0, 0, 0, 0, 0, 0, 0, 0, 0, 0, 0, 0, 0, 0, 0, 0,\n",
       "       0, 0, 0, 0, 0, 0, 0, 0, 0, 0, 0, 0, 0, 0, 0, 0, 0, 0, 0, 0, 0, 0,\n",
       "       0, 0, 0, 0, 0, 0, 0, 0, 0, 0, 0, 0, 1, 1, 1, 1, 1, 1, 1, 1, 1, 1,\n",
       "       1, 1, 1, 1, 1, 1, 1, 1, 1, 1, 1, 1, 1, 1, 1, 1, 1, 1, 1, 1, 1, 1,\n",
       "       1, 1, 1, 1, 1, 1, 1, 1, 1, 1, 1, 1, 1, 1, 1, 1, 1, 1, 1, 1, 1, 1,\n",
       "       1, 1, 1, 1, 1, 1, 1, 1, 1, 1, 1, 1, 1, 1, 1, 1, 1, 1, 1, 1, 1, 1,\n",
       "       1, 1, 1, 1, 1, 1, 1, 1, 1, 1, 1, 1, 1, 1, 1, 1, 1, 1, 1, 1, 1, 1,\n",
       "       1, 1])"
      ]
     },
     "metadata": {},
     "execution_count": 50
    }
   ],
   "metadata": {}
  },
  {
   "cell_type": "code",
   "execution_count": 51,
   "source": [
    "fig = plt.figure()\r\n",
    "plt.scatter(X[0:N , 0] , X[0:N , 1] ,  c = 'RED')\r\n",
    "plt.scatter(X[N: ,0] , X[N: ,1]  , c = 'yellow')\r\n",
    "plt.xlabel('Width')\r\n",
    "plt.ylabel('Length')"
   ],
   "outputs": [
    {
     "output_type": "execute_result",
     "data": {
      "text/plain": [
       "Text(0, 0.5, 'Length')"
      ]
     },
     "metadata": {},
     "execution_count": 51
    },
    {
     "output_type": "display_data",
     "data": {
      "text/plain": [
       "<Figure size 432x288 with 1 Axes>"
      ],
      "image/svg+xml": "<?xml version=\"1.0\" encoding=\"utf-8\" standalone=\"no\"?>\r\n<!DOCTYPE svg PUBLIC \"-//W3C//DTD SVG 1.1//EN\"\r\n  \"http://www.w3.org/Graphics/SVG/1.1/DTD/svg11.dtd\">\r\n<svg height=\"264.80171pt\" version=\"1.1\" viewBox=\"0 0 385.78125 264.80171\" width=\"385.78125pt\" xmlns=\"http://www.w3.org/2000/svg\" xmlns:xlink=\"http://www.w3.org/1999/xlink\">\r\n <metadata>\r\n  <rdf:RDF xmlns:cc=\"http://creativecommons.org/ns#\" xmlns:dc=\"http://purl.org/dc/elements/1.1/\" xmlns:rdf=\"http://www.w3.org/1999/02/22-rdf-syntax-ns#\">\r\n   <cc:Work>\r\n    <dc:type rdf:resource=\"http://purl.org/dc/dcmitype/StillImage\"/>\r\n    <dc:date>2021-08-16T16:40:57.330622</dc:date>\r\n    <dc:format>image/svg+xml</dc:format>\r\n    <dc:creator>\r\n     <cc:Agent>\r\n      <dc:title>Matplotlib v3.4.2, https://matplotlib.org/</dc:title>\r\n     </cc:Agent>\r\n    </dc:creator>\r\n   </cc:Work>\r\n  </rdf:RDF>\r\n </metadata>\r\n <defs>\r\n  <style type=\"text/css\">*{stroke-linecap:butt;stroke-linejoin:round;}</style>\r\n </defs>\r\n <g id=\"figure_1\">\r\n  <g id=\"patch_1\">\r\n   <path d=\"M 0 264.80171 \r\nL 385.78125 264.80171 \r\nL 385.78125 0 \r\nL 0 0 \r\nz\r\n\" style=\"fill:none;\"/>\r\n  </g>\r\n  <g id=\"axes_1\">\r\n   <g id=\"patch_2\">\r\n    <path d=\"M 43.78125 227.24546 \r\nL 378.58125 227.24546 \r\nL 378.58125 9.80546 \r\nL 43.78125 9.80546 \r\nz\r\n\" style=\"fill:#ffffff;\"/>\r\n   </g>\r\n   <g id=\"PathCollection_1\">\r\n    <defs>\r\n     <path d=\"M 0 3 \r\nC 0.795609 3 1.55874 2.683901 2.12132 2.12132 \r\nC 2.683901 1.55874 3 0.795609 3 0 \r\nC 3 -0.795609 2.683901 -1.55874 2.12132 -2.12132 \r\nC 1.55874 -2.683901 0.795609 -3 0 -3 \r\nC -0.795609 -3 -1.55874 -2.683901 -2.12132 -2.12132 \r\nC -2.683901 -1.55874 -3 -0.795609 -3 0 \r\nC -3 0.795609 -2.683901 1.55874 -2.12132 2.12132 \r\nC -1.55874 2.683901 -0.795609 3 0 3 \r\nz\r\n\" id=\"mc4617fd7c0\" style=\"stroke:#ff0000;\"/>\r\n    </defs>\r\n    <g clip-path=\"url(#p293ca84bbf)\">\r\n     <use style=\"fill:#ff0000;stroke:#ff0000;\" x=\"266.819372\" xlink:href=\"#mc4617fd7c0\" y=\"184.083444\"/>\r\n     <use style=\"fill:#ff0000;stroke:#ff0000;\" x=\"249.527992\" xlink:href=\"#mc4617fd7c0\" y=\"122.612876\"/>\r\n     <use style=\"fill:#ff0000;stroke:#ff0000;\" x=\"199.296325\" xlink:href=\"#mc4617fd7c0\" y=\"130.11664\"/>\r\n     <use style=\"fill:#ff0000;stroke:#ff0000;\" x=\"266.938706\" xlink:href=\"#mc4617fd7c0\" y=\"166.826651\"/>\r\n     <use style=\"fill:#ff0000;stroke:#ff0000;\" x=\"270.042498\" xlink:href=\"#mc4617fd7c0\" y=\"166.513869\"/>\r\n     <use style=\"fill:#ff0000;stroke:#ff0000;\" x=\"279.287995\" xlink:href=\"#mc4617fd7c0\" y=\"170.110815\"/>\r\n     <use style=\"fill:#ff0000;stroke:#ff0000;\" x=\"311.473477\" xlink:href=\"#mc4617fd7c0\" y=\"128.175027\"/>\r\n     <use style=\"fill:#ff0000;stroke:#ff0000;\" x=\"284.235675\" xlink:href=\"#mc4617fd7c0\" y=\"125.5144\"/>\r\n     <use style=\"fill:#ff0000;stroke:#ff0000;\" x=\"256.132939\" xlink:href=\"#mc4617fd7c0\" y=\"152.770398\"/>\r\n     <use style=\"fill:#ff0000;stroke:#ff0000;\" x=\"238.704061\" xlink:href=\"#mc4617fd7c0\" y=\"146.634091\"/>\r\n     <use style=\"fill:#ff0000;stroke:#ff0000;\" x=\"287.33005\" xlink:href=\"#mc4617fd7c0\" y=\"147.722531\"/>\r\n     <use style=\"fill:#ff0000;stroke:#ff0000;\" x=\"249.16147\" xlink:href=\"#mc4617fd7c0\" y=\"138.038699\"/>\r\n     <use style=\"fill:#ff0000;stroke:#ff0000;\" x=\"293.189409\" xlink:href=\"#mc4617fd7c0\" y=\"169.213412\"/>\r\n     <use style=\"fill:#ff0000;stroke:#ff0000;\" x=\"297.64225\" xlink:href=\"#mc4617fd7c0\" y=\"129.391461\"/>\r\n     <use style=\"fill:#ff0000;stroke:#ff0000;\" x=\"225.550688\" xlink:href=\"#mc4617fd7c0\" y=\"163.987648\"/>\r\n     <use style=\"fill:#ff0000;stroke:#ff0000;\" x=\"277.134425\" xlink:href=\"#mc4617fd7c0\" y=\"174.786285\"/>\r\n     <use style=\"fill:#ff0000;stroke:#ff0000;\" x=\"363.363068\" xlink:href=\"#mc4617fd7c0\" y=\"165.727763\"/>\r\n     <use style=\"fill:#ff0000;stroke:#ff0000;\" x=\"221.529948\" xlink:href=\"#mc4617fd7c0\" y=\"153.065357\"/>\r\n     <use style=\"fill:#ff0000;stroke:#ff0000;\" x=\"267.297407\" xlink:href=\"#mc4617fd7c0\" y=\"178.234998\"/>\r\n     <use style=\"fill:#ff0000;stroke:#ff0000;\" x=\"243.97221\" xlink:href=\"#mc4617fd7c0\" y=\"150.243401\"/>\r\n     <use style=\"fill:#ff0000;stroke:#ff0000;\" x=\"227.03701\" xlink:href=\"#mc4617fd7c0\" y=\"168.119483\"/>\r\n     <use style=\"fill:#ff0000;stroke:#ff0000;\" x=\"273.07825\" xlink:href=\"#mc4617fd7c0\" y=\"198.572156\"/>\r\n     <use style=\"fill:#ff0000;stroke:#ff0000;\" x=\"305.710047\" xlink:href=\"#mc4617fd7c0\" y=\"155.484921\"/>\r\n     <use style=\"fill:#ff0000;stroke:#ff0000;\" x=\"259.486408\" xlink:href=\"#mc4617fd7c0\" y=\"141.582578\"/>\r\n     <use style=\"fill:#ff0000;stroke:#ff0000;\" x=\"277.95859\" xlink:href=\"#mc4617fd7c0\" y=\"177.824683\"/>\r\n     <use style=\"fill:#ff0000;stroke:#ff0000;\" x=\"275.638935\" xlink:href=\"#mc4617fd7c0\" y=\"152.891115\"/>\r\n     <use style=\"fill:#ff0000;stroke:#ff0000;\" x=\"234.456958\" xlink:href=\"#mc4617fd7c0\" y=\"172.600753\"/>\r\n     <use style=\"fill:#ff0000;stroke:#ff0000;\" x=\"275.48296\" xlink:href=\"#mc4617fd7c0\" y=\"147.218019\"/>\r\n     <use style=\"fill:#ff0000;stroke:#ff0000;\" x=\"265.135052\" xlink:href=\"#mc4617fd7c0\" y=\"173.125048\"/>\r\n     <use style=\"fill:#ff0000;stroke:#ff0000;\" x=\"301.330284\" xlink:href=\"#mc4617fd7c0\" y=\"144.924169\"/>\r\n     <use style=\"fill:#ff0000;stroke:#ff0000;\" x=\"244.054744\" xlink:href=\"#mc4617fd7c0\" y=\"142.719367\"/>\r\n     <use style=\"fill:#ff0000;stroke:#ff0000;\" x=\"239.478459\" xlink:href=\"#mc4617fd7c0\" y=\"157.853164\"/>\r\n     <use style=\"fill:#ff0000;stroke:#ff0000;\" x=\"245.663848\" xlink:href=\"#mc4617fd7c0\" y=\"147.350036\"/>\r\n     <use style=\"fill:#ff0000;stroke:#ff0000;\" x=\"242.942408\" xlink:href=\"#mc4617fd7c0\" y=\"169.578582\"/>\r\n     <use style=\"fill:#ff0000;stroke:#ff0000;\" x=\"284.843329\" xlink:href=\"#mc4617fd7c0\" y=\"160.915174\"/>\r\n     <use style=\"fill:#ff0000;stroke:#ff0000;\" x=\"254.502911\" xlink:href=\"#mc4617fd7c0\" y=\"182.567524\"/>\r\n     <use style=\"fill:#ff0000;stroke:#ff0000;\" x=\"255.624281\" xlink:href=\"#mc4617fd7c0\" y=\"157.570365\"/>\r\n     <use style=\"fill:#ff0000;stroke:#ff0000;\" x=\"265.796451\" xlink:href=\"#mc4617fd7c0\" y=\"128.158306\"/>\r\n     <use style=\"fill:#ff0000;stroke:#ff0000;\" x=\"294.981758\" xlink:href=\"#mc4617fd7c0\" y=\"160.339592\"/>\r\n     <use style=\"fill:#ff0000;stroke:#ff0000;\" x=\"312.869413\" xlink:href=\"#mc4617fd7c0\" y=\"161.635865\"/>\r\n     <use style=\"fill:#ff0000;stroke:#ff0000;\" x=\"271.419625\" xlink:href=\"#mc4617fd7c0\" y=\"174.893165\"/>\r\n     <use style=\"fill:#ff0000;stroke:#ff0000;\" x=\"255.603291\" xlink:href=\"#mc4617fd7c0\" y=\"183.585806\"/>\r\n     <use style=\"fill:#ff0000;stroke:#ff0000;\" x=\"283.676345\" xlink:href=\"#mc4617fd7c0\" y=\"168.710791\"/>\r\n     <use style=\"fill:#ff0000;stroke:#ff0000;\" x=\"248.561688\" xlink:href=\"#mc4617fd7c0\" y=\"149.921165\"/>\r\n     <use style=\"fill:#ff0000;stroke:#ff0000;\" x=\"298.148869\" xlink:href=\"#mc4617fd7c0\" y=\"196.135901\"/>\r\n     <use style=\"fill:#ff0000;stroke:#ff0000;\" x=\"252.288935\" xlink:href=\"#mc4617fd7c0\" y=\"217.361824\"/>\r\n     <use style=\"fill:#ff0000;stroke:#ff0000;\" x=\"284.728371\" xlink:href=\"#mc4617fd7c0\" y=\"174.528541\"/>\r\n     <use style=\"fill:#ff0000;stroke:#ff0000;\" x=\"242.148456\" xlink:href=\"#mc4617fd7c0\" y=\"188.079211\"/>\r\n     <use style=\"fill:#ff0000;stroke:#ff0000;\" x=\"246.592997\" xlink:href=\"#mc4617fd7c0\" y=\"184.18604\"/>\r\n     <use style=\"fill:#ff0000;stroke:#ff0000;\" x=\"232.654994\" xlink:href=\"#mc4617fd7c0\" y=\"169.224648\"/>\r\n     <use style=\"fill:#ff0000;stroke:#ff0000;\" x=\"280.606247\" xlink:href=\"#mc4617fd7c0\" y=\"191.326458\"/>\r\n     <use style=\"fill:#ff0000;stroke:#ff0000;\" x=\"284.795947\" xlink:href=\"#mc4617fd7c0\" y=\"148.868941\"/>\r\n     <use style=\"fill:#ff0000;stroke:#ff0000;\" x=\"294.082784\" xlink:href=\"#mc4617fd7c0\" y=\"159.542196\"/>\r\n     <use style=\"fill:#ff0000;stroke:#ff0000;\" x=\"264.115564\" xlink:href=\"#mc4617fd7c0\" y=\"170.978997\"/>\r\n     <use style=\"fill:#ff0000;stroke:#ff0000;\" x=\"285.897658\" xlink:href=\"#mc4617fd7c0\" y=\"125.62739\"/>\r\n     <use style=\"fill:#ff0000;stroke:#ff0000;\" x=\"307.410122\" xlink:href=\"#mc4617fd7c0\" y=\"184.497876\"/>\r\n     <use style=\"fill:#ff0000;stroke:#ff0000;\" x=\"258.85867\" xlink:href=\"#mc4617fd7c0\" y=\"160.796901\"/>\r\n     <use style=\"fill:#ff0000;stroke:#ff0000;\" x=\"246.722061\" xlink:href=\"#mc4617fd7c0\" y=\"153.984815\"/>\r\n     <use style=\"fill:#ff0000;stroke:#ff0000;\" x=\"269.933348\" xlink:href=\"#mc4617fd7c0\" y=\"173.36455\"/>\r\n     <use style=\"fill:#ff0000;stroke:#ff0000;\" x=\"259.308479\" xlink:href=\"#mc4617fd7c0\" y=\"183.645238\"/>\r\n     <use style=\"fill:#ff0000;stroke:#ff0000;\" x=\"272.524594\" xlink:href=\"#mc4617fd7c0\" y=\"141.610125\"/>\r\n     <use style=\"fill:#ff0000;stroke:#ff0000;\" x=\"307.727472\" xlink:href=\"#mc4617fd7c0\" y=\"173.096824\"/>\r\n     <use style=\"fill:#ff0000;stroke:#ff0000;\" x=\"258.045396\" xlink:href=\"#mc4617fd7c0\" y=\"163.517251\"/>\r\n     <use style=\"fill:#ff0000;stroke:#ff0000;\" x=\"240.303965\" xlink:href=\"#mc4617fd7c0\" y=\"170.274073\"/>\r\n     <use style=\"fill:#ff0000;stroke:#ff0000;\" x=\"228.645544\" xlink:href=\"#mc4617fd7c0\" y=\"173.423808\"/>\r\n     <use style=\"fill:#ff0000;stroke:#ff0000;\" x=\"289.630926\" xlink:href=\"#mc4617fd7c0\" y=\"145.778578\"/>\r\n     <use style=\"fill:#ff0000;stroke:#ff0000;\" x=\"280.481734\" xlink:href=\"#mc4617fd7c0\" y=\"119.10919\"/>\r\n     <use style=\"fill:#ff0000;stroke:#ff0000;\" x=\"294.746838\" xlink:href=\"#mc4617fd7c0\" y=\"172.911158\"/>\r\n     <use style=\"fill:#ff0000;stroke:#ff0000;\" x=\"239.516288\" xlink:href=\"#mc4617fd7c0\" y=\"171.722282\"/>\r\n     <use style=\"fill:#ff0000;stroke:#ff0000;\" x=\"256.843633\" xlink:href=\"#mc4617fd7c0\" y=\"166.778256\"/>\r\n     <use style=\"fill:#ff0000;stroke:#ff0000;\" x=\"305.499714\" xlink:href=\"#mc4617fd7c0\" y=\"142.370269\"/>\r\n     <use style=\"fill:#ff0000;stroke:#ff0000;\" x=\"310.240125\" xlink:href=\"#mc4617fd7c0\" y=\"174.955547\"/>\r\n     <use style=\"fill:#ff0000;stroke:#ff0000;\" x=\"296.171916\" xlink:href=\"#mc4617fd7c0\" y=\"148.327384\"/>\r\n     <use style=\"fill:#ff0000;stroke:#ff0000;\" x=\"274.040732\" xlink:href=\"#mc4617fd7c0\" y=\"178.423278\"/>\r\n     <use style=\"fill:#ff0000;stroke:#ff0000;\" x=\"333.713456\" xlink:href=\"#mc4617fd7c0\" y=\"149.812003\"/>\r\n     <use style=\"fill:#ff0000;stroke:#ff0000;\" x=\"259.797774\" xlink:href=\"#mc4617fd7c0\" y=\"154.641327\"/>\r\n     <use style=\"fill:#ff0000;stroke:#ff0000;\" x=\"267.925541\" xlink:href=\"#mc4617fd7c0\" y=\"116.812164\"/>\r\n     <use style=\"fill:#ff0000;stroke:#ff0000;\" x=\"234.582227\" xlink:href=\"#mc4617fd7c0\" y=\"140.426979\"/>\r\n     <use style=\"fill:#ff0000;stroke:#ff0000;\" x=\"270.4278\" xlink:href=\"#mc4617fd7c0\" y=\"164.697062\"/>\r\n     <use style=\"fill:#ff0000;stroke:#ff0000;\" x=\"288.39224\" xlink:href=\"#mc4617fd7c0\" y=\"205.994596\"/>\r\n     <use style=\"fill:#ff0000;stroke:#ff0000;\" x=\"293.978424\" xlink:href=\"#mc4617fd7c0\" y=\"194.620093\"/>\r\n     <use style=\"fill:#ff0000;stroke:#ff0000;\" x=\"237.103295\" xlink:href=\"#mc4617fd7c0\" y=\"147.723818\"/>\r\n     <use style=\"fill:#ff0000;stroke:#ff0000;\" x=\"237.112994\" xlink:href=\"#mc4617fd7c0\" y=\"118.32571\"/>\r\n     <use style=\"fill:#ff0000;stroke:#ff0000;\" x=\"206.38111\" xlink:href=\"#mc4617fd7c0\" y=\"143.423888\"/>\r\n     <use style=\"fill:#ff0000;stroke:#ff0000;\" x=\"253.971742\" xlink:href=\"#mc4617fd7c0\" y=\"134.555821\"/>\r\n     <use style=\"fill:#ff0000;stroke:#ff0000;\" x=\"283.430585\" xlink:href=\"#mc4617fd7c0\" y=\"149.572776\"/>\r\n     <use style=\"fill:#ff0000;stroke:#ff0000;\" x=\"269.932331\" xlink:href=\"#mc4617fd7c0\" y=\"169.843122\"/>\r\n     <use style=\"fill:#ff0000;stroke:#ff0000;\" x=\"223.170204\" xlink:href=\"#mc4617fd7c0\" y=\"160.51432\"/>\r\n     <use style=\"fill:#ff0000;stroke:#ff0000;\" x=\"286.676654\" xlink:href=\"#mc4617fd7c0\" y=\"130.299065\"/>\r\n     <use style=\"fill:#ff0000;stroke:#ff0000;\" x=\"290.66403\" xlink:href=\"#mc4617fd7c0\" y=\"174.57705\"/>\r\n     <use style=\"fill:#ff0000;stroke:#ff0000;\" x=\"254.473658\" xlink:href=\"#mc4617fd7c0\" y=\"159.577021\"/>\r\n     <use style=\"fill:#ff0000;stroke:#ff0000;\" x=\"276.983648\" xlink:href=\"#mc4617fd7c0\" y=\"144.4643\"/>\r\n     <use style=\"fill:#ff0000;stroke:#ff0000;\" x=\"242.121298\" xlink:href=\"#mc4617fd7c0\" y=\"160.747168\"/>\r\n     <use style=\"fill:#ff0000;stroke:#ff0000;\" x=\"218.783224\" xlink:href=\"#mc4617fd7c0\" y=\"150.931692\"/>\r\n     <use style=\"fill:#ff0000;stroke:#ff0000;\" x=\"275.228405\" xlink:href=\"#mc4617fd7c0\" y=\"175.483296\"/>\r\n     <use style=\"fill:#ff0000;stroke:#ff0000;\" x=\"251.900389\" xlink:href=\"#mc4617fd7c0\" y=\"168.456331\"/>\r\n     <use style=\"fill:#ff0000;stroke:#ff0000;\" x=\"258.138105\" xlink:href=\"#mc4617fd7c0\" y=\"151.823912\"/>\r\n     <use style=\"fill:#ff0000;stroke:#ff0000;\" x=\"249.603034\" xlink:href=\"#mc4617fd7c0\" y=\"190.770509\"/>\r\n     <use style=\"fill:#ff0000;stroke:#ff0000;\" x=\"261.188914\" xlink:href=\"#mc4617fd7c0\" y=\"173.230919\"/>\r\n     <use style=\"fill:#ff0000;stroke:#ff0000;\" x=\"264.400586\" xlink:href=\"#mc4617fd7c0\" y=\"166.129461\"/>\r\n    </g>\r\n   </g>\r\n   <g id=\"PathCollection_2\">\r\n    <defs>\r\n     <path d=\"M 0 3 \r\nC 0.795609 3 1.55874 2.683901 2.12132 2.12132 \r\nC 2.683901 1.55874 3 0.795609 3 0 \r\nC 3 -0.795609 2.683901 -1.55874 2.12132 -2.12132 \r\nC 1.55874 -2.683901 0.795609 -3 0 -3 \r\nC -0.795609 -3 -1.55874 -2.683901 -2.12132 -2.12132 \r\nC -2.683901 -1.55874 -3 -0.795609 -3 0 \r\nC -3 0.795609 -2.683901 1.55874 -2.12132 2.12132 \r\nC -1.55874 2.683901 -0.795609 3 0 3 \r\nz\r\n\" id=\"mdb449ff19b\" style=\"stroke:#ffff00;\"/>\r\n    </defs>\r\n    <g clip-path=\"url(#p293ca84bbf)\">\r\n     <use style=\"fill:#ffff00;stroke:#ffff00;\" x=\"108.3164\" xlink:href=\"#mdb449ff19b\" y=\"42.463558\"/>\r\n     <use style=\"fill:#ffff00;stroke:#ffff00;\" x=\"112.055908\" xlink:href=\"#mdb449ff19b\" y=\"43.910376\"/>\r\n     <use style=\"fill:#ffff00;stroke:#ffff00;\" x=\"142.918614\" xlink:href=\"#mdb449ff19b\" y=\"37.510917\"/>\r\n     <use style=\"fill:#ffff00;stroke:#ffff00;\" x=\"127.178958\" xlink:href=\"#mdb449ff19b\" y=\"91.573077\"/>\r\n     <use style=\"fill:#ffff00;stroke:#ffff00;\" x=\"151.226814\" xlink:href=\"#mdb449ff19b\" y=\"67.415503\"/>\r\n     <use style=\"fill:#ffff00;stroke:#ffff00;\" x=\"100.234864\" xlink:href=\"#mdb449ff19b\" y=\"40.137926\"/>\r\n     <use style=\"fill:#ffff00;stroke:#ffff00;\" x=\"148.139448\" xlink:href=\"#mdb449ff19b\" y=\"44.464666\"/>\r\n     <use style=\"fill:#ffff00;stroke:#ffff00;\" x=\"158.839237\" xlink:href=\"#mdb449ff19b\" y=\"48.397495\"/>\r\n     <use style=\"fill:#ffff00;stroke:#ffff00;\" x=\"86.086114\" xlink:href=\"#mdb449ff19b\" y=\"33.496732\"/>\r\n     <use style=\"fill:#ffff00;stroke:#ffff00;\" x=\"131.337465\" xlink:href=\"#mdb449ff19b\" y=\"64.201751\"/>\r\n     <use style=\"fill:#ffff00;stroke:#ffff00;\" x=\"89.227148\" xlink:href=\"#mdb449ff19b\" y=\"52.506964\"/>\r\n     <use style=\"fill:#ffff00;stroke:#ffff00;\" x=\"146.934231\" xlink:href=\"#mdb449ff19b\" y=\"105.936455\"/>\r\n     <use style=\"fill:#ffff00;stroke:#ffff00;\" x=\"137.682429\" xlink:href=\"#mdb449ff19b\" y=\"67.760237\"/>\r\n     <use style=\"fill:#ffff00;stroke:#ffff00;\" x=\"112.187656\" xlink:href=\"#mdb449ff19b\" y=\"92.545964\"/>\r\n     <use style=\"fill:#ffff00;stroke:#ffff00;\" x=\"109.906235\" xlink:href=\"#mdb449ff19b\" y=\"28.636591\"/>\r\n     <use style=\"fill:#ffff00;stroke:#ffff00;\" x=\"116.883589\" xlink:href=\"#mdb449ff19b\" y=\"35.822987\"/>\r\n     <use style=\"fill:#ffff00;stroke:#ffff00;\" x=\"107.013675\" xlink:href=\"#mdb449ff19b\" y=\"77.965955\"/>\r\n     <use style=\"fill:#ffff00;stroke:#ffff00;\" x=\"86.578233\" xlink:href=\"#mdb449ff19b\" y=\"77.086432\"/>\r\n     <use style=\"fill:#ffff00;stroke:#ffff00;\" x=\"83.84609\" xlink:href=\"#mdb449ff19b\" y=\"103.3233\"/>\r\n     <use style=\"fill:#ffff00;stroke:#ffff00;\" x=\"196.438624\" xlink:href=\"#mdb449ff19b\" y=\"55.159824\"/>\r\n     <use style=\"fill:#ffff00;stroke:#ffff00;\" x=\"142.263791\" xlink:href=\"#mdb449ff19b\" y=\"81.782683\"/>\r\n     <use style=\"fill:#ffff00;stroke:#ffff00;\" x=\"146.573251\" xlink:href=\"#mdb449ff19b\" y=\"76.67726\"/>\r\n     <use style=\"fill:#ffff00;stroke:#ffff00;\" x=\"151.496342\" xlink:href=\"#mdb449ff19b\" y=\"55.465607\"/>\r\n     <use style=\"fill:#ffff00;stroke:#ffff00;\" x=\"104.730169\" xlink:href=\"#mdb449ff19b\" y=\"45.365762\"/>\r\n     <use style=\"fill:#ffff00;stroke:#ffff00;\" x=\"160.747009\" xlink:href=\"#mdb449ff19b\" y=\"69.240133\"/>\r\n     <use style=\"fill:#ffff00;stroke:#ffff00;\" x=\"161.724368\" xlink:href=\"#mdb449ff19b\" y=\"86.949453\"/>\r\n     <use style=\"fill:#ffff00;stroke:#ffff00;\" x=\"97.162278\" xlink:href=\"#mdb449ff19b\" y=\"75.473784\"/>\r\n     <use style=\"fill:#ffff00;stroke:#ffff00;\" x=\"125.771045\" xlink:href=\"#mdb449ff19b\" y=\"57.217115\"/>\r\n     <use style=\"fill:#ffff00;stroke:#ffff00;\" x=\"59.272784\" xlink:href=\"#mdb449ff19b\" y=\"78.658767\"/>\r\n     <use style=\"fill:#ffff00;stroke:#ffff00;\" x=\"122.016076\" xlink:href=\"#mdb449ff19b\" y=\"66.357202\"/>\r\n     <use style=\"fill:#ffff00;stroke:#ffff00;\" x=\"108.727872\" xlink:href=\"#mdb449ff19b\" y=\"52.039143\"/>\r\n     <use style=\"fill:#ffff00;stroke:#ffff00;\" x=\"58.999432\" xlink:href=\"#mdb449ff19b\" y=\"55.12495\"/>\r\n     <use style=\"fill:#ffff00;stroke:#ffff00;\" x=\"104.192107\" xlink:href=\"#mdb449ff19b\" y=\"23.065717\"/>\r\n     <use style=\"fill:#ffff00;stroke:#ffff00;\" x=\"169.436861\" xlink:href=\"#mdb449ff19b\" y=\"73.626451\"/>\r\n     <use style=\"fill:#ffff00;stroke:#ffff00;\" x=\"143.807395\" xlink:href=\"#mdb449ff19b\" y=\"112.377592\"/>\r\n     <use style=\"fill:#ffff00;stroke:#ffff00;\" x=\"85.994119\" xlink:href=\"#mdb449ff19b\" y=\"54.091945\"/>\r\n     <use style=\"fill:#ffff00;stroke:#ffff00;\" x=\"112.169996\" xlink:href=\"#mdb449ff19b\" y=\"89.982742\"/>\r\n     <use style=\"fill:#ffff00;stroke:#ffff00;\" x=\"116.159762\" xlink:href=\"#mdb449ff19b\" y=\"70.19802\"/>\r\n     <use style=\"fill:#ffff00;stroke:#ffff00;\" x=\"146.42095\" xlink:href=\"#mdb449ff19b\" y=\"23.14511\"/>\r\n     <use style=\"fill:#ffff00;stroke:#ffff00;\" x=\"134.414566\" xlink:href=\"#mdb449ff19b\" y=\"60.583242\"/>\r\n     <use style=\"fill:#ffff00;stroke:#ffff00;\" x=\"125.856643\" xlink:href=\"#mdb449ff19b\" y=\"45.599779\"/>\r\n     <use style=\"fill:#ffff00;stroke:#ffff00;\" x=\"110.095296\" xlink:href=\"#mdb449ff19b\" y=\"89.530131\"/>\r\n     <use style=\"fill:#ffff00;stroke:#ffff00;\" x=\"98.402427\" xlink:href=\"#mdb449ff19b\" y=\"88.890563\"/>\r\n     <use style=\"fill:#ffff00;stroke:#ffff00;\" x=\"90.521338\" xlink:href=\"#mdb449ff19b\" y=\"66.13551\"/>\r\n     <use style=\"fill:#ffff00;stroke:#ffff00;\" x=\"86.494283\" xlink:href=\"#mdb449ff19b\" y=\"61.7462\"/>\r\n     <use style=\"fill:#ffff00;stroke:#ffff00;\" x=\"115.089893\" xlink:href=\"#mdb449ff19b\" y=\"45.53173\"/>\r\n     <use style=\"fill:#ffff00;stroke:#ffff00;\" x=\"127.937965\" xlink:href=\"#mdb449ff19b\" y=\"66.822385\"/>\r\n     <use style=\"fill:#ffff00;stroke:#ffff00;\" x=\"136.133789\" xlink:href=\"#mdb449ff19b\" y=\"93.171568\"/>\r\n     <use style=\"fill:#ffff00;stroke:#ffff00;\" x=\"124.504493\" xlink:href=\"#mdb449ff19b\" y=\"62.853922\"/>\r\n     <use style=\"fill:#ffff00;stroke:#ffff00;\" x=\"93.568293\" xlink:href=\"#mdb449ff19b\" y=\"43.352113\"/>\r\n     <use style=\"fill:#ffff00;stroke:#ffff00;\" x=\"137.857466\" xlink:href=\"#mdb449ff19b\" y=\"70.850662\"/>\r\n     <use style=\"fill:#ffff00;stroke:#ffff00;\" x=\"129.235129\" xlink:href=\"#mdb449ff19b\" y=\"66.753612\"/>\r\n     <use style=\"fill:#ffff00;stroke:#ffff00;\" x=\"161.227139\" xlink:href=\"#mdb449ff19b\" y=\"59.199132\"/>\r\n     <use style=\"fill:#ffff00;stroke:#ffff00;\" x=\"157.278299\" xlink:href=\"#mdb449ff19b\" y=\"62.343198\"/>\r\n     <use style=\"fill:#ffff00;stroke:#ffff00;\" x=\"93.215699\" xlink:href=\"#mdb449ff19b\" y=\"39.999021\"/>\r\n     <use style=\"fill:#ffff00;stroke:#ffff00;\" x=\"180.910928\" xlink:href=\"#mdb449ff19b\" y=\"57.096725\"/>\r\n     <use style=\"fill:#ffff00;stroke:#ffff00;\" x=\"147.500903\" xlink:href=\"#mdb449ff19b\" y=\"86.952025\"/>\r\n     <use style=\"fill:#ffff00;stroke:#ffff00;\" x=\"140.217156\" xlink:href=\"#mdb449ff19b\" y=\"73.852337\"/>\r\n     <use style=\"fill:#ffff00;stroke:#ffff00;\" x=\"115.041278\" xlink:href=\"#mdb449ff19b\" y=\"98.548098\"/>\r\n     <use style=\"fill:#ffff00;stroke:#ffff00;\" x=\"115.011396\" xlink:href=\"#mdb449ff19b\" y=\"68.49157\"/>\r\n     <use style=\"fill:#ffff00;stroke:#ffff00;\" x=\"133.503025\" xlink:href=\"#mdb449ff19b\" y=\"92.688693\"/>\r\n     <use style=\"fill:#ffff00;stroke:#ffff00;\" x=\"86.631635\" xlink:href=\"#mdb449ff19b\" y=\"77.474082\"/>\r\n     <use style=\"fill:#ffff00;stroke:#ffff00;\" x=\"114.881789\" xlink:href=\"#mdb449ff19b\" y=\"59.278474\"/>\r\n     <use style=\"fill:#ffff00;stroke:#ffff00;\" x=\"122.104227\" xlink:href=\"#mdb449ff19b\" y=\"95.924428\"/>\r\n     <use style=\"fill:#ffff00;stroke:#ffff00;\" x=\"139.500317\" xlink:href=\"#mdb449ff19b\" y=\"58.740633\"/>\r\n     <use style=\"fill:#ffff00;stroke:#ffff00;\" x=\"97.843534\" xlink:href=\"#mdb449ff19b\" y=\"67.286852\"/>\r\n     <use style=\"fill:#ffff00;stroke:#ffff00;\" x=\"77.112809\" xlink:href=\"#mdb449ff19b\" y=\"45.433172\"/>\r\n     <use style=\"fill:#ffff00;stroke:#ffff00;\" x=\"133.214327\" xlink:href=\"#mdb449ff19b\" y=\"116.621002\"/>\r\n     <use style=\"fill:#ffff00;stroke:#ffff00;\" x=\"141.314502\" xlink:href=\"#mdb449ff19b\" y=\"50.082261\"/>\r\n     <use style=\"fill:#ffff00;stroke:#ffff00;\" x=\"61.180407\" xlink:href=\"#mdb449ff19b\" y=\"64.251532\"/>\r\n     <use style=\"fill:#ffff00;stroke:#ffff00;\" x=\"132.631845\" xlink:href=\"#mdb449ff19b\" y=\"75.050852\"/>\r\n     <use style=\"fill:#ffff00;stroke:#ffff00;\" x=\"106.729799\" xlink:href=\"#mdb449ff19b\" y=\"28.622586\"/>\r\n     <use style=\"fill:#ffff00;stroke:#ffff00;\" x=\"174.94634\" xlink:href=\"#mdb449ff19b\" y=\"38.200865\"/>\r\n     <use style=\"fill:#ffff00;stroke:#ffff00;\" x=\"137.18639\" xlink:href=\"#mdb449ff19b\" y=\"70.654491\"/>\r\n     <use style=\"fill:#ffff00;stroke:#ffff00;\" x=\"156.583537\" xlink:href=\"#mdb449ff19b\" y=\"69.749613\"/>\r\n     <use style=\"fill:#ffff00;stroke:#ffff00;\" x=\"115.819036\" xlink:href=\"#mdb449ff19b\" y=\"44.136363\"/>\r\n     <use style=\"fill:#ffff00;stroke:#ffff00;\" x=\"91.426188\" xlink:href=\"#mdb449ff19b\" y=\"71.054879\"/>\r\n     <use style=\"fill:#ffff00;stroke:#ffff00;\" x=\"137.758088\" xlink:href=\"#mdb449ff19b\" y=\"50.970252\"/>\r\n     <use style=\"fill:#ffff00;stroke:#ffff00;\" x=\"112.816337\" xlink:href=\"#mdb449ff19b\" y=\"36.879429\"/>\r\n     <use style=\"fill:#ffff00;stroke:#ffff00;\" x=\"100.318868\" xlink:href=\"#mdb449ff19b\" y=\"53.003629\"/>\r\n     <use style=\"fill:#ffff00;stroke:#ffff00;\" x=\"120.31428\" xlink:href=\"#mdb449ff19b\" y=\"39.564534\"/>\r\n     <use style=\"fill:#ffff00;stroke:#ffff00;\" x=\"150.13149\" xlink:href=\"#mdb449ff19b\" y=\"32.026772\"/>\r\n     <use style=\"fill:#ffff00;stroke:#ffff00;\" x=\"175.797073\" xlink:href=\"#mdb449ff19b\" y=\"19.689097\"/>\r\n     <use style=\"fill:#ffff00;stroke:#ffff00;\" x=\"170.631164\" xlink:href=\"#mdb449ff19b\" y=\"58.142858\"/>\r\n     <use style=\"fill:#ffff00;stroke:#ffff00;\" x=\"159.415552\" xlink:href=\"#mdb449ff19b\" y=\"50.907703\"/>\r\n     <use style=\"fill:#ffff00;stroke:#ffff00;\" x=\"130.855294\" xlink:href=\"#mdb449ff19b\" y=\"32.696198\"/>\r\n     <use style=\"fill:#ffff00;stroke:#ffff00;\" x=\"138.271844\" xlink:href=\"#mdb449ff19b\" y=\"89.520677\"/>\r\n     <use style=\"fill:#ffff00;stroke:#ffff00;\" x=\"135.456015\" xlink:href=\"#mdb449ff19b\" y=\"72.385004\"/>\r\n     <use style=\"fill:#ffff00;stroke:#ffff00;\" x=\"127.161068\" xlink:href=\"#mdb449ff19b\" y=\"65.855252\"/>\r\n     <use style=\"fill:#ffff00;stroke:#ffff00;\" x=\"145.252058\" xlink:href=\"#mdb449ff19b\" y=\"61.721772\"/>\r\n     <use style=\"fill:#ffff00;stroke:#ffff00;\" x=\"158.661636\" xlink:href=\"#mdb449ff19b\" y=\"83.582446\"/>\r\n     <use style=\"fill:#ffff00;stroke:#ffff00;\" x=\"102.47623\" xlink:href=\"#mdb449ff19b\" y=\"37.792081\"/>\r\n     <use style=\"fill:#ffff00;stroke:#ffff00;\" x=\"111.115732\" xlink:href=\"#mdb449ff19b\" y=\"48.275575\"/>\r\n     <use style=\"fill:#ffff00;stroke:#ffff00;\" x=\"103.783169\" xlink:href=\"#mdb449ff19b\" y=\"47.150196\"/>\r\n     <use style=\"fill:#ffff00;stroke:#ffff00;\" x=\"85.103757\" xlink:href=\"#mdb449ff19b\" y=\"61.962637\"/>\r\n     <use style=\"fill:#ffff00;stroke:#ffff00;\" x=\"116.187633\" xlink:href=\"#mdb449ff19b\" y=\"65.51164\"/>\r\n     <use style=\"fill:#ffff00;stroke:#ffff00;\" x=\"115.248342\" xlink:href=\"#mdb449ff19b\" y=\"58.749634\"/>\r\n     <use style=\"fill:#ffff00;stroke:#ffff00;\" x=\"88.982326\" xlink:href=\"#mdb449ff19b\" y=\"86.09552\"/>\r\n     <use style=\"fill:#ffff00;stroke:#ffff00;\" x=\"115.648834\" xlink:href=\"#mdb449ff19b\" y=\"52.981886\"/>\r\n     <use style=\"fill:#ffff00;stroke:#ffff00;\" x=\"136.278358\" xlink:href=\"#mdb449ff19b\" y=\"74.950991\"/>\r\n    </g>\r\n   </g>\r\n   <g id=\"matplotlib.axis_1\">\r\n    <g id=\"xtick_1\">\r\n     <g id=\"line2d_1\">\r\n      <defs>\r\n       <path d=\"M 0 0 \r\nL 0 3.5 \r\n\" id=\"m248e39b0c3\" style=\"stroke:#000000;stroke-width:0.8;\"/>\r\n      </defs>\r\n      <g>\r\n       <use style=\"stroke:#000000;stroke-width:0.8;\" x=\"48.178856\" xlink:href=\"#m248e39b0c3\" y=\"227.24546\"/>\r\n      </g>\r\n     </g>\r\n     <g id=\"text_1\">\r\n      <!-- 3 -->\r\n      <g transform=\"translate(44.997606 241.843898)scale(0.1 -0.1)\">\r\n       <defs>\r\n        <path d=\"M 2597 2516 \r\nQ 3050 2419 3304 2112 \r\nQ 3559 1806 3559 1356 \r\nQ 3559 666 3084 287 \r\nQ 2609 -91 1734 -91 \r\nQ 1441 -91 1130 -33 \r\nQ 819 25 488 141 \r\nL 488 750 \r\nQ 750 597 1062 519 \r\nQ 1375 441 1716 441 \r\nQ 2309 441 2620 675 \r\nQ 2931 909 2931 1356 \r\nQ 2931 1769 2642 2001 \r\nQ 2353 2234 1838 2234 \r\nL 1294 2234 \r\nL 1294 2753 \r\nL 1863 2753 \r\nQ 2328 2753 2575 2939 \r\nQ 2822 3125 2822 3475 \r\nQ 2822 3834 2567 4026 \r\nQ 2313 4219 1838 4219 \r\nQ 1578 4219 1281 4162 \r\nQ 984 4106 628 3988 \r\nL 628 4550 \r\nQ 988 4650 1302 4700 \r\nQ 1616 4750 1894 4750 \r\nQ 2613 4750 3031 4423 \r\nQ 3450 4097 3450 3541 \r\nQ 3450 3153 3228 2886 \r\nQ 3006 2619 2597 2516 \r\nz\r\n\" id=\"DejaVuSans-33\" transform=\"scale(0.015625)\"/>\r\n       </defs>\r\n       <use xlink:href=\"#DejaVuSans-33\"/>\r\n      </g>\r\n     </g>\r\n    </g>\r\n    <g id=\"xtick_2\">\r\n     <g id=\"line2d_2\">\r\n      <g>\r\n       <use style=\"stroke:#000000;stroke-width:0.8;\" x=\"120.261248\" xlink:href=\"#m248e39b0c3\" y=\"227.24546\"/>\r\n      </g>\r\n     </g>\r\n     <g id=\"text_2\">\r\n      <!-- 4 -->\r\n      <g transform=\"translate(117.079998 241.843898)scale(0.1 -0.1)\">\r\n       <defs>\r\n        <path d=\"M 2419 4116 \r\nL 825 1625 \r\nL 2419 1625 \r\nL 2419 4116 \r\nz\r\nM 2253 4666 \r\nL 3047 4666 \r\nL 3047 1625 \r\nL 3713 1625 \r\nL 3713 1100 \r\nL 3047 1100 \r\nL 3047 0 \r\nL 2419 0 \r\nL 2419 1100 \r\nL 313 1100 \r\nL 313 1709 \r\nL 2253 4666 \r\nz\r\n\" id=\"DejaVuSans-34\" transform=\"scale(0.015625)\"/>\r\n       </defs>\r\n       <use xlink:href=\"#DejaVuSans-34\"/>\r\n      </g>\r\n     </g>\r\n    </g>\r\n    <g id=\"xtick_3\">\r\n     <g id=\"line2d_3\">\r\n      <g>\r\n       <use style=\"stroke:#000000;stroke-width:0.8;\" x=\"192.343641\" xlink:href=\"#m248e39b0c3\" y=\"227.24546\"/>\r\n      </g>\r\n     </g>\r\n     <g id=\"text_3\">\r\n      <!-- 5 -->\r\n      <g transform=\"translate(189.162391 241.843898)scale(0.1 -0.1)\">\r\n       <defs>\r\n        <path d=\"M 691 4666 \r\nL 3169 4666 \r\nL 3169 4134 \r\nL 1269 4134 \r\nL 1269 2991 \r\nQ 1406 3038 1543 3061 \r\nQ 1681 3084 1819 3084 \r\nQ 2600 3084 3056 2656 \r\nQ 3513 2228 3513 1497 \r\nQ 3513 744 3044 326 \r\nQ 2575 -91 1722 -91 \r\nQ 1428 -91 1123 -41 \r\nQ 819 9 494 109 \r\nL 494 744 \r\nQ 775 591 1075 516 \r\nQ 1375 441 1709 441 \r\nQ 2250 441 2565 725 \r\nQ 2881 1009 2881 1497 \r\nQ 2881 1984 2565 2268 \r\nQ 2250 2553 1709 2553 \r\nQ 1456 2553 1204 2497 \r\nQ 953 2441 691 2322 \r\nL 691 4666 \r\nz\r\n\" id=\"DejaVuSans-35\" transform=\"scale(0.015625)\"/>\r\n       </defs>\r\n       <use xlink:href=\"#DejaVuSans-35\"/>\r\n      </g>\r\n     </g>\r\n    </g>\r\n    <g id=\"xtick_4\">\r\n     <g id=\"line2d_4\">\r\n      <g>\r\n       <use style=\"stroke:#000000;stroke-width:0.8;\" x=\"264.426033\" xlink:href=\"#m248e39b0c3\" y=\"227.24546\"/>\r\n      </g>\r\n     </g>\r\n     <g id=\"text_4\">\r\n      <!-- 6 -->\r\n      <g transform=\"translate(261.244783 241.843898)scale(0.1 -0.1)\">\r\n       <defs>\r\n        <path d=\"M 2113 2584 \r\nQ 1688 2584 1439 2293 \r\nQ 1191 2003 1191 1497 \r\nQ 1191 994 1439 701 \r\nQ 1688 409 2113 409 \r\nQ 2538 409 2786 701 \r\nQ 3034 994 3034 1497 \r\nQ 3034 2003 2786 2293 \r\nQ 2538 2584 2113 2584 \r\nz\r\nM 3366 4563 \r\nL 3366 3988 \r\nQ 3128 4100 2886 4159 \r\nQ 2644 4219 2406 4219 \r\nQ 1781 4219 1451 3797 \r\nQ 1122 3375 1075 2522 \r\nQ 1259 2794 1537 2939 \r\nQ 1816 3084 2150 3084 \r\nQ 2853 3084 3261 2657 \r\nQ 3669 2231 3669 1497 \r\nQ 3669 778 3244 343 \r\nQ 2819 -91 2113 -91 \r\nQ 1303 -91 875 529 \r\nQ 447 1150 447 2328 \r\nQ 447 3434 972 4092 \r\nQ 1497 4750 2381 4750 \r\nQ 2619 4750 2861 4703 \r\nQ 3103 4656 3366 4563 \r\nz\r\n\" id=\"DejaVuSans-36\" transform=\"scale(0.015625)\"/>\r\n       </defs>\r\n       <use xlink:href=\"#DejaVuSans-36\"/>\r\n      </g>\r\n     </g>\r\n    </g>\r\n    <g id=\"xtick_5\">\r\n     <g id=\"line2d_5\">\r\n      <g>\r\n       <use style=\"stroke:#000000;stroke-width:0.8;\" x=\"336.508426\" xlink:href=\"#m248e39b0c3\" y=\"227.24546\"/>\r\n      </g>\r\n     </g>\r\n     <g id=\"text_5\">\r\n      <!-- 7 -->\r\n      <g transform=\"translate(333.327176 241.843898)scale(0.1 -0.1)\">\r\n       <defs>\r\n        <path d=\"M 525 4666 \r\nL 3525 4666 \r\nL 3525 4397 \r\nL 1831 0 \r\nL 1172 0 \r\nL 2766 4134 \r\nL 525 4134 \r\nL 525 4666 \r\nz\r\n\" id=\"DejaVuSans-37\" transform=\"scale(0.015625)\"/>\r\n       </defs>\r\n       <use xlink:href=\"#DejaVuSans-37\"/>\r\n      </g>\r\n     </g>\r\n    </g>\r\n    <g id=\"text_6\">\r\n     <!-- Width -->\r\n     <g transform=\"translate(196.657813 255.522023)scale(0.1 -0.1)\">\r\n      <defs>\r\n       <path d=\"M 213 4666 \r\nL 850 4666 \r\nL 1831 722 \r\nL 2809 4666 \r\nL 3519 4666 \r\nL 4500 722 \r\nL 5478 4666 \r\nL 6119 4666 \r\nL 4947 0 \r\nL 4153 0 \r\nL 3169 4050 \r\nL 2175 0 \r\nL 1381 0 \r\nL 213 4666 \r\nz\r\n\" id=\"DejaVuSans-57\" transform=\"scale(0.015625)\"/>\r\n       <path d=\"M 603 3500 \r\nL 1178 3500 \r\nL 1178 0 \r\nL 603 0 \r\nL 603 3500 \r\nz\r\nM 603 4863 \r\nL 1178 4863 \r\nL 1178 4134 \r\nL 603 4134 \r\nL 603 4863 \r\nz\r\n\" id=\"DejaVuSans-69\" transform=\"scale(0.015625)\"/>\r\n       <path d=\"M 2906 2969 \r\nL 2906 4863 \r\nL 3481 4863 \r\nL 3481 0 \r\nL 2906 0 \r\nL 2906 525 \r\nQ 2725 213 2448 61 \r\nQ 2172 -91 1784 -91 \r\nQ 1150 -91 751 415 \r\nQ 353 922 353 1747 \r\nQ 353 2572 751 3078 \r\nQ 1150 3584 1784 3584 \r\nQ 2172 3584 2448 3432 \r\nQ 2725 3281 2906 2969 \r\nz\r\nM 947 1747 \r\nQ 947 1113 1208 752 \r\nQ 1469 391 1925 391 \r\nQ 2381 391 2643 752 \r\nQ 2906 1113 2906 1747 \r\nQ 2906 2381 2643 2742 \r\nQ 2381 3103 1925 3103 \r\nQ 1469 3103 1208 2742 \r\nQ 947 2381 947 1747 \r\nz\r\n\" id=\"DejaVuSans-64\" transform=\"scale(0.015625)\"/>\r\n       <path d=\"M 1172 4494 \r\nL 1172 3500 \r\nL 2356 3500 \r\nL 2356 3053 \r\nL 1172 3053 \r\nL 1172 1153 \r\nQ 1172 725 1289 603 \r\nQ 1406 481 1766 481 \r\nL 2356 481 \r\nL 2356 0 \r\nL 1766 0 \r\nQ 1100 0 847 248 \r\nQ 594 497 594 1153 \r\nL 594 3053 \r\nL 172 3053 \r\nL 172 3500 \r\nL 594 3500 \r\nL 594 4494 \r\nL 1172 4494 \r\nz\r\n\" id=\"DejaVuSans-74\" transform=\"scale(0.015625)\"/>\r\n       <path d=\"M 3513 2113 \r\nL 3513 0 \r\nL 2938 0 \r\nL 2938 2094 \r\nQ 2938 2591 2744 2837 \r\nQ 2550 3084 2163 3084 \r\nQ 1697 3084 1428 2787 \r\nQ 1159 2491 1159 1978 \r\nL 1159 0 \r\nL 581 0 \r\nL 581 4863 \r\nL 1159 4863 \r\nL 1159 2956 \r\nQ 1366 3272 1645 3428 \r\nQ 1925 3584 2291 3584 \r\nQ 2894 3584 3203 3211 \r\nQ 3513 2838 3513 2113 \r\nz\r\n\" id=\"DejaVuSans-68\" transform=\"scale(0.015625)\"/>\r\n      </defs>\r\n      <use xlink:href=\"#DejaVuSans-57\"/>\r\n      <use x=\"96.626953\" xlink:href=\"#DejaVuSans-69\"/>\r\n      <use x=\"124.410156\" xlink:href=\"#DejaVuSans-64\"/>\r\n      <use x=\"187.886719\" xlink:href=\"#DejaVuSans-74\"/>\r\n      <use x=\"227.095703\" xlink:href=\"#DejaVuSans-68\"/>\r\n     </g>\r\n    </g>\r\n   </g>\r\n   <g id=\"matplotlib.axis_2\">\r\n    <g id=\"ytick_1\">\r\n     <g id=\"line2d_6\">\r\n      <defs>\r\n       <path d=\"M 0 0 \r\nL -3.5 0 \r\n\" id=\"mf68a17582d\" style=\"stroke:#000000;stroke-width:0.8;\"/>\r\n      </defs>\r\n      <g>\r\n       <use style=\"stroke:#000000;stroke-width:0.8;\" x=\"43.78125\" xlink:href=\"#mf68a17582d\" y=\"214.538127\"/>\r\n      </g>\r\n     </g>\r\n     <g id=\"text_7\">\r\n      <!-- 5.0 -->\r\n      <g transform=\"translate(20.878125 218.337346)scale(0.1 -0.1)\">\r\n       <defs>\r\n        <path d=\"M 684 794 \r\nL 1344 794 \r\nL 1344 0 \r\nL 684 0 \r\nL 684 794 \r\nz\r\n\" id=\"DejaVuSans-2e\" transform=\"scale(0.015625)\"/>\r\n        <path d=\"M 2034 4250 \r\nQ 1547 4250 1301 3770 \r\nQ 1056 3291 1056 2328 \r\nQ 1056 1369 1301 889 \r\nQ 1547 409 2034 409 \r\nQ 2525 409 2770 889 \r\nQ 3016 1369 3016 2328 \r\nQ 3016 3291 2770 3770 \r\nQ 2525 4250 2034 4250 \r\nz\r\nM 2034 4750 \r\nQ 2819 4750 3233 4129 \r\nQ 3647 3509 3647 2328 \r\nQ 3647 1150 3233 529 \r\nQ 2819 -91 2034 -91 \r\nQ 1250 -91 836 529 \r\nQ 422 1150 422 2328 \r\nQ 422 3509 836 4129 \r\nQ 1250 4750 2034 4750 \r\nz\r\n\" id=\"DejaVuSans-30\" transform=\"scale(0.015625)\"/>\r\n       </defs>\r\n       <use xlink:href=\"#DejaVuSans-35\"/>\r\n       <use x=\"63.623047\" xlink:href=\"#DejaVuSans-2e\"/>\r\n       <use x=\"95.410156\" xlink:href=\"#DejaVuSans-30\"/>\r\n      </g>\r\n     </g>\r\n    </g>\r\n    <g id=\"ytick_2\">\r\n     <g id=\"line2d_7\">\r\n      <g>\r\n       <use style=\"stroke:#000000;stroke-width:0.8;\" x=\"43.78125\" xlink:href=\"#mf68a17582d\" y=\"189.095763\"/>\r\n      </g>\r\n     </g>\r\n     <g id=\"text_8\">\r\n      <!-- 5.5 -->\r\n      <g transform=\"translate(20.878125 192.894982)scale(0.1 -0.1)\">\r\n       <use xlink:href=\"#DejaVuSans-35\"/>\r\n       <use x=\"63.623047\" xlink:href=\"#DejaVuSans-2e\"/>\r\n       <use x=\"95.410156\" xlink:href=\"#DejaVuSans-35\"/>\r\n      </g>\r\n     </g>\r\n    </g>\r\n    <g id=\"ytick_3\">\r\n     <g id=\"line2d_8\">\r\n      <g>\r\n       <use style=\"stroke:#000000;stroke-width:0.8;\" x=\"43.78125\" xlink:href=\"#mf68a17582d\" y=\"163.6534\"/>\r\n      </g>\r\n     </g>\r\n     <g id=\"text_9\">\r\n      <!-- 6.0 -->\r\n      <g transform=\"translate(20.878125 167.452619)scale(0.1 -0.1)\">\r\n       <use xlink:href=\"#DejaVuSans-36\"/>\r\n       <use x=\"63.623047\" xlink:href=\"#DejaVuSans-2e\"/>\r\n       <use x=\"95.410156\" xlink:href=\"#DejaVuSans-30\"/>\r\n      </g>\r\n     </g>\r\n    </g>\r\n    <g id=\"ytick_4\">\r\n     <g id=\"line2d_9\">\r\n      <g>\r\n       <use style=\"stroke:#000000;stroke-width:0.8;\" x=\"43.78125\" xlink:href=\"#mf68a17582d\" y=\"138.211036\"/>\r\n      </g>\r\n     </g>\r\n     <g id=\"text_10\">\r\n      <!-- 6.5 -->\r\n      <g transform=\"translate(20.878125 142.010255)scale(0.1 -0.1)\">\r\n       <use xlink:href=\"#DejaVuSans-36\"/>\r\n       <use x=\"63.623047\" xlink:href=\"#DejaVuSans-2e\"/>\r\n       <use x=\"95.410156\" xlink:href=\"#DejaVuSans-35\"/>\r\n      </g>\r\n     </g>\r\n    </g>\r\n    <g id=\"ytick_5\">\r\n     <g id=\"line2d_10\">\r\n      <g>\r\n       <use style=\"stroke:#000000;stroke-width:0.8;\" x=\"43.78125\" xlink:href=\"#mf68a17582d\" y=\"112.768673\"/>\r\n      </g>\r\n     </g>\r\n     <g id=\"text_11\">\r\n      <!-- 7.0 -->\r\n      <g transform=\"translate(20.878125 116.567892)scale(0.1 -0.1)\">\r\n       <use xlink:href=\"#DejaVuSans-37\"/>\r\n       <use x=\"63.623047\" xlink:href=\"#DejaVuSans-2e\"/>\r\n       <use x=\"95.410156\" xlink:href=\"#DejaVuSans-30\"/>\r\n      </g>\r\n     </g>\r\n    </g>\r\n    <g id=\"ytick_6\">\r\n     <g id=\"line2d_11\">\r\n      <g>\r\n       <use style=\"stroke:#000000;stroke-width:0.8;\" x=\"43.78125\" xlink:href=\"#mf68a17582d\" y=\"87.326309\"/>\r\n      </g>\r\n     </g>\r\n     <g id=\"text_12\">\r\n      <!-- 7.5 -->\r\n      <g transform=\"translate(20.878125 91.125528)scale(0.1 -0.1)\">\r\n       <use xlink:href=\"#DejaVuSans-37\"/>\r\n       <use x=\"63.623047\" xlink:href=\"#DejaVuSans-2e\"/>\r\n       <use x=\"95.410156\" xlink:href=\"#DejaVuSans-35\"/>\r\n      </g>\r\n     </g>\r\n    </g>\r\n    <g id=\"ytick_7\">\r\n     <g id=\"line2d_12\">\r\n      <g>\r\n       <use style=\"stroke:#000000;stroke-width:0.8;\" x=\"43.78125\" xlink:href=\"#mf68a17582d\" y=\"61.883946\"/>\r\n      </g>\r\n     </g>\r\n     <g id=\"text_13\">\r\n      <!-- 8.0 -->\r\n      <g transform=\"translate(20.878125 65.683165)scale(0.1 -0.1)\">\r\n       <defs>\r\n        <path d=\"M 2034 2216 \r\nQ 1584 2216 1326 1975 \r\nQ 1069 1734 1069 1313 \r\nQ 1069 891 1326 650 \r\nQ 1584 409 2034 409 \r\nQ 2484 409 2743 651 \r\nQ 3003 894 3003 1313 \r\nQ 3003 1734 2745 1975 \r\nQ 2488 2216 2034 2216 \r\nz\r\nM 1403 2484 \r\nQ 997 2584 770 2862 \r\nQ 544 3141 544 3541 \r\nQ 544 4100 942 4425 \r\nQ 1341 4750 2034 4750 \r\nQ 2731 4750 3128 4425 \r\nQ 3525 4100 3525 3541 \r\nQ 3525 3141 3298 2862 \r\nQ 3072 2584 2669 2484 \r\nQ 3125 2378 3379 2068 \r\nQ 3634 1759 3634 1313 \r\nQ 3634 634 3220 271 \r\nQ 2806 -91 2034 -91 \r\nQ 1263 -91 848 271 \r\nQ 434 634 434 1313 \r\nQ 434 1759 690 2068 \r\nQ 947 2378 1403 2484 \r\nz\r\nM 1172 3481 \r\nQ 1172 3119 1398 2916 \r\nQ 1625 2713 2034 2713 \r\nQ 2441 2713 2670 2916 \r\nQ 2900 3119 2900 3481 \r\nQ 2900 3844 2670 4047 \r\nQ 2441 4250 2034 4250 \r\nQ 1625 4250 1398 4047 \r\nQ 1172 3844 1172 3481 \r\nz\r\n\" id=\"DejaVuSans-38\" transform=\"scale(0.015625)\"/>\r\n       </defs>\r\n       <use xlink:href=\"#DejaVuSans-38\"/>\r\n       <use x=\"63.623047\" xlink:href=\"#DejaVuSans-2e\"/>\r\n       <use x=\"95.410156\" xlink:href=\"#DejaVuSans-30\"/>\r\n      </g>\r\n     </g>\r\n    </g>\r\n    <g id=\"ytick_8\">\r\n     <g id=\"line2d_13\">\r\n      <g>\r\n       <use style=\"stroke:#000000;stroke-width:0.8;\" x=\"43.78125\" xlink:href=\"#mf68a17582d\" y=\"36.441582\"/>\r\n      </g>\r\n     </g>\r\n     <g id=\"text_14\">\r\n      <!-- 8.5 -->\r\n      <g transform=\"translate(20.878125 40.240801)scale(0.1 -0.1)\">\r\n       <use xlink:href=\"#DejaVuSans-38\"/>\r\n       <use x=\"63.623047\" xlink:href=\"#DejaVuSans-2e\"/>\r\n       <use x=\"95.410156\" xlink:href=\"#DejaVuSans-35\"/>\r\n      </g>\r\n     </g>\r\n    </g>\r\n    <g id=\"ytick_9\">\r\n     <g id=\"line2d_14\">\r\n      <g>\r\n       <use style=\"stroke:#000000;stroke-width:0.8;\" x=\"43.78125\" xlink:href=\"#mf68a17582d\" y=\"10.999219\"/>\r\n      </g>\r\n     </g>\r\n     <g id=\"text_15\">\r\n      <!-- 9.0 -->\r\n      <g transform=\"translate(20.878125 14.798437)scale(0.1 -0.1)\">\r\n       <defs>\r\n        <path d=\"M 703 97 \r\nL 703 672 \r\nQ 941 559 1184 500 \r\nQ 1428 441 1663 441 \r\nQ 2288 441 2617 861 \r\nQ 2947 1281 2994 2138 \r\nQ 2813 1869 2534 1725 \r\nQ 2256 1581 1919 1581 \r\nQ 1219 1581 811 2004 \r\nQ 403 2428 403 3163 \r\nQ 403 3881 828 4315 \r\nQ 1253 4750 1959 4750 \r\nQ 2769 4750 3195 4129 \r\nQ 3622 3509 3622 2328 \r\nQ 3622 1225 3098 567 \r\nQ 2575 -91 1691 -91 \r\nQ 1453 -91 1209 -44 \r\nQ 966 3 703 97 \r\nz\r\nM 1959 2075 \r\nQ 2384 2075 2632 2365 \r\nQ 2881 2656 2881 3163 \r\nQ 2881 3666 2632 3958 \r\nQ 2384 4250 1959 4250 \r\nQ 1534 4250 1286 3958 \r\nQ 1038 3666 1038 3163 \r\nQ 1038 2656 1286 2365 \r\nQ 1534 2075 1959 2075 \r\nz\r\n\" id=\"DejaVuSans-39\" transform=\"scale(0.015625)\"/>\r\n       </defs>\r\n       <use xlink:href=\"#DejaVuSans-39\"/>\r\n       <use x=\"63.623047\" xlink:href=\"#DejaVuSans-2e\"/>\r\n       <use x=\"95.410156\" xlink:href=\"#DejaVuSans-30\"/>\r\n      </g>\r\n     </g>\r\n    </g>\r\n    <g id=\"text_16\">\r\n     <!-- Length -->\r\n     <g transform=\"translate(14.798438 135.772335)rotate(-90)scale(0.1 -0.1)\">\r\n      <defs>\r\n       <path d=\"M 628 4666 \r\nL 1259 4666 \r\nL 1259 531 \r\nL 3531 531 \r\nL 3531 0 \r\nL 628 0 \r\nL 628 4666 \r\nz\r\n\" id=\"DejaVuSans-4c\" transform=\"scale(0.015625)\"/>\r\n       <path d=\"M 3597 1894 \r\nL 3597 1613 \r\nL 953 1613 \r\nQ 991 1019 1311 708 \r\nQ 1631 397 2203 397 \r\nQ 2534 397 2845 478 \r\nQ 3156 559 3463 722 \r\nL 3463 178 \r\nQ 3153 47 2828 -22 \r\nQ 2503 -91 2169 -91 \r\nQ 1331 -91 842 396 \r\nQ 353 884 353 1716 \r\nQ 353 2575 817 3079 \r\nQ 1281 3584 2069 3584 \r\nQ 2775 3584 3186 3129 \r\nQ 3597 2675 3597 1894 \r\nz\r\nM 3022 2063 \r\nQ 3016 2534 2758 2815 \r\nQ 2500 3097 2075 3097 \r\nQ 1594 3097 1305 2825 \r\nQ 1016 2553 972 2059 \r\nL 3022 2063 \r\nz\r\n\" id=\"DejaVuSans-65\" transform=\"scale(0.015625)\"/>\r\n       <path d=\"M 3513 2113 \r\nL 3513 0 \r\nL 2938 0 \r\nL 2938 2094 \r\nQ 2938 2591 2744 2837 \r\nQ 2550 3084 2163 3084 \r\nQ 1697 3084 1428 2787 \r\nQ 1159 2491 1159 1978 \r\nL 1159 0 \r\nL 581 0 \r\nL 581 3500 \r\nL 1159 3500 \r\nL 1159 2956 \r\nQ 1366 3272 1645 3428 \r\nQ 1925 3584 2291 3584 \r\nQ 2894 3584 3203 3211 \r\nQ 3513 2838 3513 2113 \r\nz\r\n\" id=\"DejaVuSans-6e\" transform=\"scale(0.015625)\"/>\r\n       <path d=\"M 2906 1791 \r\nQ 2906 2416 2648 2759 \r\nQ 2391 3103 1925 3103 \r\nQ 1463 3103 1205 2759 \r\nQ 947 2416 947 1791 \r\nQ 947 1169 1205 825 \r\nQ 1463 481 1925 481 \r\nQ 2391 481 2648 825 \r\nQ 2906 1169 2906 1791 \r\nz\r\nM 3481 434 \r\nQ 3481 -459 3084 -895 \r\nQ 2688 -1331 1869 -1331 \r\nQ 1566 -1331 1297 -1286 \r\nQ 1028 -1241 775 -1147 \r\nL 775 -588 \r\nQ 1028 -725 1275 -790 \r\nQ 1522 -856 1778 -856 \r\nQ 2344 -856 2625 -561 \r\nQ 2906 -266 2906 331 \r\nL 2906 616 \r\nQ 2728 306 2450 153 \r\nQ 2172 0 1784 0 \r\nQ 1141 0 747 490 \r\nQ 353 981 353 1791 \r\nQ 353 2603 747 3093 \r\nQ 1141 3584 1784 3584 \r\nQ 2172 3584 2450 3431 \r\nQ 2728 3278 2906 2969 \r\nL 2906 3500 \r\nL 3481 3500 \r\nL 3481 434 \r\nz\r\n\" id=\"DejaVuSans-67\" transform=\"scale(0.015625)\"/>\r\n      </defs>\r\n      <use xlink:href=\"#DejaVuSans-4c\"/>\r\n      <use x=\"53.962891\" xlink:href=\"#DejaVuSans-65\"/>\r\n      <use x=\"115.486328\" xlink:href=\"#DejaVuSans-6e\"/>\r\n      <use x=\"178.865234\" xlink:href=\"#DejaVuSans-67\"/>\r\n      <use x=\"242.341797\" xlink:href=\"#DejaVuSans-74\"/>\r\n      <use x=\"281.550781\" xlink:href=\"#DejaVuSans-68\"/>\r\n     </g>\r\n    </g>\r\n   </g>\r\n   <g id=\"patch_3\">\r\n    <path d=\"M 43.78125 227.24546 \r\nL 43.78125 9.80546 \r\n\" style=\"fill:none;stroke:#000000;stroke-linecap:square;stroke-linejoin:miter;stroke-width:0.8;\"/>\r\n   </g>\r\n   <g id=\"patch_4\">\r\n    <path d=\"M 378.58125 227.24546 \r\nL 378.58125 9.80546 \r\n\" style=\"fill:none;stroke:#000000;stroke-linecap:square;stroke-linejoin:miter;stroke-width:0.8;\"/>\r\n   </g>\r\n   <g id=\"patch_5\">\r\n    <path d=\"M 43.78125 227.24546 \r\nL 378.58125 227.24546 \r\n\" style=\"fill:none;stroke:#000000;stroke-linecap:square;stroke-linejoin:miter;stroke-width:0.8;\"/>\r\n   </g>\r\n   <g id=\"patch_6\">\r\n    <path d=\"M 43.78125 9.80546 \r\nL 378.58125 9.80546 \r\n\" style=\"fill:none;stroke:#000000;stroke-linecap:square;stroke-linejoin:miter;stroke-width:0.8;\"/>\r\n   </g>\r\n  </g>\r\n </g>\r\n <defs>\r\n  <clipPath id=\"p293ca84bbf\">\r\n   <rect height=\"217.44\" width=\"334.8\" x=\"43.78125\" y=\"9.80546\"/>\r\n  </clipPath>\r\n </defs>\r\n</svg>\r\n",
      "image/png": "[encoded data removed]"
     },
     "metadata": {
      "needs_background": "light"
     }
    }
   ],
   "metadata": {}
  },
  {
   "cell_type": "code",
   "execution_count": 52,
   "source": [
    "class kNearestNeighbors(): #چون الگوریتم ساده ای هست فاز \"ترین\" هم در آن ساده است\r\n",
    "    def __init__(self, k):# زمانی الگوریتم میخواد اجرا بشه تنها چیزی میپرسه \"کا\" است\r\n",
    "        self.k = k # یک \"کا\" به عنوان پارامتر براش میفرستیم\r\n",
    "        # در این الگوریتم به این گونه است که موقعیت هر ایتم را بدوانیم(مثلا سیب ها کجا هستند ) تا بتوانی با ورود میوه جدید با یافتن فاصله محاسبات و پیش بینی انجام دهیم \r\n",
    "        # تابعی که عملیات \"ترین\" رو انجام میده معمولا به نام \"\"فیت\" می شناسیم. یک سری داده را روی یک مدل فیت کنیم یعنی ان ها \"ترین\" شدندdef fit(self, X_train , Y_train): #( \"ترین\" میشه دانستن داده های ورودی)میوه هایی که از اول تولید کردیم و موجود هستند\r\n",
    "    \r\n",
    "    def fit(self, X_train , Y_train): \r\n",
    "        self.X_train = X_train\r\n",
    "        self.Y_train = Y_train\r\n",
    "        #الگوریتم حق داره تعداد دسته ها را بداند و کلاس هایی که توسط آن ها پیش بینی انجام شود باید مشخص گردد__ در تارگت ما دو عدد منحصر به فرد وجود دارد صفر و یک پس دوتا کلاس داریم\r\n",
    "        self.number_classes = len(np.unique(Y_train))\r\n",
    "\r\n",
    "        # اول باید همسایه هارو پیدا کنی تا بعد بریم سراغ همسایه های نزدیک\r\n",
    "    def nearNeighbors(self , X_test):\r\n",
    "        #از فاصله اقلیدوسی برای یافتن فاصله میوه جدید با 200 تا تمام میوه قبلی استفاده میکنیم \r\n",
    "        #فاصله با تمام میوه ها که حساب شد سورت میکنیم و \"کا\" تا نزدیک تر رو بر میداریم\r\n",
    "        # تابع جمع در اینجا در نهایت یک عدد رو جزر میگیره و یک عدد به ما میده که به درد ما نخواهد خورد ما به اندازه تمام دیتای \"ترین\" شده فاصله نیاز داریم پس باشد اکسیس = 1 را قرار دهیم\r\n",
    "        dist = np.sqrt(np.sum((X_test - self.X_train) ** 2 , axis = 1))\r\n",
    "        #فاصله ها را سورت میکنه و \"کا\" تا اول را بر میداردو اسمش را میگزاریم همسایه های نزدیک    \r\n",
    "        #وقتی بر اساس فاصله صورت میکنیم و در متغییر میریزیم فاصله هارو داریم\r\n",
    "        # ما نیاز به فاصله ها نداریم ما نیاز به مشخص شن نوع میوه داریم پس از \"آرگ سورت\" استفاده میکنیم تا اندیس را داشته باشیم\r\n",
    "        # بعد ازینکه اندیس \"کا\" میوه نزدیک را در بین تمام میوه ها بدست آوریم \r\n",
    "        near_neighbors = np.argsort(dist)[:self.k]\r\n",
    "        # حال باید ببینیم از میوه های مشخص شده کدام تکرار بیشتری دارد\r\n",
    "        print(\" تا همسایه k ---->\", near_neighbors)\r\n",
    "        print(\" برای همسایه های نزدیک Y ---->\",self.Y_train[near_neighbors])      \r\n",
    "        # با تایع \"بین \"کا\"نت\" می توانیم تعداد رخ داد های در آرایه را ببینیم یا بهتر بگیم تعداد تکرار مقادری هر خانه آرائه را نمایش می دهد\r\n",
    "        # چک میکنیم اندیس  بیش\"ترین\" عدد تکرار شده را نشان بده تا بفهمیم 0 یا 1 بیشتر تکرار شده\r\n",
    "        print(\"تعداد تکرار همسایه ----> \",np.bincount(self.Y_train[near_neighbors]))\r\n",
    "        return near_neighbors\r\n",
    "\r\n",
    "            \r\n",
    "        # این تابع یک داده از ما میگیرد و برچسبش رو \"ترین\" میکنه و موقع جواب دادن رسیده. پس تنها پارامتری که میگیره ویژگی یا ایکس هست و خودش باید پیش بینی انجام دهد\r\n",
    "        # کی‌ان‌ان\" میگه \"کا\" همسایه های نزدیک رو پیدا کن و ببین به کدوم آیتم شبیه تر است\"\r\n",
    "    def predict (self, X_test):\r\n",
    "        near_neighbors = self.nearNeighbors(X_test)\r\n",
    "        #به همسایه های نزدیک تابع قبل نگاه میکند و پردیکت انجام میدهد \r\n",
    "        y = np.argmax(np.bincount(self.Y_train[near_neighbors]))\r\n",
    "        return y"
   ],
   "outputs": [],
   "metadata": {}
  },
  {
   "cell_type": "code",
   "execution_count": 53,
   "source": [
    "knn = kNearestNeighbors (k = 5)\r\n",
    "knn.fit(X,Y)"
   ],
   "outputs": [],
   "metadata": {}
  },
  {
   "cell_type": "code",
   "execution_count": 54,
   "source": [
    "new_fruit = np.array([4.7 , 6.8])\r\n",
    "y_pred = knn.predict(new_fruit)\r\n",
    "friut = { 0 : 'موز' , \r\n",
    "          1: 'سیب'}\r\n",
    "print(friut[y_pred])"
   ],
   "outputs": [
    {
     "output_type": "stream",
     "name": "stdout",
     "text": [
      " تا همسایه k ----> [  2 134 111 167  83]\n",
      " برای همسایه های نزدیک Y ----> [0 1 1 1 0]\n",
      "تعداد تکرار همسایه ---->  [2 3]\n",
      "سیب\n"
     ]
    }
   ],
   "metadata": {}
  }
 ],
 "metadata": {
  "orig_nbformat": 4,
  "language_info": {
   "name": "python",
   "version": "3.9.6",
   "mimetype": "text/x-python",
   "codemirror_mode": {
    "name": "ipython",
    "version": 3
   },
   "pygments_lexer": "ipython3",
   "nbconvert_exporter": "python",
   "file_extension": ".py"
  },
  "kernelspec": {
   "name": "python3",
   "display_name": "Python 3.9.6 64-bit"
  },
  "interpreter": {
   "hash": "ac59ebe37160ed0dfa835113d9b8498d9f09ceb179beaac4002f036b9467c963"
  }
 },
 "nbformat": 4,
 "nbformat_minor": 2
}