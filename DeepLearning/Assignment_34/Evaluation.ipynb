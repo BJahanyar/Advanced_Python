{
 "cells": [
  {
   "cell_type": "code",
   "execution_count": 23,
   "source": [
    "import matplotlib.pyplot as plt\r\n",
    "import numpy as np\r\n",
    "from sklearn.model_selection import train_test_split\r\n",
    "from sklearn.metrics import accuracy_score"
   ],
   "outputs": [],
   "metadata": {}
  },
  {
   "cell_type": "code",
   "execution_count": 24,
   "source": [
    "N = 50\r\n",
    "std = 0.4\r\n",
    "\r\n",
    "Apple_width = np.random.normal(6, std, N)\r\n",
    "Apple_length = np.random.normal(6, std, N)\r\n",
    "\r\n",
    "Benanas_width = np.random.normal(4, std, N)\r\n",
    "Benanas_length = np.random.normal(8, std, N)"
   ],
   "outputs": [],
   "metadata": {}
  },
  {
   "cell_type": "code",
   "execution_count": 25,
   "source": [
    "width = np.concatenate((Apple_width, Benanas_width))\r\n",
    "length = np.concatenate((Apple_length, Benanas_length))"
   ],
   "outputs": [],
   "metadata": {}
  },
  {
   "cell_type": "code",
   "execution_count": 26,
   "source": [
    "X = np.array([width, length]).T\r\n",
    "Apple_lable = np.zeros(N, dtype = 'int') \r\n",
    "Benanas_lable = np.ones(N, dtype = 'int')"
   ],
   "outputs": [],
   "metadata": {}
  },
  {
   "cell_type": "code",
   "execution_count": 27,
   "source": [
    "Y = np.concatenate((Apple_lable,Benanas_lable))"
   ],
   "outputs": [],
   "metadata": {}
  },
  {
   "cell_type": "code",
   "execution_count": 28,
   "source": [
    "X_train, X_test, Y_train, Y_test = train_test_split(X, Y)\r\n",
    "#print(Y_train)\r\n",
    "print(X_test)"
   ],
   "outputs": [
    {
     "output_type": "stream",
     "name": "stdout",
     "text": [
      "[[3.72983101 8.23413227]\n",
      " [4.50741875 8.40267864]\n",
      " [4.77107623 7.90313407]\n",
      " [4.22050769 7.83451653]\n",
      " [3.80056952 8.09573431]\n",
      " [3.97592766 7.95052884]\n",
      " [6.70816339 5.510677  ]\n",
      " [6.27555456 6.09405925]\n",
      " [4.08938045 8.3882441 ]\n",
      " [6.20642791 5.93149542]\n",
      " [6.19431919 6.39414376]\n",
      " [5.66646271 6.0075206 ]\n",
      " [5.7966435  6.10809856]\n",
      " [3.23858466 7.74686488]\n",
      " [4.56317139 8.0977106 ]\n",
      " [5.5682716  5.80768511]\n",
      " [6.07506815 5.79903525]\n",
      " [3.65017186 8.38258753]\n",
      " [5.61687949 6.39775528]\n",
      " [6.5587023  5.29164829]\n",
      " [5.54639889 5.91156282]\n",
      " [5.50055797 6.22955902]\n",
      " [6.14331964 6.81381551]\n",
      " [3.9730837  8.17195642]\n",
      " [4.33122643 8.22250988]]\n"
     ]
    }
   ],
   "metadata": {}
  },
  {
   "cell_type": "code",
   "execution_count": 29,
   "source": [
    "print(\"whole dataset:\", X.shape, Y.shape)\r\n",
    "print(\"training set:\", X_train.shape,Y_train.shape)\r\n",
    "print(\"test set:\", X_test.shape, Y_test.shape)"
   ],
   "outputs": [
    {
     "output_type": "stream",
     "name": "stdout",
     "text": [
      "whole dataset: (100, 2) (100,)\n",
      "training set: (75, 2) (75,)\n",
      "test set: (25, 2) (25,)\n"
     ]
    }
   ],
   "metadata": {}
  },
  {
   "cell_type": "code",
   "execution_count": 30,
   "source": [
    "fig = plt.figure()\r\n",
    "plt.scatter(X[0:N , 0] , X[0:N , 1] ,  c = 'RED')\r\n",
    "plt.scatter(X[N: ,0] , X[N: ,1]  , c = 'yellow')\r\n",
    "plt.xlabel('Width')\r\n",
    "plt.ylabel('Length')"
   ],
   "outputs": [
    {
     "output_type": "execute_result",
     "data": {
      "text/plain": [
       "Text(0, 0.5, 'Length')"
      ]
     },
     "metadata": {},
     "execution_count": 30
    },
    {
     "output_type": "display_data",
     "data": {
      "text/plain": [
       "<Figure size 432x288 with 1 Axes>"
      ],
      "image/svg+xml": "<?xml version=\"1.0\" encoding=\"utf-8\" standalone=\"no\"?>\r\n<!DOCTYPE svg PUBLIC \"-//W3C//DTD SVG 1.1//EN\"\r\n  \"http://www.w3.org/Graphics/SVG/1.1/DTD/svg11.dtd\">\r\n<svg height=\"262.19625pt\" version=\"1.1\" viewBox=\"0 0 385.78125 262.19625\" width=\"385.78125pt\" xmlns=\"http://www.w3.org/2000/svg\" xmlns:xlink=\"http://www.w3.org/1999/xlink\">\r\n <metadata>\r\n  <rdf:RDF xmlns:cc=\"http://creativecommons.org/ns#\" xmlns:dc=\"http://purl.org/dc/elements/1.1/\" xmlns:rdf=\"http://www.w3.org/1999/02/22-rdf-syntax-ns#\">\r\n   <cc:Work>\r\n    <dc:type rdf:resource=\"http://purl.org/dc/dcmitype/StillImage\"/>\r\n    <dc:date>2021-08-12T10:46:39.940546</dc:date>\r\n    <dc:format>image/svg+xml</dc:format>\r\n    <dc:creator>\r\n     <cc:Agent>\r\n      <dc:title>Matplotlib v3.4.2, https://matplotlib.org/</dc:title>\r\n     </cc:Agent>\r\n    </dc:creator>\r\n   </cc:Work>\r\n  </rdf:RDF>\r\n </metadata>\r\n <defs>\r\n  <style type=\"text/css\">*{stroke-linecap:butt;stroke-linejoin:round;}</style>\r\n </defs>\r\n <g id=\"figure_1\">\r\n  <g id=\"patch_1\">\r\n   <path d=\"M 0 262.19625 \r\nL 385.78125 262.19625 \r\nL 385.78125 0 \r\nL 0 0 \r\nz\r\n\" style=\"fill:none;\"/>\r\n  </g>\r\n  <g id=\"axes_1\">\r\n   <g id=\"patch_2\">\r\n    <path d=\"M 43.78125 224.64 \r\nL 378.58125 224.64 \r\nL 378.58125 7.2 \r\nL 43.78125 7.2 \r\nz\r\n\" style=\"fill:#ffffff;\"/>\r\n   </g>\r\n   <g id=\"PathCollection_1\">\r\n    <defs>\r\n     <path d=\"M 0 3 \r\nC 0.795609 3 1.55874 2.683901 2.12132 2.12132 \r\nC 2.683901 1.55874 3 0.795609 3 0 \r\nC 3 -0.795609 2.683901 -1.55874 2.12132 -2.12132 \r\nC 1.55874 -2.683901 0.795609 -3 0 -3 \r\nC -0.795609 -3 -1.55874 -2.683901 -2.12132 -2.12132 \r\nC -2.683901 -1.55874 -3 -0.795609 -3 0 \r\nC -3 0.795609 -2.683901 1.55874 -2.12132 2.12132 \r\nC -1.55874 2.683901 -0.795609 3 0 3 \r\nz\r\n\" id=\"m40f89a0e29\" style=\"stroke:#ff0000;\"/>\r\n    </defs>\r\n    <g clip-path=\"url(#pa3fed50b10)\">\r\n     <use style=\"fill:#ff0000;stroke:#ff0000;\" x=\"301.989156\" xlink:href=\"#m40f89a0e29\" y=\"192.759369\"/>\r\n     <use style=\"fill:#ff0000;stroke:#ff0000;\" x=\"325.948799\" xlink:href=\"#m40f89a0e29\" y=\"165.080736\"/>\r\n     <use style=\"fill:#ff0000;stroke:#ff0000;\" x=\"346.505968\" xlink:href=\"#m40f89a0e29\" y=\"204.536742\"/>\r\n     <use style=\"fill:#ff0000;stroke:#ff0000;\" x=\"270.846419\" xlink:href=\"#m40f89a0e29\" y=\"214.756364\"/>\r\n     <use style=\"fill:#ff0000;stroke:#ff0000;\" x=\"265.799411\" xlink:href=\"#m40f89a0e29\" y=\"142.04173\"/>\r\n     <use style=\"fill:#ff0000;stroke:#ff0000;\" x=\"325.226811\" xlink:href=\"#m40f89a0e29\" y=\"203.934913\"/>\r\n     <use style=\"fill:#ff0000;stroke:#ff0000;\" x=\"316.318917\" xlink:href=\"#m40f89a0e29\" y=\"168.385398\"/>\r\n     <use style=\"fill:#ff0000;stroke:#ff0000;\" x=\"259.784758\" xlink:href=\"#m40f89a0e29\" y=\"170.053831\"/>\r\n     <use style=\"fill:#ff0000;stroke:#ff0000;\" x=\"315.818806\" xlink:href=\"#m40f89a0e29\" y=\"156.020702\"/>\r\n     <use style=\"fill:#ff0000;stroke:#ff0000;\" x=\"259.759797\" xlink:href=\"#m40f89a0e29\" y=\"169.51159\"/>\r\n     <use style=\"fill:#ff0000;stroke:#ff0000;\" x=\"255.831602\" xlink:href=\"#m40f89a0e29\" y=\"151.544814\"/>\r\n     <use style=\"fill:#ff0000;stroke:#ff0000;\" x=\"313.465687\" xlink:href=\"#m40f89a0e29\" y=\"163.729966\"/>\r\n     <use style=\"fill:#ff0000;stroke:#ff0000;\" x=\"308.372537\" xlink:href=\"#m40f89a0e29\" y=\"180.332477\"/>\r\n     <use style=\"fill:#ff0000;stroke:#ff0000;\" x=\"315.608783\" xlink:href=\"#m40f89a0e29\" y=\"154.291148\"/>\r\n     <use style=\"fill:#ff0000;stroke:#ff0000;\" x=\"311.403868\" xlink:href=\"#m40f89a0e29\" y=\"129.386296\"/>\r\n     <use style=\"fill:#ff0000;stroke:#ff0000;\" x=\"305.659642\" xlink:href=\"#m40f89a0e29\" y=\"184.697433\"/>\r\n     <use style=\"fill:#ff0000;stroke:#ff0000;\" x=\"305.062454\" xlink:href=\"#m40f89a0e29\" y=\"175.869394\"/>\r\n     <use style=\"fill:#ff0000;stroke:#ff0000;\" x=\"322.320341\" xlink:href=\"#m40f89a0e29\" y=\"176.880178\"/>\r\n     <use style=\"fill:#ff0000;stroke:#ff0000;\" x=\"241.92249\" xlink:href=\"#m40f89a0e29\" y=\"140.259094\"/>\r\n     <use style=\"fill:#ff0000;stroke:#ff0000;\" x=\"338.192019\" xlink:href=\"#m40f89a0e29\" y=\"152.025803\"/>\r\n     <use style=\"fill:#ff0000;stroke:#ff0000;\" x=\"307.257611\" xlink:href=\"#m40f89a0e29\" y=\"202.136418\"/>\r\n     <use style=\"fill:#ff0000;stroke:#ff0000;\" x=\"314.521484\" xlink:href=\"#m40f89a0e29\" y=\"153.815638\"/>\r\n     <use style=\"fill:#ff0000;stroke:#ff0000;\" x=\"277.772595\" xlink:href=\"#m40f89a0e29\" y=\"196.427435\"/>\r\n     <use style=\"fill:#ff0000;stroke:#ff0000;\" x=\"315.281298\" xlink:href=\"#m40f89a0e29\" y=\"142.245781\"/>\r\n     <use style=\"fill:#ff0000;stroke:#ff0000;\" x=\"363.363068\" xlink:href=\"#m40f89a0e29\" y=\"166.381935\"/>\r\n     <use style=\"fill:#ff0000;stroke:#ff0000;\" x=\"261.63411\" xlink:href=\"#m40f89a0e29\" y=\"175.380677\"/>\r\n     <use style=\"fill:#ff0000;stroke:#ff0000;\" x=\"252.006478\" xlink:href=\"#m40f89a0e29\" y=\"165.53033\"/>\r\n     <use style=\"fill:#ff0000;stroke:#ff0000;\" x=\"240.279518\" xlink:href=\"#m40f89a0e29\" y=\"204.111267\"/>\r\n     <use style=\"fill:#ff0000;stroke:#ff0000;\" x=\"359.313568\" xlink:href=\"#m40f89a0e29\" y=\"192.161626\"/>\r\n     <use style=\"fill:#ff0000;stroke:#ff0000;\" x=\"254.403704\" xlink:href=\"#m40f89a0e29\" y=\"189.324721\"/>\r\n     <use style=\"fill:#ff0000;stroke:#ff0000;\" x=\"251.712973\" xlink:href=\"#m40f89a0e29\" y=\"180.889762\"/>\r\n     <use style=\"fill:#ff0000;stroke:#ff0000;\" x=\"357.820637\" xlink:href=\"#m40f89a0e29\" y=\"175.70927\"/>\r\n     <use style=\"fill:#ff0000;stroke:#ff0000;\" x=\"359.68256\" xlink:href=\"#m40f89a0e29\" y=\"198.452884\"/>\r\n     <use style=\"fill:#ff0000;stroke:#ff0000;\" x=\"305.700882\" xlink:href=\"#m40f89a0e29\" y=\"151.134208\"/>\r\n     <use style=\"fill:#ff0000;stroke:#ff0000;\" x=\"307.849705\" xlink:href=\"#m40f89a0e29\" y=\"131.533455\"/>\r\n     <use style=\"fill:#ff0000;stroke:#ff0000;\" x=\"317.172065\" xlink:href=\"#m40f89a0e29\" y=\"201.671437\"/>\r\n     <use style=\"fill:#ff0000;stroke:#ff0000;\" x=\"286.461346\" xlink:href=\"#m40f89a0e29\" y=\"178.06006\"/>\r\n     <use style=\"fill:#ff0000;stroke:#ff0000;\" x=\"302.05981\" xlink:href=\"#m40f89a0e29\" y=\"182.431725\"/>\r\n     <use style=\"fill:#ff0000;stroke:#ff0000;\" x=\"322.821272\" xlink:href=\"#m40f89a0e29\" y=\"169.750518\"/>\r\n     <use style=\"fill:#ff0000;stroke:#ff0000;\" x=\"312.693561\" xlink:href=\"#m40f89a0e29\" y=\"142.533666\"/>\r\n     <use style=\"fill:#ff0000;stroke:#ff0000;\" x=\"254.196933\" xlink:href=\"#m40f89a0e29\" y=\"191.090594\"/>\r\n     <use style=\"fill:#ff0000;stroke:#ff0000;\" x=\"322.242509\" xlink:href=\"#m40f89a0e29\" y=\"159.200546\"/>\r\n     <use style=\"fill:#ff0000;stroke:#ff0000;\" x=\"270.386125\" xlink:href=\"#m40f89a0e29\" y=\"159.712789\"/>\r\n     <use style=\"fill:#ff0000;stroke:#ff0000;\" x=\"307.056807\" xlink:href=\"#m40f89a0e29\" y=\"168.218546\"/>\r\n     <use style=\"fill:#ff0000;stroke:#ff0000;\" x=\"243.017484\" xlink:href=\"#m40f89a0e29\" y=\"146.894112\"/>\r\n     <use style=\"fill:#ff0000;stroke:#ff0000;\" x=\"339.675729\" xlink:href=\"#m40f89a0e29\" y=\"163.26896\"/>\r\n     <use style=\"fill:#ff0000;stroke:#ff0000;\" x=\"310.911052\" xlink:href=\"#m40f89a0e29\" y=\"118.534339\"/>\r\n     <use style=\"fill:#ff0000;stroke:#ff0000;\" x=\"270.04829\" xlink:href=\"#m40f89a0e29\" y=\"164.089978\"/>\r\n     <use style=\"fill:#ff0000;stroke:#ff0000;\" x=\"281.203725\" xlink:href=\"#m40f89a0e29\" y=\"158.407326\"/>\r\n     <use style=\"fill:#ff0000;stroke:#ff0000;\" x=\"242.232922\" xlink:href=\"#m40f89a0e29\" y=\"144.853335\"/>\r\n    </g>\r\n   </g>\r\n   <g id=\"PathCollection_2\">\r\n    <defs>\r\n     <path d=\"M 0 3 \r\nC 0.795609 3 1.55874 2.683901 2.12132 2.12132 \r\nC 2.683901 1.55874 3 0.795609 3 0 \r\nC 3 -0.795609 2.683901 -1.55874 2.12132 -2.12132 \r\nC 1.55874 -2.683901 0.795609 -3 0 -3 \r\nC -0.795609 -3 -1.55874 -2.683901 -2.12132 -2.12132 \r\nC -2.683901 -1.55874 -3 -0.795609 -3 0 \r\nC -3 0.795609 -2.683901 1.55874 -2.12132 2.12132 \r\nC -1.55874 2.683901 -0.795609 3 0 3 \r\nz\r\n\" id=\"maea05ae281\" style=\"stroke:#ffff00;\"/>\r\n    </defs>\r\n    <g clip-path=\"url(#pa3fed50b10)\">\r\n     <use style=\"fill:#ffff00;stroke:#ffff00;\" x=\"170.727646\" xlink:href=\"#maea05ae281\" y=\"28.76362\"/>\r\n     <use style=\"fill:#ffff00;stroke:#ffff00;\" x=\"61.99888\" xlink:href=\"#maea05ae281\" y=\"65.817078\"/>\r\n     <use style=\"fill:#ffff00;stroke:#ffff00;\" x=\"146.141701\" xlink:href=\"#maea05ae281\" y=\"60.864763\"/>\r\n     <use style=\"fill:#ffff00;stroke:#ffff00;\" x=\"134.905162\" xlink:href=\"#maea05ae281\" y=\"29.579171\"/>\r\n     <use style=\"fill:#ffff00;stroke:#ffff00;\" x=\"102.671239\" xlink:href=\"#maea05ae281\" y=\"81.08298\"/>\r\n     <use style=\"fill:#ffff00;stroke:#ffff00;\" x=\"108.756946\" xlink:href=\"#maea05ae281\" y=\"24.798668\"/>\r\n     <use style=\"fill:#ffff00;stroke:#ffff00;\" x=\"84.003548\" xlink:href=\"#maea05ae281\" y=\"66.625816\"/>\r\n     <use style=\"fill:#ffff00;stroke:#ffff00;\" x=\"93.110237\" xlink:href=\"#maea05ae281\" y=\"26.594325\"/>\r\n     <use style=\"fill:#ffff00;stroke:#ffff00;\" x=\"148.774641\" xlink:href=\"#maea05ae281\" y=\"21.966242\"/>\r\n     <use style=\"fill:#ffff00;stroke:#ffff00;\" x=\"117.247866\" xlink:href=\"#maea05ae281\" y=\"57.224089\"/>\r\n     <use style=\"fill:#ffff00;stroke:#ffff00;\" x=\"99.463346\" xlink:href=\"#maea05ae281\" y=\"65.77599\"/>\r\n     <use style=\"fill:#ffff00;stroke:#ffff00;\" x=\"104.094699\" xlink:href=\"#maea05ae281\" y=\"38.286485\"/>\r\n     <use style=\"fill:#ffff00;stroke:#ffff00;\" x=\"155.629396\" xlink:href=\"#maea05ae281\" y=\"38.94315\"/>\r\n     <use style=\"fill:#ffff00;stroke:#ffff00;\" x=\"127.479392\" xlink:href=\"#maea05ae281\" y=\"35.961401\"/>\r\n     <use style=\"fill:#ffff00;stroke:#ffff00;\" x=\"131.856694\" xlink:href=\"#maea05ae281\" y=\"45.563999\"/>\r\n     <use style=\"fill:#ffff00;stroke:#ffff00;\" x=\"164.975934\" xlink:href=\"#maea05ae281\" y=\"17.799561\"/>\r\n     <use style=\"fill:#ffff00;stroke:#ffff00;\" x=\"173.837102\" xlink:href=\"#maea05ae281\" y=\"75.62068\"/>\r\n     <use style=\"fill:#ffff00;stroke:#ffff00;\" x=\"150.44219\" xlink:href=\"#maea05ae281\" y=\"52.483195\"/>\r\n     <use style=\"fill:#ffff00;stroke:#ffff00;\" x=\"97.268557\" xlink:href=\"#maea05ae281\" y=\"29.898767\"/>\r\n     <use style=\"fill:#ffff00;stroke:#ffff00;\" x=\"122.079343\" xlink:href=\"#maea05ae281\" y=\"39.325391\"/>\r\n     <use style=\"fill:#ffff00;stroke:#ffff00;\" x=\"103.663062\" xlink:href=\"#maea05ae281\" y=\"45.541805\"/>\r\n     <use style=\"fill:#ffff00;stroke:#ffff00;\" x=\"147.334573\" xlink:href=\"#maea05ae281\" y=\"60.572134\"/>\r\n     <use style=\"fill:#ffff00;stroke:#ffff00;\" x=\"193.320948\" xlink:href=\"#maea05ae281\" y=\"56.987874\"/>\r\n     <use style=\"fill:#ffff00;stroke:#ffff00;\" x=\"111.697237\" xlink:href=\"#maea05ae281\" y=\"69.84747\"/>\r\n     <use style=\"fill:#ffff00;stroke:#ffff00;\" x=\"99.097793\" xlink:href=\"#maea05ae281\" y=\"72.938662\"/>\r\n     <use style=\"fill:#ffff00;stroke:#ffff00;\" x=\"155.727146\" xlink:href=\"#maea05ae281\" y=\"61.432536\"/>\r\n     <use style=\"fill:#ffff00;stroke:#ffff00;\" x=\"110.156414\" xlink:href=\"#maea05ae281\" y=\"46.105965\"/>\r\n     <use style=\"fill:#ffff00;stroke:#ffff00;\" x=\"176.361259\" xlink:href=\"#maea05ae281\" y=\"112.47872\"/>\r\n     <use style=\"fill:#ffff00;stroke:#ffff00;\" x=\"196.581988\" xlink:href=\"#maea05ae281\" y=\"83.565114\"/>\r\n     <use style=\"fill:#ffff00;stroke:#ffff00;\" x=\"122.235567\" xlink:href=\"#maea05ae281\" y=\"57.94982\"/>\r\n     <use style=\"fill:#ffff00;stroke:#ffff00;\" x=\"124.939477\" xlink:href=\"#maea05ae281\" y=\"41.799419\"/>\r\n     <use style=\"fill:#ffff00;stroke:#ffff00;\" x=\"137.44147\" xlink:href=\"#maea05ae281\" y=\"61.781698\"/>\r\n     <use style=\"fill:#ffff00;stroke:#ffff00;\" x=\"156.833832\" xlink:href=\"#maea05ae281\" y=\"58.955868\"/>\r\n     <use style=\"fill:#ffff00;stroke:#ffff00;\" x=\"125.183181\" xlink:href=\"#maea05ae281\" y=\"54.31007\"/>\r\n     <use style=\"fill:#ffff00;stroke:#ffff00;\" x=\"118.064892\" xlink:href=\"#maea05ae281\" y=\"29.413606\"/>\r\n     <use style=\"fill:#ffff00;stroke:#ffff00;\" x=\"130.76268\" xlink:href=\"#maea05ae281\" y=\"59.429767\"/>\r\n     <use style=\"fill:#ffff00;stroke:#ffff00;\" x=\"138.451453\" xlink:href=\"#maea05ae281\" y=\"101.210149\"/>\r\n     <use style=\"fill:#ffff00;stroke:#ffff00;\" x=\"151.941552\" xlink:href=\"#maea05ae281\" y=\"21.952148\"/>\r\n     <use style=\"fill:#ffff00;stroke:#ffff00;\" x=\"103.077813\" xlink:href=\"#maea05ae281\" y=\"17.083636\"/>\r\n     <use style=\"fill:#ffff00;stroke:#ffff00;\" x=\"150.360712\" xlink:href=\"#maea05ae281\" y=\"72.752623\"/>\r\n     <use style=\"fill:#ffff00;stroke:#ffff00;\" x=\"127.034694\" xlink:href=\"#maea05ae281\" y=\"64.450803\"/>\r\n     <use style=\"fill:#ffff00;stroke:#ffff00;\" x=\"58.999432\" xlink:href=\"#maea05ae281\" y=\"36.214026\"/>\r\n     <use style=\"fill:#ffff00;stroke:#ffff00;\" x=\"76.057751\" xlink:href=\"#maea05ae281\" y=\"56.838323\"/>\r\n     <use style=\"fill:#ffff00;stroke:#ffff00;\" x=\"113.194757\" xlink:href=\"#maea05ae281\" y=\"36.732896\"/>\r\n     <use style=\"fill:#ffff00;stroke:#ffff00;\" x=\"136.375673\" xlink:href=\"#maea05ae281\" y=\"58.396746\"/>\r\n     <use style=\"fill:#ffff00;stroke:#ffff00;\" x=\"95.613039\" xlink:href=\"#maea05ae281\" y=\"39.61472\"/>\r\n     <use style=\"fill:#ffff00;stroke:#ffff00;\" x=\"175.505194\" xlink:href=\"#maea05ae281\" y=\"45.994305\"/>\r\n     <use style=\"fill:#ffff00;stroke:#ffff00;\" x=\"117.53428\" xlink:href=\"#maea05ae281\" y=\"52.858111\"/>\r\n     <use style=\"fill:#ffff00;stroke:#ffff00;\" x=\"103.71529\" xlink:href=\"#maea05ae281\" y=\"47.189155\"/>\r\n     <use style=\"fill:#ffff00;stroke:#ffff00;\" x=\"160.537817\" xlink:href=\"#maea05ae281\" y=\"57.524236\"/>\r\n    </g>\r\n   </g>\r\n   <g id=\"matplotlib.axis_1\">\r\n    <g id=\"xtick_1\">\r\n     <g id=\"line2d_1\">\r\n      <defs>\r\n       <path d=\"M 0 0 \r\nL 0 3.5 \r\n\" id=\"m29f81016c3\" style=\"stroke:#000000;stroke-width:0.8;\"/>\r\n      </defs>\r\n      <g>\r\n       <use style=\"stroke:#000000;stroke-width:0.8;\" x=\"84.40005\" xlink:href=\"#m29f81016c3\" y=\"224.64\"/>\r\n      </g>\r\n     </g>\r\n     <g id=\"text_1\">\r\n      <!-- 3.5 -->\r\n      <g transform=\"translate(76.448487 239.238437)scale(0.1 -0.1)\">\r\n       <defs>\r\n        <path d=\"M 2597 2516 \r\nQ 3050 2419 3304 2112 \r\nQ 3559 1806 3559 1356 \r\nQ 3559 666 3084 287 \r\nQ 2609 -91 1734 -91 \r\nQ 1441 -91 1130 -33 \r\nQ 819 25 488 141 \r\nL 488 750 \r\nQ 750 597 1062 519 \r\nQ 1375 441 1716 441 \r\nQ 2309 441 2620 675 \r\nQ 2931 909 2931 1356 \r\nQ 2931 1769 2642 2001 \r\nQ 2353 2234 1838 2234 \r\nL 1294 2234 \r\nL 1294 2753 \r\nL 1863 2753 \r\nQ 2328 2753 2575 2939 \r\nQ 2822 3125 2822 3475 \r\nQ 2822 3834 2567 4026 \r\nQ 2313 4219 1838 4219 \r\nQ 1578 4219 1281 4162 \r\nQ 984 4106 628 3988 \r\nL 628 4550 \r\nQ 988 4650 1302 4700 \r\nQ 1616 4750 1894 4750 \r\nQ 2613 4750 3031 4423 \r\nQ 3450 4097 3450 3541 \r\nQ 3450 3153 3228 2886 \r\nQ 3006 2619 2597 2516 \r\nz\r\n\" id=\"DejaVuSans-33\" transform=\"scale(0.015625)\"/>\r\n        <path d=\"M 684 794 \r\nL 1344 794 \r\nL 1344 0 \r\nL 684 0 \r\nL 684 794 \r\nz\r\n\" id=\"DejaVuSans-2e\" transform=\"scale(0.015625)\"/>\r\n        <path d=\"M 691 4666 \r\nL 3169 4666 \r\nL 3169 4134 \r\nL 1269 4134 \r\nL 1269 2991 \r\nQ 1406 3038 1543 3061 \r\nQ 1681 3084 1819 3084 \r\nQ 2600 3084 3056 2656 \r\nQ 3513 2228 3513 1497 \r\nQ 3513 744 3044 326 \r\nQ 2575 -91 1722 -91 \r\nQ 1428 -91 1123 -41 \r\nQ 819 9 494 109 \r\nL 494 744 \r\nQ 775 591 1075 516 \r\nQ 1375 441 1709 441 \r\nQ 2250 441 2565 725 \r\nQ 2881 1009 2881 1497 \r\nQ 2881 1984 2565 2268 \r\nQ 2250 2553 1709 2553 \r\nQ 1456 2553 1204 2497 \r\nQ 953 2441 691 2322 \r\nL 691 4666 \r\nz\r\n\" id=\"DejaVuSans-35\" transform=\"scale(0.015625)\"/>\r\n       </defs>\r\n       <use xlink:href=\"#DejaVuSans-33\"/>\r\n       <use x=\"63.623047\" xlink:href=\"#DejaVuSans-2e\"/>\r\n       <use x=\"95.410156\" xlink:href=\"#DejaVuSans-35\"/>\r\n      </g>\r\n     </g>\r\n    </g>\r\n    <g id=\"xtick_2\">\r\n     <g id=\"line2d_2\">\r\n      <g>\r\n       <use style=\"stroke:#000000;stroke-width:0.8;\" x=\"127.245985\" xlink:href=\"#m29f81016c3\" y=\"224.64\"/>\r\n      </g>\r\n     </g>\r\n     <g id=\"text_2\">\r\n      <!-- 4.0 -->\r\n      <g transform=\"translate(119.294422 239.238437)scale(0.1 -0.1)\">\r\n       <defs>\r\n        <path d=\"M 2419 4116 \r\nL 825 1625 \r\nL 2419 1625 \r\nL 2419 4116 \r\nz\r\nM 2253 4666 \r\nL 3047 4666 \r\nL 3047 1625 \r\nL 3713 1625 \r\nL 3713 1100 \r\nL 3047 1100 \r\nL 3047 0 \r\nL 2419 0 \r\nL 2419 1100 \r\nL 313 1100 \r\nL 313 1709 \r\nL 2253 4666 \r\nz\r\n\" id=\"DejaVuSans-34\" transform=\"scale(0.015625)\"/>\r\n        <path d=\"M 2034 4250 \r\nQ 1547 4250 1301 3770 \r\nQ 1056 3291 1056 2328 \r\nQ 1056 1369 1301 889 \r\nQ 1547 409 2034 409 \r\nQ 2525 409 2770 889 \r\nQ 3016 1369 3016 2328 \r\nQ 3016 3291 2770 3770 \r\nQ 2525 4250 2034 4250 \r\nz\r\nM 2034 4750 \r\nQ 2819 4750 3233 4129 \r\nQ 3647 3509 3647 2328 \r\nQ 3647 1150 3233 529 \r\nQ 2819 -91 2034 -91 \r\nQ 1250 -91 836 529 \r\nQ 422 1150 422 2328 \r\nQ 422 3509 836 4129 \r\nQ 1250 4750 2034 4750 \r\nz\r\n\" id=\"DejaVuSans-30\" transform=\"scale(0.015625)\"/>\r\n       </defs>\r\n       <use xlink:href=\"#DejaVuSans-34\"/>\r\n       <use x=\"63.623047\" xlink:href=\"#DejaVuSans-2e\"/>\r\n       <use x=\"95.410156\" xlink:href=\"#DejaVuSans-30\"/>\r\n      </g>\r\n     </g>\r\n    </g>\r\n    <g id=\"xtick_3\">\r\n     <g id=\"line2d_3\">\r\n      <g>\r\n       <use style=\"stroke:#000000;stroke-width:0.8;\" x=\"170.091919\" xlink:href=\"#m29f81016c3\" y=\"224.64\"/>\r\n      </g>\r\n     </g>\r\n     <g id=\"text_3\">\r\n      <!-- 4.5 -->\r\n      <g transform=\"translate(162.140357 239.238437)scale(0.1 -0.1)\">\r\n       <use xlink:href=\"#DejaVuSans-34\"/>\r\n       <use x=\"63.623047\" xlink:href=\"#DejaVuSans-2e\"/>\r\n       <use x=\"95.410156\" xlink:href=\"#DejaVuSans-35\"/>\r\n      </g>\r\n     </g>\r\n    </g>\r\n    <g id=\"xtick_4\">\r\n     <g id=\"line2d_4\">\r\n      <g>\r\n       <use style=\"stroke:#000000;stroke-width:0.8;\" x=\"212.937854\" xlink:href=\"#m29f81016c3\" y=\"224.64\"/>\r\n      </g>\r\n     </g>\r\n     <g id=\"text_4\">\r\n      <!-- 5.0 -->\r\n      <g transform=\"translate(204.986292 239.238437)scale(0.1 -0.1)\">\r\n       <use xlink:href=\"#DejaVuSans-35\"/>\r\n       <use x=\"63.623047\" xlink:href=\"#DejaVuSans-2e\"/>\r\n       <use x=\"95.410156\" xlink:href=\"#DejaVuSans-30\"/>\r\n      </g>\r\n     </g>\r\n    </g>\r\n    <g id=\"xtick_5\">\r\n     <g id=\"line2d_5\">\r\n      <g>\r\n       <use style=\"stroke:#000000;stroke-width:0.8;\" x=\"255.783789\" xlink:href=\"#m29f81016c3\" y=\"224.64\"/>\r\n      </g>\r\n     </g>\r\n     <g id=\"text_5\">\r\n      <!-- 5.5 -->\r\n      <g transform=\"translate(247.832226 239.238437)scale(0.1 -0.1)\">\r\n       <use xlink:href=\"#DejaVuSans-35\"/>\r\n       <use x=\"63.623047\" xlink:href=\"#DejaVuSans-2e\"/>\r\n       <use x=\"95.410156\" xlink:href=\"#DejaVuSans-35\"/>\r\n      </g>\r\n     </g>\r\n    </g>\r\n    <g id=\"xtick_6\">\r\n     <g id=\"line2d_6\">\r\n      <g>\r\n       <use style=\"stroke:#000000;stroke-width:0.8;\" x=\"298.629724\" xlink:href=\"#m29f81016c3\" y=\"224.64\"/>\r\n      </g>\r\n     </g>\r\n     <g id=\"text_6\">\r\n      <!-- 6.0 -->\r\n      <g transform=\"translate(290.678161 239.238437)scale(0.1 -0.1)\">\r\n       <defs>\r\n        <path d=\"M 2113 2584 \r\nQ 1688 2584 1439 2293 \r\nQ 1191 2003 1191 1497 \r\nQ 1191 994 1439 701 \r\nQ 1688 409 2113 409 \r\nQ 2538 409 2786 701 \r\nQ 3034 994 3034 1497 \r\nQ 3034 2003 2786 2293 \r\nQ 2538 2584 2113 2584 \r\nz\r\nM 3366 4563 \r\nL 3366 3988 \r\nQ 3128 4100 2886 4159 \r\nQ 2644 4219 2406 4219 \r\nQ 1781 4219 1451 3797 \r\nQ 1122 3375 1075 2522 \r\nQ 1259 2794 1537 2939 \r\nQ 1816 3084 2150 3084 \r\nQ 2853 3084 3261 2657 \r\nQ 3669 2231 3669 1497 \r\nQ 3669 778 3244 343 \r\nQ 2819 -91 2113 -91 \r\nQ 1303 -91 875 529 \r\nQ 447 1150 447 2328 \r\nQ 447 3434 972 4092 \r\nQ 1497 4750 2381 4750 \r\nQ 2619 4750 2861 4703 \r\nQ 3103 4656 3366 4563 \r\nz\r\n\" id=\"DejaVuSans-36\" transform=\"scale(0.015625)\"/>\r\n       </defs>\r\n       <use xlink:href=\"#DejaVuSans-36\"/>\r\n       <use x=\"63.623047\" xlink:href=\"#DejaVuSans-2e\"/>\r\n       <use x=\"95.410156\" xlink:href=\"#DejaVuSans-30\"/>\r\n      </g>\r\n     </g>\r\n    </g>\r\n    <g id=\"xtick_7\">\r\n     <g id=\"line2d_7\">\r\n      <g>\r\n       <use style=\"stroke:#000000;stroke-width:0.8;\" x=\"341.475658\" xlink:href=\"#m29f81016c3\" y=\"224.64\"/>\r\n      </g>\r\n     </g>\r\n     <g id=\"text_7\">\r\n      <!-- 6.5 -->\r\n      <g transform=\"translate(333.524096 239.238437)scale(0.1 -0.1)\">\r\n       <use xlink:href=\"#DejaVuSans-36\"/>\r\n       <use x=\"63.623047\" xlink:href=\"#DejaVuSans-2e\"/>\r\n       <use x=\"95.410156\" xlink:href=\"#DejaVuSans-35\"/>\r\n      </g>\r\n     </g>\r\n    </g>\r\n    <g id=\"text_8\">\r\n     <!-- Width -->\r\n     <g transform=\"translate(196.657813 252.916562)scale(0.1 -0.1)\">\r\n      <defs>\r\n       <path d=\"M 213 4666 \r\nL 850 4666 \r\nL 1831 722 \r\nL 2809 4666 \r\nL 3519 4666 \r\nL 4500 722 \r\nL 5478 4666 \r\nL 6119 4666 \r\nL 4947 0 \r\nL 4153 0 \r\nL 3169 4050 \r\nL 2175 0 \r\nL 1381 0 \r\nL 213 4666 \r\nz\r\n\" id=\"DejaVuSans-57\" transform=\"scale(0.015625)\"/>\r\n       <path d=\"M 603 3500 \r\nL 1178 3500 \r\nL 1178 0 \r\nL 603 0 \r\nL 603 3500 \r\nz\r\nM 603 4863 \r\nL 1178 4863 \r\nL 1178 4134 \r\nL 603 4134 \r\nL 603 4863 \r\nz\r\n\" id=\"DejaVuSans-69\" transform=\"scale(0.015625)\"/>\r\n       <path d=\"M 2906 2969 \r\nL 2906 4863 \r\nL 3481 4863 \r\nL 3481 0 \r\nL 2906 0 \r\nL 2906 525 \r\nQ 2725 213 2448 61 \r\nQ 2172 -91 1784 -91 \r\nQ 1150 -91 751 415 \r\nQ 353 922 353 1747 \r\nQ 353 2572 751 3078 \r\nQ 1150 3584 1784 3584 \r\nQ 2172 3584 2448 3432 \r\nQ 2725 3281 2906 2969 \r\nz\r\nM 947 1747 \r\nQ 947 1113 1208 752 \r\nQ 1469 391 1925 391 \r\nQ 2381 391 2643 752 \r\nQ 2906 1113 2906 1747 \r\nQ 2906 2381 2643 2742 \r\nQ 2381 3103 1925 3103 \r\nQ 1469 3103 1208 2742 \r\nQ 947 2381 947 1747 \r\nz\r\n\" id=\"DejaVuSans-64\" transform=\"scale(0.015625)\"/>\r\n       <path d=\"M 1172 4494 \r\nL 1172 3500 \r\nL 2356 3500 \r\nL 2356 3053 \r\nL 1172 3053 \r\nL 1172 1153 \r\nQ 1172 725 1289 603 \r\nQ 1406 481 1766 481 \r\nL 2356 481 \r\nL 2356 0 \r\nL 1766 0 \r\nQ 1100 0 847 248 \r\nQ 594 497 594 1153 \r\nL 594 3053 \r\nL 172 3053 \r\nL 172 3500 \r\nL 594 3500 \r\nL 594 4494 \r\nL 1172 4494 \r\nz\r\n\" id=\"DejaVuSans-74\" transform=\"scale(0.015625)\"/>\r\n       <path d=\"M 3513 2113 \r\nL 3513 0 \r\nL 2938 0 \r\nL 2938 2094 \r\nQ 2938 2591 2744 2837 \r\nQ 2550 3084 2163 3084 \r\nQ 1697 3084 1428 2787 \r\nQ 1159 2491 1159 1978 \r\nL 1159 0 \r\nL 581 0 \r\nL 581 4863 \r\nL 1159 4863 \r\nL 1159 2956 \r\nQ 1366 3272 1645 3428 \r\nQ 1925 3584 2291 3584 \r\nQ 2894 3584 3203 3211 \r\nQ 3513 2838 3513 2113 \r\nz\r\n\" id=\"DejaVuSans-68\" transform=\"scale(0.015625)\"/>\r\n      </defs>\r\n      <use xlink:href=\"#DejaVuSans-57\"/>\r\n      <use x=\"96.626953\" xlink:href=\"#DejaVuSans-69\"/>\r\n      <use x=\"124.410156\" xlink:href=\"#DejaVuSans-64\"/>\r\n      <use x=\"187.886719\" xlink:href=\"#DejaVuSans-74\"/>\r\n      <use x=\"227.095703\" xlink:href=\"#DejaVuSans-68\"/>\r\n     </g>\r\n    </g>\r\n   </g>\r\n   <g id=\"matplotlib.axis_2\">\r\n    <g id=\"ytick_1\">\r\n     <g id=\"line2d_8\">\r\n      <defs>\r\n       <path d=\"M 0 0 \r\nL -3.5 0 \r\n\" id=\"me31282b31e\" style=\"stroke:#000000;stroke-width:0.8;\"/>\r\n      </defs>\r\n      <g>\r\n       <use style=\"stroke:#000000;stroke-width:0.8;\" x=\"43.78125\" xlink:href=\"#me31282b31e\" y=\"221.014861\"/>\r\n      </g>\r\n     </g>\r\n     <g id=\"text_9\">\r\n      <!-- 5.0 -->\r\n      <g transform=\"translate(20.878125 224.81408)scale(0.1 -0.1)\">\r\n       <use xlink:href=\"#DejaVuSans-35\"/>\r\n       <use x=\"63.623047\" xlink:href=\"#DejaVuSans-2e\"/>\r\n       <use x=\"95.410156\" xlink:href=\"#DejaVuSans-30\"/>\r\n      </g>\r\n     </g>\r\n    </g>\r\n    <g id=\"ytick_2\">\r\n     <g id=\"line2d_9\">\r\n      <g>\r\n       <use style=\"stroke:#000000;stroke-width:0.8;\" x=\"43.78125\" xlink:href=\"#me31282b31e\" y=\"192.764876\"/>\r\n      </g>\r\n     </g>\r\n     <g id=\"text_10\">\r\n      <!-- 5.5 -->\r\n      <g transform=\"translate(20.878125 196.564095)scale(0.1 -0.1)\">\r\n       <use xlink:href=\"#DejaVuSans-35\"/>\r\n       <use x=\"63.623047\" xlink:href=\"#DejaVuSans-2e\"/>\r\n       <use x=\"95.410156\" xlink:href=\"#DejaVuSans-35\"/>\r\n      </g>\r\n     </g>\r\n    </g>\r\n    <g id=\"ytick_3\">\r\n     <g id=\"line2d_10\">\r\n      <g>\r\n       <use style=\"stroke:#000000;stroke-width:0.8;\" x=\"43.78125\" xlink:href=\"#me31282b31e\" y=\"164.514891\"/>\r\n      </g>\r\n     </g>\r\n     <g id=\"text_11\">\r\n      <!-- 6.0 -->\r\n      <g transform=\"translate(20.878125 168.31411)scale(0.1 -0.1)\">\r\n       <use xlink:href=\"#DejaVuSans-36\"/>\r\n       <use x=\"63.623047\" xlink:href=\"#DejaVuSans-2e\"/>\r\n       <use x=\"95.410156\" xlink:href=\"#DejaVuSans-30\"/>\r\n      </g>\r\n     </g>\r\n    </g>\r\n    <g id=\"ytick_4\">\r\n     <g id=\"line2d_11\">\r\n      <g>\r\n       <use style=\"stroke:#000000;stroke-width:0.8;\" x=\"43.78125\" xlink:href=\"#me31282b31e\" y=\"136.264906\"/>\r\n      </g>\r\n     </g>\r\n     <g id=\"text_12\">\r\n      <!-- 6.5 -->\r\n      <g transform=\"translate(20.878125 140.064125)scale(0.1 -0.1)\">\r\n       <use xlink:href=\"#DejaVuSans-36\"/>\r\n       <use x=\"63.623047\" xlink:href=\"#DejaVuSans-2e\"/>\r\n       <use x=\"95.410156\" xlink:href=\"#DejaVuSans-35\"/>\r\n      </g>\r\n     </g>\r\n    </g>\r\n    <g id=\"ytick_5\">\r\n     <g id=\"line2d_12\">\r\n      <g>\r\n       <use style=\"stroke:#000000;stroke-width:0.8;\" x=\"43.78125\" xlink:href=\"#me31282b31e\" y=\"108.014921\"/>\r\n      </g>\r\n     </g>\r\n     <g id=\"text_13\">\r\n      <!-- 7.0 -->\r\n      <g transform=\"translate(20.878125 111.81414)scale(0.1 -0.1)\">\r\n       <defs>\r\n        <path d=\"M 525 4666 \r\nL 3525 4666 \r\nL 3525 4397 \r\nL 1831 0 \r\nL 1172 0 \r\nL 2766 4134 \r\nL 525 4134 \r\nL 525 4666 \r\nz\r\n\" id=\"DejaVuSans-37\" transform=\"scale(0.015625)\"/>\r\n       </defs>\r\n       <use xlink:href=\"#DejaVuSans-37\"/>\r\n       <use x=\"63.623047\" xlink:href=\"#DejaVuSans-2e\"/>\r\n       <use x=\"95.410156\" xlink:href=\"#DejaVuSans-30\"/>\r\n      </g>\r\n     </g>\r\n    </g>\r\n    <g id=\"ytick_6\">\r\n     <g id=\"line2d_13\">\r\n      <g>\r\n       <use style=\"stroke:#000000;stroke-width:0.8;\" x=\"43.78125\" xlink:href=\"#me31282b31e\" y=\"79.764936\"/>\r\n      </g>\r\n     </g>\r\n     <g id=\"text_14\">\r\n      <!-- 7.5 -->\r\n      <g transform=\"translate(20.878125 83.564155)scale(0.1 -0.1)\">\r\n       <use xlink:href=\"#DejaVuSans-37\"/>\r\n       <use x=\"63.623047\" xlink:href=\"#DejaVuSans-2e\"/>\r\n       <use x=\"95.410156\" xlink:href=\"#DejaVuSans-35\"/>\r\n      </g>\r\n     </g>\r\n    </g>\r\n    <g id=\"ytick_7\">\r\n     <g id=\"line2d_14\">\r\n      <g>\r\n       <use style=\"stroke:#000000;stroke-width:0.8;\" x=\"43.78125\" xlink:href=\"#me31282b31e\" y=\"51.514951\"/>\r\n      </g>\r\n     </g>\r\n     <g id=\"text_15\">\r\n      <!-- 8.0 -->\r\n      <g transform=\"translate(20.878125 55.31417)scale(0.1 -0.1)\">\r\n       <defs>\r\n        <path d=\"M 2034 2216 \r\nQ 1584 2216 1326 1975 \r\nQ 1069 1734 1069 1313 \r\nQ 1069 891 1326 650 \r\nQ 1584 409 2034 409 \r\nQ 2484 409 2743 651 \r\nQ 3003 894 3003 1313 \r\nQ 3003 1734 2745 1975 \r\nQ 2488 2216 2034 2216 \r\nz\r\nM 1403 2484 \r\nQ 997 2584 770 2862 \r\nQ 544 3141 544 3541 \r\nQ 544 4100 942 4425 \r\nQ 1341 4750 2034 4750 \r\nQ 2731 4750 3128 4425 \r\nQ 3525 4100 3525 3541 \r\nQ 3525 3141 3298 2862 \r\nQ 3072 2584 2669 2484 \r\nQ 3125 2378 3379 2068 \r\nQ 3634 1759 3634 1313 \r\nQ 3634 634 3220 271 \r\nQ 2806 -91 2034 -91 \r\nQ 1263 -91 848 271 \r\nQ 434 634 434 1313 \r\nQ 434 1759 690 2068 \r\nQ 947 2378 1403 2484 \r\nz\r\nM 1172 3481 \r\nQ 1172 3119 1398 2916 \r\nQ 1625 2713 2034 2713 \r\nQ 2441 2713 2670 2916 \r\nQ 2900 3119 2900 3481 \r\nQ 2900 3844 2670 4047 \r\nQ 2441 4250 2034 4250 \r\nQ 1625 4250 1398 4047 \r\nQ 1172 3844 1172 3481 \r\nz\r\n\" id=\"DejaVuSans-38\" transform=\"scale(0.015625)\"/>\r\n       </defs>\r\n       <use xlink:href=\"#DejaVuSans-38\"/>\r\n       <use x=\"63.623047\" xlink:href=\"#DejaVuSans-2e\"/>\r\n       <use x=\"95.410156\" xlink:href=\"#DejaVuSans-30\"/>\r\n      </g>\r\n     </g>\r\n    </g>\r\n    <g id=\"ytick_8\">\r\n     <g id=\"line2d_15\">\r\n      <g>\r\n       <use style=\"stroke:#000000;stroke-width:0.8;\" x=\"43.78125\" xlink:href=\"#me31282b31e\" y=\"23.264966\"/>\r\n      </g>\r\n     </g>\r\n     <g id=\"text_16\">\r\n      <!-- 8.5 -->\r\n      <g transform=\"translate(20.878125 27.064185)scale(0.1 -0.1)\">\r\n       <use xlink:href=\"#DejaVuSans-38\"/>\r\n       <use x=\"63.623047\" xlink:href=\"#DejaVuSans-2e\"/>\r\n       <use x=\"95.410156\" xlink:href=\"#DejaVuSans-35\"/>\r\n      </g>\r\n     </g>\r\n    </g>\r\n    <g id=\"text_17\">\r\n     <!-- Length -->\r\n     <g transform=\"translate(14.798438 133.166875)rotate(-90)scale(0.1 -0.1)\">\r\n      <defs>\r\n       <path d=\"M 628 4666 \r\nL 1259 4666 \r\nL 1259 531 \r\nL 3531 531 \r\nL 3531 0 \r\nL 628 0 \r\nL 628 4666 \r\nz\r\n\" id=\"DejaVuSans-4c\" transform=\"scale(0.015625)\"/>\r\n       <path d=\"M 3597 1894 \r\nL 3597 1613 \r\nL 953 1613 \r\nQ 991 1019 1311 708 \r\nQ 1631 397 2203 397 \r\nQ 2534 397 2845 478 \r\nQ 3156 559 3463 722 \r\nL 3463 178 \r\nQ 3153 47 2828 -22 \r\nQ 2503 -91 2169 -91 \r\nQ 1331 -91 842 396 \r\nQ 353 884 353 1716 \r\nQ 353 2575 817 3079 \r\nQ 1281 3584 2069 3584 \r\nQ 2775 3584 3186 3129 \r\nQ 3597 2675 3597 1894 \r\nz\r\nM 3022 2063 \r\nQ 3016 2534 2758 2815 \r\nQ 2500 3097 2075 3097 \r\nQ 1594 3097 1305 2825 \r\nQ 1016 2553 972 2059 \r\nL 3022 2063 \r\nz\r\n\" id=\"DejaVuSans-65\" transform=\"scale(0.015625)\"/>\r\n       <path d=\"M 3513 2113 \r\nL 3513 0 \r\nL 2938 0 \r\nL 2938 2094 \r\nQ 2938 2591 2744 2837 \r\nQ 2550 3084 2163 3084 \r\nQ 1697 3084 1428 2787 \r\nQ 1159 2491 1159 1978 \r\nL 1159 0 \r\nL 581 0 \r\nL 581 3500 \r\nL 1159 3500 \r\nL 1159 2956 \r\nQ 1366 3272 1645 3428 \r\nQ 1925 3584 2291 3584 \r\nQ 2894 3584 3203 3211 \r\nQ 3513 2838 3513 2113 \r\nz\r\n\" id=\"DejaVuSans-6e\" transform=\"scale(0.015625)\"/>\r\n       <path d=\"M 2906 1791 \r\nQ 2906 2416 2648 2759 \r\nQ 2391 3103 1925 3103 \r\nQ 1463 3103 1205 2759 \r\nQ 947 2416 947 1791 \r\nQ 947 1169 1205 825 \r\nQ 1463 481 1925 481 \r\nQ 2391 481 2648 825 \r\nQ 2906 1169 2906 1791 \r\nz\r\nM 3481 434 \r\nQ 3481 -459 3084 -895 \r\nQ 2688 -1331 1869 -1331 \r\nQ 1566 -1331 1297 -1286 \r\nQ 1028 -1241 775 -1147 \r\nL 775 -588 \r\nQ 1028 -725 1275 -790 \r\nQ 1522 -856 1778 -856 \r\nQ 2344 -856 2625 -561 \r\nQ 2906 -266 2906 331 \r\nL 2906 616 \r\nQ 2728 306 2450 153 \r\nQ 2172 0 1784 0 \r\nQ 1141 0 747 490 \r\nQ 353 981 353 1791 \r\nQ 353 2603 747 3093 \r\nQ 1141 3584 1784 3584 \r\nQ 2172 3584 2450 3431 \r\nQ 2728 3278 2906 2969 \r\nL 2906 3500 \r\nL 3481 3500 \r\nL 3481 434 \r\nz\r\n\" id=\"DejaVuSans-67\" transform=\"scale(0.015625)\"/>\r\n      </defs>\r\n      <use xlink:href=\"#DejaVuSans-4c\"/>\r\n      <use x=\"53.962891\" xlink:href=\"#DejaVuSans-65\"/>\r\n      <use x=\"115.486328\" xlink:href=\"#DejaVuSans-6e\"/>\r\n      <use x=\"178.865234\" xlink:href=\"#DejaVuSans-67\"/>\r\n      <use x=\"242.341797\" xlink:href=\"#DejaVuSans-74\"/>\r\n      <use x=\"281.550781\" xlink:href=\"#DejaVuSans-68\"/>\r\n     </g>\r\n    </g>\r\n   </g>\r\n   <g id=\"patch_3\">\r\n    <path d=\"M 43.78125 224.64 \r\nL 43.78125 7.2 \r\n\" style=\"fill:none;stroke:#000000;stroke-linecap:square;stroke-linejoin:miter;stroke-width:0.8;\"/>\r\n   </g>\r\n   <g id=\"patch_4\">\r\n    <path d=\"M 378.58125 224.64 \r\nL 378.58125 7.2 \r\n\" style=\"fill:none;stroke:#000000;stroke-linecap:square;stroke-linejoin:miter;stroke-width:0.8;\"/>\r\n   </g>\r\n   <g id=\"patch_5\">\r\n    <path d=\"M 43.78125 224.64 \r\nL 378.58125 224.64 \r\n\" style=\"fill:none;stroke:#000000;stroke-linecap:square;stroke-linejoin:miter;stroke-width:0.8;\"/>\r\n   </g>\r\n   <g id=\"patch_6\">\r\n    <path d=\"M 43.78125 7.2 \r\nL 378.58125 7.2 \r\n\" style=\"fill:none;stroke:#000000;stroke-linecap:square;stroke-linejoin:miter;stroke-width:0.8;\"/>\r\n   </g>\r\n  </g>\r\n </g>\r\n <defs>\r\n  <clipPath id=\"pa3fed50b10\">\r\n   <rect height=\"217.44\" width=\"334.8\" x=\"43.78125\" y=\"7.2\"/>\r\n  </clipPath>\r\n </defs>\r\n</svg>\r\n",
      "image/png": "[encoded data removed]"
     },
     "metadata": {
      "needs_background": "light"
     }
    }
   ],
   "metadata": {}
  },
  {
   "cell_type": "code",
   "execution_count": 31,
   "source": [
    "class kNearestNeighbors(): \r\n",
    "\r\n",
    "\r\n",
    "    def __init__(self, k):\r\n",
    "        self.k = k \r\n",
    "\r\n",
    "\r\n",
    "    def fit(self, X_train , Y_train): \r\n",
    "        self.X_train = X_train\r\n",
    "        self.Y_train = Y_train\r\n",
    "        self.number_classes = len(np.unique(Y_train))\r\n",
    "\r\n",
    "\r\n",
    "    def nearNeighbors(self , X_test):\r\n",
    "        dist = np.sqrt(np.sum((X_test - self.X_train)**2 ,axis=1))\r\n",
    "        near_neighbors = np.argsort(dist)[:self.k]\r\n",
    "        print(near_neighbors)\r\n",
    "        print(self.Y_train[near_neighbors])\r\n",
    "        print(np.bincount(self.Y_train[near_neighbors]))\r\n",
    "        return near_neighbors\r\n",
    "\r\n",
    "        \r\n",
    "    def predict (self, X_test):\r\n",
    "        near_neighbors = self.nearNeighbors(X_test)\r\n",
    "        y = np.argmax(np.bincount(self.Y_train[near_neighbors]))\r\n",
    "        return y\r\n",
    "\r\n",
    "    def Evaluate (self, y_pred):\r\n",
    "        if y-pred = Y\r\n"
   ],
   "outputs": [],
   "metadata": {}
  },
  {
   "cell_type": "code",
   "execution_count": 32,
   "source": [
    "knn = kNearestNeighbors(k=5)\r\n",
    "knn.fit(X,Y)"
   ],
   "outputs": [],
   "metadata": {}
  },
  {
   "cell_type": "code",
   "execution_count": 45,
   "source": [
    "print(X_test.shape)\r\n",
    "print(X_test)"
   ],
   "outputs": [
    {
     "output_type": "stream",
     "name": "stdout",
     "text": [
      "(25, 2)\n",
      "[[3.72983101 8.23413227]\n",
      " [4.50741875 8.40267864]\n",
      " [4.77107623 7.90313407]\n",
      " [4.22050769 7.83451653]\n",
      " [3.80056952 8.09573431]\n",
      " [3.97592766 7.95052884]\n",
      " [6.70816339 5.510677  ]\n",
      " [6.27555456 6.09405925]\n",
      " [4.08938045 8.3882441 ]\n",
      " [6.20642791 5.93149542]\n",
      " [6.19431919 6.39414376]\n",
      " [5.66646271 6.0075206 ]\n",
      " [5.7966435  6.10809856]\n",
      " [3.23858466 7.74686488]\n",
      " [4.56317139 8.0977106 ]\n",
      " [5.5682716  5.80768511]\n",
      " [6.07506815 5.79903525]\n",
      " [3.65017186 8.38258753]\n",
      " [5.61687949 6.39775528]\n",
      " [6.5587023  5.29164829]\n",
      " [5.54639889 5.91156282]\n",
      " [5.50055797 6.22955902]\n",
      " [6.14331964 6.81381551]\n",
      " [3.9730837  8.17195642]\n",
      " [4.33122643 8.22250988]]\n"
     ]
    }
   ],
   "metadata": {}
  },
  {
   "cell_type": "code",
   "execution_count": 41,
   "source": [
    "X_train.shape"
   ],
   "outputs": [
    {
     "output_type": "execute_result",
     "data": {
      "text/plain": [
       "(75, 2)"
      ]
     },
     "metadata": {},
     "execution_count": 41
    }
   ],
   "metadata": {}
  },
  {
   "cell_type": "code",
   "execution_count": 50,
   "source": [
    "for i in range (len(X_test)):\r\n",
    "    y_pred = knn.predict(X_test[i])\r\n",
    "    print(y_pred)"
   ],
   "outputs": [
    {
     "output_type": "stream",
     "name": "stdout",
     "text": [
      "[61 95 93 70 76]\n",
      "[1 1 1 1 1]\n",
      "[0 5]\n",
      "1\n",
      "[50 65 87 62 58]\n",
      "[1 1 1 1 1]\n",
      "[0 5]\n",
      "1\n",
      "[72 96 99 66 82]\n",
      "[1 1 1 1 1]\n",
      "[0 5]\n",
      "1\n",
      "[52 71 81 75 94]\n",
      "[1 1 1 1 1]\n",
      "[0 5]\n",
      "1\n",
      "[76 70 98 97 61]\n",
      "[1 1 1 1 1]\n",
      "[0 5]\n",
      "1\n",
      "[83 79 97 59 85]\n",
      "[1 1 1 1 1]\n",
      "[0 5]\n",
      "1\n",
      "[28 32  2 31  5]\n",
      "[0 0 0 0 0]\n",
      "[5]\n",
      "0\n",
      "[41  8  1 13 11]\n",
      "[0 0 0 0 0]\n",
      "[5]\n",
      "0\n",
      "[53 63 84 58 69]\n",
      "[1 1 1 1 1]\n",
      "[0 5]\n",
      "1\n",
      "[ 6 38 11 43  1]\n",
      "[0 0 0 0 0]\n",
      "[5]\n",
      "0\n",
      "[23 39 33 21 34]\n",
      "[0 0 0 0 0]\n",
      "[5]\n",
      "0\n",
      "[47 42  9  7 48]\n",
      "[0 0 0 0 0]\n",
      "[5]\n",
      "0\n",
      "[48 42 47 33  9]\n",
      "[0 0 0 0 0]\n",
      "[5]\n",
      "0\n",
      "[51 92 56 60 74]\n",
      "[1 1 1 1 1]\n",
      "[0 5]\n",
      "1\n",
      "[96 62 99 72 50]\n",
      "[1 1 1 1 1]\n",
      "[0 5]\n",
      "1\n",
      "[25  7  9 30 26]\n",
      "[0 0 0 0 0]\n",
      "[5]\n",
      "0\n",
      "[16 12 37 43 15]\n",
      "[0 0 0 0 0]\n",
      "[5]\n",
      "0\n",
      "[68 57 55 61 95]\n",
      "[1 1 1 1 1]\n",
      "[0 5]\n",
      "1\n",
      "[ 4 10 44 49 18]\n",
      "[0 0 0 0 0]\n",
      "[5]\n",
      "0\n",
      "[ 2 32  5 28 35]\n",
      "[0 0 0 0 0]\n",
      "[5]\n",
      "0\n",
      "[ 9  7 25 26 47]\n",
      "[0 0 0 0 0]\n",
      "[5]\n",
      "0\n",
      "[10 44 49  4 42]\n",
      "[0 0 0 0 0]\n",
      "[5]\n",
      "0\n",
      "[46 14 34 23 39]\n",
      "[0 0 0 0 0]\n",
      "[5]\n",
      "0\n",
      "[80 69 64 63 93]\n",
      "[1 1 1 1 1]\n",
      "[0 5]\n",
      "1\n",
      "[62 67 50 96 53]\n",
      "[1 1 1 1 1]\n",
      "[0 5]\n",
      "1\n"
     ]
    }
   ],
   "metadata": {}
  },
  {
   "cell_type": "code",
   "execution_count": 44,
   "source": [
    "new_fruit = np.array([4.7 , 6.8])\r\n",
    "y_pred = knn.predict(new_fruit)\r\n",
    "friut = { 0 : 'موز' , \r\n",
    "          1: 'سیب'}\r\n",
    "print(friut[y_pred])\r\n",
    "        "
   ],
   "outputs": [
    {
     "output_type": "stream",
     "name": "stdout",
     "text": [
      "[77 78 86 18 49]\n",
      "[1 1 1 0 0]\n",
      "[2 3]\n",
      "سیب\n"
     ]
    }
   ],
   "metadata": {}
  }
 ],
 "metadata": {
  "orig_nbformat": 4,
  "language_info": {
   "name": "python",
   "version": "3.9.6",
   "mimetype": "text/x-python",
   "codemirror_mode": {
    "name": "ipython",
    "version": 3
   },
   "pygments_lexer": "ipython3",
   "nbconvert_exporter": "python",
   "file_extension": ".py"
  },
  "kernelspec": {
   "name": "python3",
   "display_name": "Python 3.9.6 64-bit"
  },
  "interpreter": {
   "hash": "ac59ebe37160ed0dfa835113d9b8498d9f09ceb179beaac4002f036b9467c963"
  }
 },
 "nbformat": 4,
 "nbformat_minor": 2
}