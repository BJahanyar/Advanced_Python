{
 "cells": [
  {
   "cell_type": "code",
   "execution_count": 110,
   "source": [
    "import matplotlib.pyplot as plt\r\n",
    "import numpy as np\r\n",
    "from sklearn.model_selection import train_test_split\r\n",
    "from sklearn.metrics import accuracy_score"
   ],
   "outputs": [],
   "metadata": {}
  },
  {
   "cell_type": "code",
   "execution_count": 111,
   "source": [
    "class kNearestNeighbors(): \r\n",
    "\r\n",
    "\r\n",
    "    def __init__(self, k):\r\n",
    "        self.k = k \r\n",
    "\r\n",
    "\r\n",
    "    def fit(self, X_train , Y_train): \r\n",
    "        self.X_train = X_train\r\n",
    "        self.Y_train = Y_train\r\n",
    "        self.number_classes = len(np.unique(Y_train))\r\n",
    "\r\n",
    "\r\n",
    "    def nearNeighbors(self , X_test):\r\n",
    "        dist = np.sqrt(np.sum((X_test - self.X_train)**2 ,axis=1))\r\n",
    "        near_neighbors = np.argsort(dist)[:self.k]\r\n",
    "        #print(near_neighbors)\r\n",
    "        #print(self.Y_train[near_neighbors])\r\n",
    "        #print(np.bincount(self.Y_train[near_neighbors]))\r\n",
    "        return near_neighbors\r\n",
    "\r\n",
    "        \r\n",
    "    def predict (self, X_test):\r\n",
    "        near_neighbors = self.nearNeighbors(X_test)\r\n",
    "        y = np.argmax(np.bincount(self.Y_train[near_neighbors]))\r\n",
    "        return y\r\n",
    "\r\n",
    "    def Evaluate (self, X_test, Y_test):\r\n",
    "        Succes=0\r\n",
    "        Test_len = len(X_test)\r\n",
    "        for i in range (Test_len):\r\n",
    "            Prediction = self.predict(X_test[i])\r\n",
    "            if Prediction == Y_test[i]:\r\n",
    "                Succes = Succes+1 \r\n",
    "            Accuracy = Succes / Test_len\r\n",
    "        return Accuracy\r\n"
   ],
   "outputs": [],
   "metadata": {}
  },
  {
   "cell_type": "code",
   "execution_count": 112,
   "source": [
    "N = 500\r\n",
    "std = 1\r\n",
    "\r\n",
    "Apple_width = np.random.normal(6, std, N)\r\n",
    "Apple_length = np.random.normal(6, std, N)\r\n",
    "\r\n",
    "Benanas_width = np.random.normal(4, std, N)\r\n",
    "Benanas_length = np.random.normal(10, std, N)"
   ],
   "outputs": [],
   "metadata": {}
  },
  {
   "cell_type": "code",
   "execution_count": 113,
   "source": [
    "width = np.concatenate((Apple_width, Benanas_width))\r\n",
    "length = np.concatenate((Apple_length, Benanas_length))"
   ],
   "outputs": [],
   "metadata": {}
  },
  {
   "cell_type": "code",
   "execution_count": 114,
   "source": [
    "X = np.array([width, length]).T\r\n",
    "Apple_lable = np.zeros(N, dtype = 'int') \r\n",
    "Benanas_lable = np.ones(N, dtype = 'int')"
   ],
   "outputs": [],
   "metadata": {}
  },
  {
   "cell_type": "code",
   "execution_count": 115,
   "source": [
    "Y = np.concatenate((Apple_lable,Benanas_lable))"
   ],
   "outputs": [],
   "metadata": {}
  },
  {
   "cell_type": "code",
   "execution_count": 116,
   "source": [
    "X_train, X_test, Y_train, Y_test = train_test_split(X, Y)\r\n",
    "#print(Y_train)\r\n",
    "#print(X_test)"
   ],
   "outputs": [],
   "metadata": {}
  },
  {
   "cell_type": "code",
   "execution_count": 117,
   "source": [
    "print(\"whole dataset:\", X.shape, Y.shape)\r\n",
    "print(\"training set:\", X_train.shape,Y_train.shape)\r\n",
    "print(\"test set:\", X_test.shape, Y_test.shape)"
   ],
   "outputs": [
    {
     "output_type": "stream",
     "name": "stdout",
     "text": [
      "whole dataset: (1000, 2) (1000,)\n",
      "training set: (750, 2) (750,)\n",
      "test set: (250, 2) (250,)\n"
     ]
    }
   ],
   "metadata": {}
  },
  {
   "cell_type": "code",
   "execution_count": 118,
   "source": [
    "knn = kNearestNeighbors(k=5)\r\n",
    "knn.fit(X,Y)\r\n",
    "knn.Evaluate(X_test,Y_test)"
   ],
   "outputs": [
    {
     "output_type": "execute_result",
     "data": {
      "text/plain": [
       "0.988"
      ]
     },
     "metadata": {},
     "execution_count": 118
    }
   ],
   "metadata": {}
  }
 ],
 "metadata": {
  "orig_nbformat": 4,
  "language_info": {
   "name": "python",
   "version": "3.9.6",
   "mimetype": "text/x-python",
   "codemirror_mode": {
    "name": "ipython",
    "version": 3
   },
   "pygments_lexer": "ipython3",
   "nbconvert_exporter": "python",
   "file_extension": ".py"
  },
  "kernelspec": {
   "name": "python3",
   "display_name": "Python 3.9.6 64-bit"
  },
  "interpreter": {
   "hash": "ac59ebe37160ed0dfa835113d9b8498d9f09ceb179beaac4002f036b9467c963"
  }
 },
 "nbformat": 4,
 "nbformat_minor": 2
}