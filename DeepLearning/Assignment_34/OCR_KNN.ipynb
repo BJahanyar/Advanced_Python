{
 "cells": [
  {
   "cell_type": "code",
   "execution_count": 1,
   "source": [
    "import numpy as np\r\n",
    "import cv2 as cv\r\n",
    "img = cv.imread('digits.png')\r\n",
    "gray = cv.cvtColor(img,cv.COLOR_BGR2GRAY)\r\n",
    "# Now we split the image to 5000 cells, each 20x20 size\r\n",
    "cells = [np.hsplit(row,100) for row in np.vsplit(gray,50)]\r\n",
    "\r\n",
    "# Make it into a Numpy array: its size will be (50,100,20,20)\r\n",
    "x = np.array(cells)\r\n"
   ],
   "outputs": [],
   "metadata": {}
  },
  {
   "cell_type": "code",
   "execution_count": 2,
   "source": [
    "\r\n",
    "# Now we prepare the training data and test data\r\n",
    "train = x[:,:50].reshape(-1,400).astype(np.float32) # Size = (2500,400)\r\n",
    "test = x[:,50:100].reshape(-1,400).astype(np.float32) # Size = (2500,400)\r\n",
    "train"
   ],
   "outputs": [
    {
     "output_type": "execute_result",
     "data": {
      "text/plain": [
       "array([[0., 0., 0., ..., 0., 0., 0.],\n",
       "       [0., 0., 0., ..., 0., 0., 0.],\n",
       "       [0., 0., 0., ..., 0., 0., 0.],\n",
       "       ...,\n",
       "       [0., 0., 0., ..., 0., 0., 0.],\n",
       "       [0., 0., 0., ..., 0., 0., 0.],\n",
       "       [0., 0., 0., ..., 0., 0., 0.]], dtype=float32)"
      ]
     },
     "metadata": {},
     "execution_count": 2
    }
   ],
   "metadata": {}
  },
  {
   "cell_type": "code",
   "execution_count": 3,
   "source": [
    "# Create labels for train and test data\r\n",
    "k = np.arange(10)\r\n",
    "train_labels = np.repeat(k,250)[:,np.newaxis]\r\n",
    "test_labels = train_labels.copy()"
   ],
   "outputs": [],
   "metadata": {}
  },
  {
   "cell_type": "code",
   "execution_count": 4,
   "source": [
    "# Initiate kNN, train it on the training data, then test it with the test data with k=1\r\n",
    "knn = cv.ml.KNearest_create()\r\n",
    "knn.train(train, cv.ml.ROW_SAMPLE, train_labels)\r\n",
    "ret,result,neighbours,dist = knn.findNearest(test,k=5)"
   ],
   "outputs": [],
   "metadata": {}
  },
  {
   "cell_type": "code",
   "execution_count": 5,
   "source": [
    "# Now we check the accuracy of classification\r\n",
    "# For that, compare the result with test_labels and check which are wrong\r\n",
    "matches = result==test_labels\r\n",
    "correct = np.count_nonzero(matches)\r\n",
    "accuracy = correct*100.0/result.size\r\n",
    "print( accuracy )"
   ],
   "outputs": [
    {
     "output_type": "stream",
     "name": "stdout",
     "text": [
      "91.76\n"
     ]
    }
   ],
   "metadata": {}
  },
  {
   "cell_type": "code",
   "execution_count": 6,
   "source": [
    "# Save the data\r\n",
    "np.savez('knn_data.npz',train=train, train_labels=train_labels)\r\n",
    "# Now load the data\r\n",
    "with np.load('knn_data.npz') as data:\r\n",
    "    print( data.files )\r\n",
    "    train = data['train']\r\n",
    "    train_labels = data['train_labels']"
   ],
   "outputs": [
    {
     "output_type": "stream",
     "name": "stdout",
     "text": [
      "['train', 'train_labels']\n"
     ]
    }
   ],
   "metadata": {}
  }
 ],
 "metadata": {
  "orig_nbformat": 4,
  "language_info": {
   "name": "python",
   "version": "3.9.6",
   "mimetype": "text/x-python",
   "codemirror_mode": {
    "name": "ipython",
    "version": 3
   },
   "pygments_lexer": "ipython3",
   "nbconvert_exporter": "python",
   "file_extension": ".py"
  },
  "kernelspec": {
   "name": "python3",
   "display_name": "Python 3.9.6 64-bit"
  },
  "interpreter": {
   "hash": "ac59ebe37160ed0dfa835113d9b8498d9f09ceb179beaac4002f036b9467c963"
  }
 },
 "nbformat": 4,
 "nbformat_minor": 2
}