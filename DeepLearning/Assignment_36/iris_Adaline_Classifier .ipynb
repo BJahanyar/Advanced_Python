{
 "cells": [
  {
   "cell_type": "code",
   "execution_count": 99,
   "source": [
    "import numpy as np\r\n",
    "from sklearn.model_selection import train_test_split\r\n",
    "from sklearn.datasets import load_iris\r\n",
    "from numpy.linalg import inv"
   ],
   "outputs": [],
   "metadata": {}
  },
  {
   "cell_type": "code",
   "execution_count": 100,
   "source": [
    "data=load_iris()\r\n",
    "\r\n",
    "X=data.data\r\n",
    "Y=data.target\r\n",
    "\r\n",
    "Y = Y [50 : 150]    \r\n",
    "X = X [50: 150]\r\n",
    "\r\n",
    "print(Y,Y.shape)\r\n",
    "print(X.shape)\r\n",
    "\r\n",
    "#print(X_test , X_test.shape)\r\n",
    "#print(Y_test , Y_test.shape)\r\n",
    "#print(data.feature_names)\r\n",
    "#print(data.target_names)"
   ],
   "outputs": [
    {
     "output_type": "stream",
     "name": "stdout",
     "text": [
      "[1 1 1 1 1 1 1 1 1 1 1 1 1 1 1 1 1 1 1 1 1 1 1 1 1 1 1 1 1 1 1 1 1 1 1 1 1\n",
      " 1 1 1 1 1 1 1 1 1 1 1 1 1 2 2 2 2 2 2 2 2 2 2 2 2 2 2 2 2 2 2 2 2 2 2 2 2\n",
      " 2 2 2 2 2 2 2 2 2 2 2 2 2 2 2 2 2 2 2 2 2 2 2 2 2 2] (100,)\n",
      "(100, 4)\n"
     ]
    }
   ],
   "metadata": {}
  },
  {
   "cell_type": "code",
   "execution_count": 101,
   "source": [
    "X_train,X_test,Y_train,Y_test=train_test_split(X,Y,test_size=0.2)\r\n"
   ],
   "outputs": [],
   "metadata": {}
  },
  {
   "cell_type": "code",
   "execution_count": 102,
   "source": [
    "class AdalineClassifi(): \r\n",
    "\r\n",
    "\r\n",
    "    def __init__(self):\r\n",
    "        pass\r\n",
    "\r\n",
    "    def fit(self, x_train, y_train):\r\n",
    "        # W = (X.T * X)^-1 * (X.T * Y)\r\n",
    "        self.w=np.matmul(inv(np.matmul(x_train.T,x_train)),np.matmul(x_train.T,y_train))\r\n",
    "        return self.w\r\n",
    "        \r\n",
    "    def predict(self, x_test):\r\n",
    "        y_predict = np.matmul(x_test, self.w)\r\n",
    "        y=[]\r\n",
    "        for i in range(len(y_predict)):\r\n",
    "            if y_predict[i]<1.21:\r\n",
    "                y.append(1)\r\n",
    "            else:\r\n",
    "                y.append(2)  \r\n",
    "        y=np.array(y)\r\n",
    "        return y\r\n",
    "    \r\n",
    "    def Evaluate (self, X_test, Y_test):\r\n",
    "        pred = self.predict(X_test)\r\n",
    "        Succes=0\r\n",
    "        for i in range (len(X_test)):\r\n",
    "            if pred[i] == Y_test[i]:\r\n",
    "                Succes = Succes+1 \r\n",
    "        Accuracy = Succes / len(X_test)\r\n",
    "        return Accuracy\r\n"
   ],
   "outputs": [],
   "metadata": {}
  },
  {
   "cell_type": "code",
   "execution_count": 103,
   "source": [
    "model = AdalineClassifi()\r\n",
    "model.fit(X_train,Y_train)"
   ],
   "outputs": [
    {
     "output_type": "execute_result",
     "data": {
      "text/plain": [
       "array([-0.14766501, -0.19342814,  0.38387314,  0.65389072])"
      ]
     },
     "metadata": {},
     "execution_count": 103
    }
   ],
   "metadata": {}
  },
  {
   "cell_type": "markdown",
   "source": [],
   "metadata": {}
  },
  {
   "cell_type": "code",
   "execution_count": 104,
   "source": [
    "print(\"W is ----->\" , model.w)\r\n",
    "\r\n",
    "Y_pred = model.predict(X_test)\r\n",
    "print(\"Y_pred is ---->\" , Y_pred)\r\n",
    "print(\"Y_test is ---->\" , Y_test)\r\n",
    "\r\n",
    "acc = model.Evaluate(X_test, Y_test)\r\n",
    "print(\"Accuracy with ADALINE is ---->\" , acc)\r\n",
    "\r\n"
   ],
   "outputs": [
    {
     "output_type": "stream",
     "name": "stdout",
     "text": [
      "W is -----> [-0.14766501 -0.19342814  0.38387314  0.65389072]\n",
      "Y_pred is ----> [2 2 2 2 2 2 2 2 2 2 1 2 2 2 2 1 1 2 2 1]\n",
      "Y_test is ----> [2 1 2 2 2 2 1 2 2 2 1 2 2 2 2 1 1 2 2 1]\n",
      "Accuracy with ADALINE is ----> 0.9\n"
     ]
    }
   ],
   "metadata": {}
  },
  {
   "cell_type": "code",
   "execution_count": 105,
   "source": [
    "class kNearestNeighbors(): \r\n",
    "\r\n",
    "    def __init__(self, k):\r\n",
    "        self.k = k \r\n",
    "\r\n",
    "    def fit(self, X_train , Y_train): \r\n",
    "        self.X_train = X_train\r\n",
    "        self.Y_train = Y_train\r\n",
    "        self.number_classes = len(np.unique(Y_train))\r\n",
    "\r\n",
    "    def nearNeighbors(self , X_test):\r\n",
    "        dist = np.sqrt(np.sum((X_test - self.X_train)**2 ,axis=1))\r\n",
    "        near_neighbors = np.argsort(dist)[:self.k]\r\n",
    "        return near_neighbors\r\n",
    "        \r\n",
    "    def predict (self, X_test):\r\n",
    "        near_neighbors = self.nearNeighbors(X_test)\r\n",
    "        y = np.argmax(np.bincount(self.Y_train[near_neighbors]))\r\n",
    "        return y\r\n",
    "\r\n",
    "    def Evaluate (self, X_test, Y_test):\r\n",
    "        Succes=0\r\n",
    "        Test_len = len(X_test)\r\n",
    "        for i in range (Test_len):\r\n",
    "            Prediction = self.predict(X_test[i])\r\n",
    "            if Prediction == Y_test[i]:\r\n",
    "                Succes = Succes+1 \r\n",
    "        Accuracy = Succes / Test_len\r\n",
    "        return Accuracy\r\n"
   ],
   "outputs": [],
   "metadata": {}
  },
  {
   "cell_type": "code",
   "execution_count": 106,
   "source": [
    "knn = kNearestNeighbors(k=5)\r\n",
    "knn.fit(X_train,Y_train)\r\n",
    "print (\"Accuracy with KNN is ----> \" , knn.Evaluate(X_test,Y_test))"
   ],
   "outputs": [
    {
     "output_type": "stream",
     "name": "stdout",
     "text": [
      "Accuracy with KNN is ---->  0.95\n"
     ]
    }
   ],
   "metadata": {}
  }
 ],
 "metadata": {
  "orig_nbformat": 4,
  "language_info": {
   "name": "python",
   "version": "3.9.6",
   "mimetype": "text/x-python",
   "codemirror_mode": {
    "name": "ipython",
    "version": 3
   },
   "pygments_lexer": "ipython3",
   "nbconvert_exporter": "python",
   "file_extension": ".py"
  },
  "kernelspec": {
   "name": "python3",
   "display_name": "Python 3.9.6 64-bit"
  },
  "interpreter": {
   "hash": "ac59ebe37160ed0dfa835113d9b8498d9f09ceb179beaac4002f036b9467c963"
  }
 },
 "nbformat": 4,
 "nbformat_minor": 2
}