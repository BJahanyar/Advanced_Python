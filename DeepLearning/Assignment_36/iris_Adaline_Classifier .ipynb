{
 "cells": [
  {
   "cell_type": "code",
   "execution_count": 278,
   "source": [
    "import numpy as np\r\n",
    "import matplotlib.pyplot as plt\r\n",
    "from sklearn.model_selection import train_test_split\r\n",
    "from sklearn.datasets import load_iris"
   ],
   "outputs": [],
   "metadata": {}
  },
  {
   "cell_type": "code",
   "execution_count": 279,
   "source": [
    "data = load_iris()\r\n",
    "\r\n",
    "X = data.data\r\n",
    "Y = data.target\r\n",
    "    \r\n",
    "X = X [50: 150]\r\n",
    "Y = Y [50 : 150]\r\n",
    "print(Y,Y.shape)\r\n",
    "print(X.shape)\r\n",
    "\r\n",
    "X=np.array(X)\r\n",
    "Y=np.array(Y)\r\n",
    "\r\n",
    "\r\n",
    "#print(X_test , X_test.shape)\r\n",
    "#print(Y_test , Y_test.shape)\r\n",
    "#print(data.feature_names)\r\n",
    "#print(data.target_names)"
   ],
   "outputs": [
    {
     "output_type": "stream",
     "name": "stdout",
     "text": [
      "[1 1 1 1 1 1 1 1 1 1 1 1 1 1 1 1 1 1 1 1 1 1 1 1 1 1 1 1 1 1 1 1 1 1 1 1 1\n",
      " 1 1 1 1 1 1 1 1 1 1 1 1 1 2 2 2 2 2 2 2 2 2 2 2 2 2 2 2 2 2 2 2 2 2 2 2 2\n",
      " 2 2 2 2 2 2 2 2 2 2 2 2 2 2 2 2 2 2 2 2 2 2 2 2 2 2] (100,)\n",
      "(100, 4)\n"
     ]
    }
   ],
   "metadata": {}
  },
  {
   "cell_type": "code",
   "execution_count": 280,
   "source": [
    "X_train,X_test,Y_train,Y_test=train_test_split(X,Y,test_size=0.2)\r\n"
   ],
   "outputs": [],
   "metadata": {}
  },
  {
   "cell_type": "code",
   "execution_count": 281,
   "source": [
    "class AdalineClassifier(): \r\n",
    "\r\n",
    "\r\n",
    "    def __init__(self):\r\n",
    "        pass\r\n",
    "\r\n",
    "\r\n",
    "    def fit(self, X_train, Y_train):\r\n",
    "        # W = (X.T * X)^-1 * (X.T * Y)\r\n",
    "        self.w=np.matmul(np.linalg.inv(np.matmul(X_train.T,X_train)),np.matmul(X_train.T,Y_train))\r\n",
    "        return self.w\r\n",
    "        \r\n",
    "    def predict(self,X_test):\r\n",
    "        y_pre=[]\r\n",
    "        Y_pred = np.matmul(X_test, self.w) \r\n",
    "        for i in range(len(Y_pred)):\r\n",
    "            if Y_pred[i]<1.5:\r\n",
    "               y_pre.append(1)\r\n",
    "            else:\r\n",
    "               y_pre.append(2)  \r\n",
    "        y_pre = np.array(Y_pred)\r\n",
    "        #print(\"*****************************************\")\r\n",
    "        #print(y_pre)\r\n",
    "        #print(\"*****************************************\")\r\n",
    "\r\n",
    "\r\n",
    "        return y_pre\r\n",
    "\r\n",
    "   \r\n",
    "    \r\n",
    "    def Evaluate (self, X_test, y_test):\r\n",
    "        Succes=0\r\n",
    "        Test_len = len(X_test)\r\n",
    "        for i in range (Test_len):\r\n",
    "            Prediction = self.predict(X_test[i])\r\n",
    "            if Prediction == y_test[i]:\r\n",
    "                Succes = Succes+1 \r\n",
    "        Accuracy = Succes / Test_len\r\n",
    "        return Accuracy\r\n"
   ],
   "outputs": [],
   "metadata": {}
  },
  {
   "cell_type": "code",
   "execution_count": 282,
   "source": [
    "model = AdalineClassifier()\r\n",
    "model.fit(X_train,Y_train)"
   ],
   "outputs": [
    {
     "output_type": "execute_result",
     "data": {
      "text/plain": [
       "array([-0.11953468, -0.19950909,  0.33755599,  0.68420873])"
      ]
     },
     "metadata": {},
     "execution_count": 282
    }
   ],
   "metadata": {}
  },
  {
   "cell_type": "code",
   "execution_count": null,
   "source": [],
   "outputs": [],
   "metadata": {}
  },
  {
   "cell_type": "code",
   "execution_count": 283,
   "source": [
    "print(\"W is ----->\" , model.w)\r\n",
    "\r\n",
    "Y_pred = model.predict(X_test)\r\n",
    "print(\"Y_pred is ---->\" , Y_pred)\r\n",
    "print(\"Y_test is ---->\" , Y_test)\r\n",
    "\r\n",
    "acc = model.Evaluate(X_test, Y_test)\r\n",
    "print(\"Accuracy is ---->\" , acc)\r\n",
    "\r\n"
   ],
   "outputs": [
    {
     "output_type": "stream",
     "name": "stdout",
     "text": [
      "W is -----> [-0.11953468 -0.19950909  0.33755599  0.68420873]\n",
      "*****************************************\n",
      "[0.79690336 1.07472368 2.11170993 1.11977665 1.74820594 1.18296098\n",
      " 1.6003206  1.73593535 2.03453087 1.43615473 0.656898   1.55791127\n",
      " 1.12338368 1.09913778 1.08348187 1.78955647 1.00552945 1.2773936\n",
      " 2.10101513 0.95891071]\n",
      "*****************************************\n",
      "Y_pred is ----> [0.79690336 1.07472368 2.11170993 1.11977665 1.74820594 1.18296098\n",
      " 1.6003206  1.73593535 2.03453087 1.43615473 0.656898   1.55791127\n",
      " 1.12338368 1.09913778 1.08348187 1.78955647 1.00552945 1.2773936\n",
      " 2.10101513 0.95891071]\n",
      "Y_test is ----> [1 1 2 1 2 1 2 2 2 2 1 2 1 1 1 2 1 1 2 1]\n"
     ]
    },
    {
     "output_type": "error",
     "ename": "TypeError",
     "evalue": "object of type 'numpy.float64' has no len()",
     "traceback": [
      "\u001b[1;31m---------------------------------------------------------------------------\u001b[0m",
      "\u001b[1;31mTypeError\u001b[0m                                 Traceback (most recent call last)",
      "\u001b[1;32m~\\AppData\\Local\\Temp/ipykernel_11972/748308275.py\u001b[0m in \u001b[0;36m<module>\u001b[1;34m\u001b[0m\n\u001b[0;32m      5\u001b[0m \u001b[0mprint\u001b[0m\u001b[1;33m(\u001b[0m\u001b[1;34m\"Y_test is ---->\"\u001b[0m \u001b[1;33m,\u001b[0m \u001b[0mY_test\u001b[0m\u001b[1;33m)\u001b[0m\u001b[1;33m\u001b[0m\u001b[1;33m\u001b[0m\u001b[0m\n\u001b[0;32m      6\u001b[0m \u001b[1;33m\u001b[0m\u001b[0m\n\u001b[1;32m----> 7\u001b[1;33m \u001b[0macc\u001b[0m \u001b[1;33m=\u001b[0m \u001b[0mmodel\u001b[0m\u001b[1;33m.\u001b[0m\u001b[0mEvaluate\u001b[0m\u001b[1;33m(\u001b[0m\u001b[0mX_test\u001b[0m\u001b[1;33m,\u001b[0m \u001b[0mY_test\u001b[0m\u001b[1;33m)\u001b[0m\u001b[1;33m\u001b[0m\u001b[1;33m\u001b[0m\u001b[0m\n\u001b[0m\u001b[0;32m      8\u001b[0m \u001b[0mprint\u001b[0m\u001b[1;33m(\u001b[0m\u001b[1;34m\"Accuracy is ---->\"\u001b[0m \u001b[1;33m,\u001b[0m \u001b[0macc\u001b[0m\u001b[1;33m)\u001b[0m\u001b[1;33m\u001b[0m\u001b[1;33m\u001b[0m\u001b[0m\n\u001b[0;32m      9\u001b[0m \u001b[1;33m\u001b[0m\u001b[0m\n",
      "\u001b[1;32m~\\AppData\\Local\\Temp/ipykernel_11972/2773314882.py\u001b[0m in \u001b[0;36mEvaluate\u001b[1;34m(self, X_test, y_test)\u001b[0m\n\u001b[0;32m     33\u001b[0m         \u001b[0mTest_len\u001b[0m \u001b[1;33m=\u001b[0m \u001b[0mlen\u001b[0m\u001b[1;33m(\u001b[0m\u001b[0mX_test\u001b[0m\u001b[1;33m)\u001b[0m\u001b[1;33m\u001b[0m\u001b[1;33m\u001b[0m\u001b[0m\n\u001b[0;32m     34\u001b[0m         \u001b[1;32mfor\u001b[0m \u001b[0mi\u001b[0m \u001b[1;32min\u001b[0m \u001b[0mrange\u001b[0m \u001b[1;33m(\u001b[0m\u001b[0mTest_len\u001b[0m\u001b[1;33m)\u001b[0m\u001b[1;33m:\u001b[0m\u001b[1;33m\u001b[0m\u001b[1;33m\u001b[0m\u001b[0m\n\u001b[1;32m---> 35\u001b[1;33m             \u001b[0mPrediction\u001b[0m \u001b[1;33m=\u001b[0m \u001b[0mself\u001b[0m\u001b[1;33m.\u001b[0m\u001b[0mpredict\u001b[0m\u001b[1;33m(\u001b[0m\u001b[0mX_test\u001b[0m\u001b[1;33m[\u001b[0m\u001b[0mi\u001b[0m\u001b[1;33m]\u001b[0m\u001b[1;33m)\u001b[0m\u001b[1;33m\u001b[0m\u001b[1;33m\u001b[0m\u001b[0m\n\u001b[0m\u001b[0;32m     36\u001b[0m             \u001b[1;32mif\u001b[0m \u001b[0mPrediction\u001b[0m \u001b[1;33m==\u001b[0m \u001b[0my_test\u001b[0m\u001b[1;33m[\u001b[0m\u001b[0mi\u001b[0m\u001b[1;33m]\u001b[0m\u001b[1;33m:\u001b[0m\u001b[1;33m\u001b[0m\u001b[1;33m\u001b[0m\u001b[0m\n\u001b[0;32m     37\u001b[0m                 \u001b[0mSucces\u001b[0m \u001b[1;33m=\u001b[0m \u001b[0mSucces\u001b[0m\u001b[1;33m+\u001b[0m\u001b[1;36m1\u001b[0m\u001b[1;33m\u001b[0m\u001b[1;33m\u001b[0m\u001b[0m\n",
      "\u001b[1;32m~\\AppData\\Local\\Temp/ipykernel_11972/2773314882.py\u001b[0m in \u001b[0;36mpredict\u001b[1;34m(self, X_test)\u001b[0m\n\u001b[0;32m     14\u001b[0m         \u001b[0my_pre\u001b[0m\u001b[1;33m=\u001b[0m\u001b[1;33m[\u001b[0m\u001b[1;33m]\u001b[0m\u001b[1;33m\u001b[0m\u001b[1;33m\u001b[0m\u001b[0m\n\u001b[0;32m     15\u001b[0m         \u001b[0mY_pred\u001b[0m \u001b[1;33m=\u001b[0m \u001b[0mnp\u001b[0m\u001b[1;33m.\u001b[0m\u001b[0mmatmul\u001b[0m\u001b[1;33m(\u001b[0m\u001b[0mX_test\u001b[0m\u001b[1;33m,\u001b[0m \u001b[0mself\u001b[0m\u001b[1;33m.\u001b[0m\u001b[0mw\u001b[0m\u001b[1;33m)\u001b[0m\u001b[1;33m\u001b[0m\u001b[1;33m\u001b[0m\u001b[0m\n\u001b[1;32m---> 16\u001b[1;33m         \u001b[1;32mfor\u001b[0m \u001b[0mi\u001b[0m \u001b[1;32min\u001b[0m \u001b[0mrange\u001b[0m\u001b[1;33m(\u001b[0m\u001b[0mlen\u001b[0m\u001b[1;33m(\u001b[0m\u001b[0mY_pred\u001b[0m\u001b[1;33m)\u001b[0m\u001b[1;33m)\u001b[0m\u001b[1;33m:\u001b[0m\u001b[1;33m\u001b[0m\u001b[1;33m\u001b[0m\u001b[0m\n\u001b[0m\u001b[0;32m     17\u001b[0m             \u001b[1;32mif\u001b[0m \u001b[0mY_pred\u001b[0m\u001b[1;33m[\u001b[0m\u001b[0mi\u001b[0m\u001b[1;33m]\u001b[0m\u001b[1;33m<\u001b[0m\u001b[1;36m1.5\u001b[0m\u001b[1;33m:\u001b[0m\u001b[1;33m\u001b[0m\u001b[1;33m\u001b[0m\u001b[0m\n\u001b[0;32m     18\u001b[0m                \u001b[0my_pre\u001b[0m\u001b[1;33m.\u001b[0m\u001b[0mappend\u001b[0m\u001b[1;33m(\u001b[0m\u001b[1;36m1\u001b[0m\u001b[1;33m)\u001b[0m\u001b[1;33m\u001b[0m\u001b[1;33m\u001b[0m\u001b[0m\n",
      "\u001b[1;31mTypeError\u001b[0m: object of type 'numpy.float64' has no len()"
     ]
    }
   ],
   "metadata": {}
  }
 ],
 "metadata": {
  "orig_nbformat": 4,
  "language_info": {
   "name": "python",
   "version": "3.9.6",
   "mimetype": "text/x-python",
   "codemirror_mode": {
    "name": "ipython",
    "version": 3
   },
   "pygments_lexer": "ipython3",
   "nbconvert_exporter": "python",
   "file_extension": ".py"
  },
  "kernelspec": {
   "name": "python3",
   "display_name": "Python 3.9.6 64-bit"
  },
  "interpreter": {
   "hash": "ac59ebe37160ed0dfa835113d9b8498d9f09ceb179beaac4002f036b9467c963"
  }
 },
 "nbformat": 4,
 "nbformat_minor": 2
}