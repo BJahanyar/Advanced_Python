{
 "cells": [
  {
   "cell_type": "code",
   "execution_count": 1,
   "source": [
    "import matplotlib.pyplot as plt\r\n",
    "import numpy as np\r\n",
    "from sklearn.model_selection import train_test_split\r\n"
   ],
   "outputs": [],
   "metadata": {}
  },
  {
   "cell_type": "code",
   "execution_count": 2,
   "source": [
    "class kNearestNeighbors(): \r\n",
    "\r\n",
    "\r\n",
    "    def __init__(self, k):\r\n",
    "        self.k = k \r\n",
    "\r\n",
    "\r\n",
    "    def fit(self, X_train , Y_train): \r\n",
    "        self.X_train = X_train\r\n",
    "        self.Y_train = Y_train\r\n",
    "        self.number_classes = len(np.unique(Y_train))\r\n",
    "\r\n",
    "\r\n",
    "    def nearNeighbors(self , X_test):\r\n",
    "        dist = np.sqrt(np.sum((X_test - self.X_train)**2 ,axis=1))\r\n",
    "        near_neighbors = np.argsort(dist)[:self.k]\r\n",
    "        #print(near_neighbors)\r\n",
    "        #print(self.Y_train[near_neighbors])\r\n",
    "        #print(np.bincount(self.Y_train[near_neighbors]))\r\n",
    "        return near_neighbors\r\n",
    "\r\n",
    "        \r\n",
    "    def predict (self, X_test):\r\n",
    "        near_neighbors = self.nearNeighbors(X_test)\r\n",
    "        y = np.argmax(np.bincount(self.Y_train[near_neighbors]))\r\n",
    "        return y\r\n",
    "\r\n",
    "    def Evaluate (self, X_test, Y_test):\r\n",
    "        Succes=0\r\n",
    "        Test_len = len(X_test)\r\n",
    "        for i in range (Test_len):\r\n",
    "            Prediction = self.predict(X_test[i])\r\n",
    "            if Prediction == Y_test[i]:\r\n",
    "                Succes = Succes+1 \r\n",
    "        Accuracy = Succes / Test_len\r\n",
    "        return Accuracy\r\n"
   ],
   "outputs": [],
   "metadata": {}
  },
  {
   "cell_type": "code",
   "execution_count": 3,
   "source": [
    "N = 500\r\n",
    "std = 1\r\n",
    "\r\n",
    "Apple_width = np.random.normal(6, std, N)\r\n",
    "Apple_length = np.random.normal(6, std, N)\r\n",
    "\r\n",
    "Benanas_width = np.random.normal(4, std, N)\r\n",
    "Benanas_length = np.random.normal(10, std, N)"
   ],
   "outputs": [],
   "metadata": {}
  },
  {
   "cell_type": "code",
   "execution_count": 4,
   "source": [
    "width = np.concatenate((Apple_width, Benanas_width))\r\n",
    "length = np.concatenate((Apple_length, Benanas_length))"
   ],
   "outputs": [],
   "metadata": {}
  },
  {
   "cell_type": "code",
   "execution_count": 5,
   "source": [
    "X = np.array([width, length]).T\r\n",
    "Apple_lable = np.zeros(N, dtype = 'int') \r\n",
    "Benanas_lable = np.ones(N, dtype = 'int')"
   ],
   "outputs": [],
   "metadata": {}
  },
  {
   "cell_type": "code",
   "execution_count": 6,
   "source": [
    "Y = np.concatenate((Apple_lable,Benanas_lable))"
   ],
   "outputs": [],
   "metadata": {}
  },
  {
   "cell_type": "code",
   "execution_count": 7,
   "source": [
    "X_train, X_test, Y_train, Y_test = train_test_split(X, Y)\r\n",
    "#print(Y_train)\r\n",
    "#print(X_test)"
   ],
   "outputs": [],
   "metadata": {}
  },
  {
   "cell_type": "code",
   "execution_count": 8,
   "source": [
    "print(\"whole dataset:\", X.shape, Y.shape)\r\n",
    "print(\"training set:\", X_train.shape,Y_train.shape)\r\n",
    "print(\"test set:\", X_test.shape, Y_test.shape)"
   ],
   "outputs": [
    {
     "output_type": "stream",
     "name": "stdout",
     "text": [
      "whole dataset: (1000, 2) (1000,)\n",
      "training set: (750, 2) (750,)\n",
      "test set: (250, 2) (250,)\n"
     ]
    }
   ],
   "metadata": {}
  },
  {
   "cell_type": "code",
   "execution_count": 9,
   "source": [
    "knn = kNearestNeighbors(k=5)\r\n",
    "knn.fit(X,Y)\r\n",
    "knn.Evaluate(X_test,Y_test)"
   ],
   "outputs": [
    {
     "output_type": "execute_result",
     "data": {
      "text/plain": [
       "0.992"
      ]
     },
     "metadata": {},
     "execution_count": 9
    }
   ],
   "metadata": {}
  },
  {
   "cell_type": "code",
   "execution_count": 10,
   "source": [
    "knn = kNearestNeighbors (k=5)\r\n",
    "knn.fit(X_train, Y_train)\r\n",
    "y =knn.predict(X_test)\r\n",
    "\r\n",
    "setosa_setosa = 0\r\n",
    "setosa_versicolor = 0 \r\n",
    "\r\n",
    "versicolor_setosa = 0\r\n",
    "versicolor_versicolor= 0\r\n",
    "\r\n",
    "\r\n",
    "for i in range (len(Y_test)):\r\n",
    "    if Y_test[i] == 0 and y ==0:\r\n",
    "        setosa_setosa += 1\r\n",
    "    if Y_test[i] == 0 and y == 1:\r\n",
    "        setosa_versicolor += 1\r\n",
    "\r\n",
    "\r\n",
    "    if Y_test[i] == 1 and y == 0:\r\n",
    "        versicolor_setosa += 1\r\n",
    "    if Y_test[i] == 1 and y == 1:\r\n",
    "        versicolor_versicolor +=1\r\n",
    "        \r\n",
    "cofm_data = [[setosa_setosa, setosa_versicolor] , [versicolor_setosa , versicolor_versicolor]]\r\n",
    "print (cofm_data)\r\n",
    "\r\n",
    "#import seaborn as sns\r\n",
    "#sns.set_theme()\r\n",
    "#cofm_data = [[setosa_setosa, setosa_versicolor] , [versicolor_setosa , versicolor_versicolor]]\r\n",
    "#cm_plot = sns.heatmap(cofm_data,annot=True, fmt=\"d\" , cmap='red')"
   ],
   "outputs": [
    {
     "output_type": "error",
     "ename": "ValueError",
     "evalue": "operands could not be broadcast together with shapes (250,2) (750,2) ",
     "traceback": [
      "\u001b[1;31m---------------------------------------------------------------------------\u001b[0m",
      "\u001b[1;31mValueError\u001b[0m                                Traceback (most recent call last)",
      "\u001b[1;32m~\\AppData\\Local\\Temp/ipykernel_9060/1947770293.py\u001b[0m in \u001b[0;36m<module>\u001b[1;34m\u001b[0m\n\u001b[0;32m      1\u001b[0m \u001b[0mknn\u001b[0m \u001b[1;33m=\u001b[0m \u001b[0mkNearestNeighbors\u001b[0m \u001b[1;33m(\u001b[0m\u001b[0mk\u001b[0m\u001b[1;33m=\u001b[0m\u001b[1;36m5\u001b[0m\u001b[1;33m)\u001b[0m\u001b[1;33m\u001b[0m\u001b[1;33m\u001b[0m\u001b[0m\n\u001b[0;32m      2\u001b[0m \u001b[0mknn\u001b[0m\u001b[1;33m.\u001b[0m\u001b[0mfit\u001b[0m\u001b[1;33m(\u001b[0m\u001b[0mX_train\u001b[0m\u001b[1;33m,\u001b[0m \u001b[0mY_train\u001b[0m\u001b[1;33m)\u001b[0m\u001b[1;33m\u001b[0m\u001b[1;33m\u001b[0m\u001b[0m\n\u001b[1;32m----> 3\u001b[1;33m \u001b[0my\u001b[0m \u001b[1;33m=\u001b[0m\u001b[0mknn\u001b[0m\u001b[1;33m.\u001b[0m\u001b[0mpredict\u001b[0m\u001b[1;33m(\u001b[0m\u001b[0mX_test\u001b[0m\u001b[1;33m)\u001b[0m\u001b[1;33m\u001b[0m\u001b[1;33m\u001b[0m\u001b[0m\n\u001b[0m\u001b[0;32m      4\u001b[0m \u001b[1;33m\u001b[0m\u001b[0m\n\u001b[0;32m      5\u001b[0m \u001b[0msetosa_setosa\u001b[0m \u001b[1;33m=\u001b[0m \u001b[1;36m0\u001b[0m\u001b[1;33m\u001b[0m\u001b[1;33m\u001b[0m\u001b[0m\n",
      "\u001b[1;32m~\\AppData\\Local\\Temp/ipykernel_9060/1837616025.py\u001b[0m in \u001b[0;36mpredict\u001b[1;34m(self, X_test)\u001b[0m\n\u001b[0;32m     22\u001b[0m \u001b[1;33m\u001b[0m\u001b[0m\n\u001b[0;32m     23\u001b[0m     \u001b[1;32mdef\u001b[0m \u001b[0mpredict\u001b[0m \u001b[1;33m(\u001b[0m\u001b[0mself\u001b[0m\u001b[1;33m,\u001b[0m \u001b[0mX_test\u001b[0m\u001b[1;33m)\u001b[0m\u001b[1;33m:\u001b[0m\u001b[1;33m\u001b[0m\u001b[1;33m\u001b[0m\u001b[0m\n\u001b[1;32m---> 24\u001b[1;33m         \u001b[0mnear_neighbors\u001b[0m \u001b[1;33m=\u001b[0m \u001b[0mself\u001b[0m\u001b[1;33m.\u001b[0m\u001b[0mnearNeighbors\u001b[0m\u001b[1;33m(\u001b[0m\u001b[0mX_test\u001b[0m\u001b[1;33m)\u001b[0m\u001b[1;33m\u001b[0m\u001b[1;33m\u001b[0m\u001b[0m\n\u001b[0m\u001b[0;32m     25\u001b[0m         \u001b[0my\u001b[0m \u001b[1;33m=\u001b[0m \u001b[0mnp\u001b[0m\u001b[1;33m.\u001b[0m\u001b[0margmax\u001b[0m\u001b[1;33m(\u001b[0m\u001b[0mnp\u001b[0m\u001b[1;33m.\u001b[0m\u001b[0mbincount\u001b[0m\u001b[1;33m(\u001b[0m\u001b[0mself\u001b[0m\u001b[1;33m.\u001b[0m\u001b[0mY_train\u001b[0m\u001b[1;33m[\u001b[0m\u001b[0mnear_neighbors\u001b[0m\u001b[1;33m]\u001b[0m\u001b[1;33m)\u001b[0m\u001b[1;33m)\u001b[0m\u001b[1;33m\u001b[0m\u001b[1;33m\u001b[0m\u001b[0m\n\u001b[0;32m     26\u001b[0m         \u001b[1;32mreturn\u001b[0m \u001b[0my\u001b[0m\u001b[1;33m\u001b[0m\u001b[1;33m\u001b[0m\u001b[0m\n",
      "\u001b[1;32m~\\AppData\\Local\\Temp/ipykernel_9060/1837616025.py\u001b[0m in \u001b[0;36mnearNeighbors\u001b[1;34m(self, X_test)\u001b[0m\n\u001b[0;32m     13\u001b[0m \u001b[1;33m\u001b[0m\u001b[0m\n\u001b[0;32m     14\u001b[0m     \u001b[1;32mdef\u001b[0m \u001b[0mnearNeighbors\u001b[0m\u001b[1;33m(\u001b[0m\u001b[0mself\u001b[0m \u001b[1;33m,\u001b[0m \u001b[0mX_test\u001b[0m\u001b[1;33m)\u001b[0m\u001b[1;33m:\u001b[0m\u001b[1;33m\u001b[0m\u001b[1;33m\u001b[0m\u001b[0m\n\u001b[1;32m---> 15\u001b[1;33m         \u001b[0mdist\u001b[0m \u001b[1;33m=\u001b[0m \u001b[0mnp\u001b[0m\u001b[1;33m.\u001b[0m\u001b[0msqrt\u001b[0m\u001b[1;33m(\u001b[0m\u001b[0mnp\u001b[0m\u001b[1;33m.\u001b[0m\u001b[0msum\u001b[0m\u001b[1;33m(\u001b[0m\u001b[1;33m(\u001b[0m\u001b[0mX_test\u001b[0m \u001b[1;33m-\u001b[0m \u001b[0mself\u001b[0m\u001b[1;33m.\u001b[0m\u001b[0mX_train\u001b[0m\u001b[1;33m)\u001b[0m\u001b[1;33m**\u001b[0m\u001b[1;36m2\u001b[0m \u001b[1;33m,\u001b[0m\u001b[0maxis\u001b[0m\u001b[1;33m=\u001b[0m\u001b[1;36m1\u001b[0m\u001b[1;33m)\u001b[0m\u001b[1;33m)\u001b[0m\u001b[1;33m\u001b[0m\u001b[1;33m\u001b[0m\u001b[0m\n\u001b[0m\u001b[0;32m     16\u001b[0m         \u001b[0mnear_neighbors\u001b[0m \u001b[1;33m=\u001b[0m \u001b[0mnp\u001b[0m\u001b[1;33m.\u001b[0m\u001b[0margsort\u001b[0m\u001b[1;33m(\u001b[0m\u001b[0mdist\u001b[0m\u001b[1;33m)\u001b[0m\u001b[1;33m[\u001b[0m\u001b[1;33m:\u001b[0m\u001b[0mself\u001b[0m\u001b[1;33m.\u001b[0m\u001b[0mk\u001b[0m\u001b[1;33m]\u001b[0m\u001b[1;33m\u001b[0m\u001b[1;33m\u001b[0m\u001b[0m\n\u001b[0;32m     17\u001b[0m         \u001b[1;31m#print(near_neighbors)\u001b[0m\u001b[1;33m\u001b[0m\u001b[1;33m\u001b[0m\u001b[1;33m\u001b[0m\u001b[0m\n",
      "\u001b[1;31mValueError\u001b[0m: operands could not be broadcast together with shapes (250,2) (750,2) "
     ]
    }
   ],
   "metadata": {}
  }
 ],
 "metadata": {
  "orig_nbformat": 4,
  "language_info": {
   "name": "python",
   "version": "3.9.6",
   "mimetype": "text/x-python",
   "codemirror_mode": {
    "name": "ipython",
    "version": 3
   },
   "pygments_lexer": "ipython3",
   "nbconvert_exporter": "python",
   "file_extension": ".py"
  },
  "kernelspec": {
   "name": "python3",
   "display_name": "Python 3.9.6 64-bit"
  },
  "interpreter": {
   "hash": "ac59ebe37160ed0dfa835113d9b8498d9f09ceb179beaac4002f036b9467c963"
  }
 },
 "nbformat": 4,
 "nbformat_minor": 2
}