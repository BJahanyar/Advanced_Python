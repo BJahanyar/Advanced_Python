{
  "nbformat": 4,
  "nbformat_minor": 0,
  "metadata": {
    "colab": {
      "name": "cifar10.ipynb",
      "provenance": [],
      "collapsed_sections": [],
      "authorship_tag": "ABX9TyN77JKdPyrauQy3WK2X1n3i",
      "include_colab_link": true
    },
    "kernelspec": {
      "name": "python3",
      "display_name": "Python 3"
    },
    "language_info": {
      "name": "python"
    }
  },
  "cells": [
    {
      "cell_type": "markdown",
      "metadata": {
        "id": "view-in-github",
        "colab_type": "text"
      },
      "source": [
        "<a href=\"https://colab.research.google.com/github/BJahanyar/Advanced_Python/blob/main/DeepLearning/Assignment_41/cifar10.ipynb\" target=\"_parent\"><img src=\"https://colab.research.google.com/assets/colab-badge.svg\" alt=\"Open In Colab\"/></a>"
      ]
    },
    {
      "cell_type": "code",
      "metadata": {
        "id": "Uq-7jKXdQeMz"
      },
      "source": [
        "import tensorflow as tf\n",
        "from tensorflow.keras.layers import Dense , Conv2D ,MaxPooling2D , Flatten\n",
        "import matplotlib.pyplot as plt\n"
      ],
      "execution_count": 3,
      "outputs": []
    },
    {
      "cell_type": "code",
      "metadata": {
        "id": "akNZdG8DRSQp",
        "colab": {
          "base_uri": "https://localhost:8080/"
        },
        "outputId": "66574a9c-04cb-4ae1-8064-416f63dcfd97"
      },
      "source": [
        "dataset = tf.keras.datasets.cifar10\n",
        "(X_train, Y_train) , (X_test, Y_test) = dataset.load_data()\n",
        "(x_train, y_train) , (x_test, y_test) = dataset.load_data()"
      ],
      "execution_count": 4,
      "outputs": [
        {
          "output_type": "stream",
          "name": "stdout",
          "text": [
            "Downloading data from https://www.cs.toronto.edu/~kriz/cifar-10-python.tar.gz\n",
            "170500096/170498071 [==============================] - 4s 0us/step\n",
            "170508288/170498071 [==============================] - 4s 0us/step\n"
          ]
        }
      ]
    },
    {
      "cell_type": "code",
      "metadata": {
        "colab": {
          "base_uri": "https://localhost:8080/"
        },
        "id": "sM8Ok-lgRoNk",
        "outputId": "10dd1b5d-6a11-4f77-e0fb-4726dedb136e"
      },
      "source": [
        "print(X_train.shape)\n",
        "print(X_train.min(), X_train.max(), X_train.dtype)\n",
        "print(Y_train.min(), Y_train.max(), Y_train.dtype)"
      ],
      "execution_count": 5,
      "outputs": [
        {
          "output_type": "stream",
          "name": "stdout",
          "text": [
            "(50000, 32, 32, 3)\n",
            "0 255 uint8\n",
            "0 9 uint8\n"
          ]
        }
      ]
    },
    {
      "cell_type": "code",
      "metadata": {
        "colab": {
          "base_uri": "https://localhost:8080/",
          "height": 283
        },
        "id": "V_JoO8S7RsRf",
        "outputId": "449e6606-84e3-492c-de10-e6decf203ad0"
      },
      "source": [
        "plt.imshow(X_train[4000] )\n",
        "print(Y_train[4000])"
      ],
      "execution_count": 6,
      "outputs": [
        {
          "output_type": "stream",
          "name": "stdout",
          "text": [
            "[5]\n"
          ]
        },
        {
          "output_type": "display_data",
          "data": {
            "image/png": "[encoded data removed]",
            "text/plain": [
              "<Figure size 432x288 with 1 Axes>"
            ]
          },
          "metadata": {
            "needs_background": "light"
          }
        }
      ]
    },
    {
      "cell_type": "markdown",
      "metadata": {
        "id": "QLe2uJcbEGm7"
      },
      "source": [
        "**MPL (Machine Learning) For mnist** \n",
        "\n",
        "\n"
      ]
    },
    {
      "cell_type": "code",
      "metadata": {
        "id": "oaZf5JTOd80Y"
      },
      "source": [
        "X_train = X_train.reshape(50000,3072)\n",
        "#print(X_train.shape)"
      ],
      "execution_count": 7,
      "outputs": []
    },
    {
      "cell_type": "code",
      "metadata": {
        "id": "xzJ3WIVZR-QT"
      },
      "source": [
        "\n",
        "model = tf.keras.models.Sequential([\n",
        "        Dense(64, input_dim = 3072, activation='relu'),\n",
        "        Dense(32, activation='relu'),\n",
        "        Dense(10, activation='softmax'),\n",
        "])"
      ],
      "execution_count": 8,
      "outputs": []
    },
    {
      "cell_type": "code",
      "metadata": {
        "id": "b_w8z8aRTBdP"
      },
      "source": [
        "model.compile(optimizer=tf.keras.optimizers.Adam(),\n",
        "              loss=tf.keras.losses.sparse_categorical_crossentropy,\n",
        "              metrics=['accuracy'])\n"
      ],
      "execution_count": 9,
      "outputs": []
    },
    {
      "cell_type": "code",
      "metadata": {
        "colab": {
          "base_uri": "https://localhost:8080/"
        },
        "id": "rvquiy22TWS2",
        "outputId": "b695eca7-da81-4620-d68e-f67c811d6d9f"
      },
      "source": [
        "model.fit(X_train, Y_train, epochs=5)\n"
      ],
      "execution_count": 10,
      "outputs": [
        {
          "output_type": "stream",
          "name": "stdout",
          "text": [
            "Epoch 1/5\n",
            "1563/1563 [==============================] - 6s 3ms/step - loss: 10.0386 - accuracy: 0.1155\n",
            "Epoch 2/5\n",
            "1563/1563 [==============================] - 5s 3ms/step - loss: 2.3032 - accuracy: 0.0966\n",
            "Epoch 3/5\n",
            "1563/1563 [==============================] - 5s 3ms/step - loss: 2.3027 - accuracy: 0.0982\n",
            "Epoch 4/5\n",
            "1563/1563 [==============================] - 5s 3ms/step - loss: 2.3024 - accuracy: 0.0987\n",
            "Epoch 5/5\n",
            "1563/1563 [==============================] - 5s 3ms/step - loss: 2.3028 - accuracy: 0.0966\n"
          ]
        },
        {
          "output_type": "execute_result",
          "data": {
            "text/plain": [
              "<keras.callbacks.History at 0x7fd866c7fd50>"
            ]
          },
          "metadata": {},
          "execution_count": 10
        }
      ]
    },
    {
      "cell_type": "code",
      "metadata": {
        "colab": {
          "base_uri": "https://localhost:8080/"
        },
        "id": "WYqJhqO_FK6r",
        "outputId": "a0e238de-39c4-4e5f-989e-cb4fd747d6f9"
      },
      "source": [
        "model.summary()"
      ],
      "execution_count": 11,
      "outputs": [
        {
          "output_type": "stream",
          "name": "stdout",
          "text": [
            "Model: \"sequential\"\n",
            "_________________________________________________________________\n",
            "Layer (type)                 Output Shape              Param #   \n",
            "=================================================================\n",
            "dense (Dense)                (None, 64)                196672    \n",
            "_________________________________________________________________\n",
            "dense_1 (Dense)              (None, 32)                2080      \n",
            "_________________________________________________________________\n",
            "dense_2 (Dense)              (None, 10)                330       \n",
            "=================================================================\n",
            "Total params: 199,082\n",
            "Trainable params: 199,082\n",
            "Non-trainable params: 0\n",
            "_________________________________________________________________\n"
          ]
        }
      ]
    },
    {
      "cell_type": "code",
      "metadata": {
        "colab": {
          "base_uri": "https://localhost:8080/"
        },
        "id": "EOfLvF_8VilJ",
        "outputId": "fd715a84-3fe0-4a1e-cfa0-6d535a1f46ea"
      },
      "source": [
        "X_test.shape"
      ],
      "execution_count": 12,
      "outputs": [
        {
          "output_type": "execute_result",
          "data": {
            "text/plain": [
              "(10000, 32, 32, 3)"
            ]
          },
          "metadata": {},
          "execution_count": 12
        }
      ]
    },
    {
      "cell_type": "code",
      "metadata": {
        "id": "E7rk9mX3VkzH"
      },
      "source": [
        "X_test = X_test.reshape(10000,3072)"
      ],
      "execution_count": 13,
      "outputs": []
    },
    {
      "cell_type": "code",
      "metadata": {
        "colab": {
          "base_uri": "https://localhost:8080/"
        },
        "id": "jY0DGejdVvqR",
        "outputId": "504fb16d-b358-44cd-f791-8c7f78acc7ce"
      },
      "source": [
        "model.evaluate(X_test, Y_test)"
      ],
      "execution_count": 14,
      "outputs": [
        {
          "output_type": "stream",
          "name": "stdout",
          "text": [
            "313/313 [==============================] - 1s 2ms/step - loss: 2.3027 - accuracy: 0.0999\n"
          ]
        },
        {
          "output_type": "execute_result",
          "data": {
            "text/plain": [
              "[2.3026976585388184, 0.09989999979734421]"
            ]
          },
          "metadata": {},
          "execution_count": 14
        }
      ]
    },
    {
      "cell_type": "markdown",
      "metadata": {
        "id": "mLoRFpvWD-as"
      },
      "source": [
        "**CNN + MLP (Deep Learning) For mnist**"
      ]
    },
    {
      "cell_type": "code",
      "metadata": {
        "id": "sNUf9o6qwhkI"
      },
      "source": [
        "x_train , x_test = x_train /255.0 , x_test / 255.0"
      ],
      "execution_count": 15,
      "outputs": []
    },
    {
      "cell_type": "code",
      "metadata": {
        "colab": {
          "base_uri": "https://localhost:8080/"
        },
        "id": "0VB5ZtrZv125",
        "outputId": "2d88b8c3-e363-4ce5-fd1d-baf26f0647f6"
      },
      "source": [
        "x_train = x_train.reshape(x_train.shape[0],x_train.shape[1], x_train.shape[2],3)\n",
        "x_test = x_test.reshape(x_test.shape[0], x_test.shape[1], x_test.shape[2],3)\n",
        "\n",
        "\n",
        "print(x_train.shape)\n",
        "print(y_train.shape)"
      ],
      "execution_count": 16,
      "outputs": [
        {
          "output_type": "stream",
          "name": "stdout",
          "text": [
            "(50000, 32, 32, 3)\n",
            "(50000, 1)\n"
          ]
        }
      ]
    },
    {
      "cell_type": "code",
      "metadata": {
        "id": "5MhHZCQg_Iqu"
      },
      "source": [
        "model = tf.keras.models.Sequential([\n",
        "        Conv2D(32, (3,3), activation='relu', input_shape = (32,32,3)),\n",
        "        MaxPooling2D((2, 2)),\n",
        "        Conv2D(64, (3,3), activation='relu'),\n",
        "        MaxPooling2D((2,2)),\n",
        "\n",
        "        Flatten(),\n",
        "        Dense(128, activation='relu'),\n",
        "        Dense(64,activation='relu'),\n",
        "        Dense(10, activation='softmax')\n",
        "])"
      ],
      "execution_count": 17,
      "outputs": []
    },
    {
      "cell_type": "code",
      "metadata": {
        "colab": {
          "base_uri": "https://localhost:8080/"
        },
        "id": "tufQtDVev9E5",
        "outputId": "259900f8-f82f-4c82-dee2-9b6272d20fdd"
      },
      "source": [
        "model.compile(optimizer=tf.keras.optimizers.Adam(),\n",
        "              loss=tf.keras.losses.sparse_categorical_crossentropy, \n",
        "              metrics=['accuracy'])\n",
        "\n",
        "model.summary()"
      ],
      "execution_count": 18,
      "outputs": [
        {
          "output_type": "stream",
          "name": "stdout",
          "text": [
            "Model: \"sequential_1\"\n",
            "_________________________________________________________________\n",
            "Layer (type)                 Output Shape              Param #   \n",
            "=================================================================\n",
            "conv2d (Conv2D)              (None, 30, 30, 32)        896       \n",
            "_________________________________________________________________\n",
            "max_pooling2d (MaxPooling2D) (None, 15, 15, 32)        0         \n",
            "_________________________________________________________________\n",
            "conv2d_1 (Conv2D)            (None, 13, 13, 64)        18496     \n",
            "_________________________________________________________________\n",
            "max_pooling2d_1 (MaxPooling2 (None, 6, 6, 64)          0         \n",
            "_________________________________________________________________\n",
            "flatten (Flatten)            (None, 2304)              0         \n",
            "_________________________________________________________________\n",
            "dense_3 (Dense)              (None, 128)               295040    \n",
            "_________________________________________________________________\n",
            "dense_4 (Dense)              (None, 64)                8256      \n",
            "_________________________________________________________________\n",
            "dense_5 (Dense)              (None, 10)                650       \n",
            "=================================================================\n",
            "Total params: 323,338\n",
            "Trainable params: 323,338\n",
            "Non-trainable params: 0\n",
            "_________________________________________________________________\n"
          ]
        }
      ]
    },
    {
      "cell_type": "code",
      "metadata": {
        "colab": {
          "base_uri": "https://localhost:8080/"
        },
        "id": "L9xRSsfBjT66",
        "outputId": "b8186fb9-5892-4230-b275-791a99b3d7c3"
      },
      "source": [
        "model.fit(x_train , y_train, epochs=5)"
      ],
      "execution_count": 19,
      "outputs": [
        {
          "output_type": "stream",
          "name": "stdout",
          "text": [
            "Epoch 1/5\n",
            "1563/1563 [==============================] - 57s 36ms/step - loss: 1.4700 - accuracy: 0.4676\n",
            "Epoch 2/5\n",
            "1563/1563 [==============================] - 56s 36ms/step - loss: 1.0837 - accuracy: 0.6160\n",
            "Epoch 3/5\n",
            "1563/1563 [==============================] - 56s 36ms/step - loss: 0.9299 - accuracy: 0.6757\n",
            "Epoch 4/5\n",
            "1563/1563 [==============================] - 56s 36ms/step - loss: 0.8290 - accuracy: 0.7106\n",
            "Epoch 5/5\n",
            "1563/1563 [==============================] - 56s 36ms/step - loss: 0.7453 - accuracy: 0.7408\n"
          ]
        },
        {
          "output_type": "execute_result",
          "data": {
            "text/plain": [
              "<keras.callbacks.History at 0x7fd866b71510>"
            ]
          },
          "metadata": {},
          "execution_count": 19
        }
      ]
    },
    {
      "cell_type": "code",
      "metadata": {
        "id": "64Ap4c5ekfwP",
        "colab": {
          "base_uri": "https://localhost:8080/"
        },
        "outputId": "9e505761-e9a2-4113-93b8-a8b1feb69a8f"
      },
      "source": [
        "Accuracy = model.evaluate(x_test , y_test)\n",
        "print (\"Deep Accuracy ==========>\" , Accuracy)"
      ],
      "execution_count": 20,
      "outputs": [
        {
          "output_type": "stream",
          "name": "stdout",
          "text": [
            "313/313 [==============================] - 3s 11ms/step - loss: 0.8872 - accuracy: 0.6975\n",
            "Deep Accuracy ==========> [0.8871520757675171, 0.6974999904632568]\n"
          ]
        }
      ]
    }
  ]
}