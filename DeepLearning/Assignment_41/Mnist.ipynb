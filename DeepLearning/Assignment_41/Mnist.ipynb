{
  "nbformat": 4,
  "nbformat_minor": 0,
  "metadata": {
    "colab": {
      "name": "Mnist.ipynb",
      "provenance": [],
      "collapsed_sections": [],
      "authorship_tag": "ABX9TyMiqgmb5L/KeD2aLr3QxW9i",
      "include_colab_link": true
    },
    "kernelspec": {
      "name": "python3",
      "display_name": "Python 3"
    },
    "language_info": {
      "name": "python"
    }
  },
  "cells": [
    {
      "cell_type": "markdown",
      "metadata": {
        "id": "view-in-github",
        "colab_type": "text"
      },
      "source": [
        "<a href=\"https://colab.research.google.com/github/BJahanyar/Advanced_Python/blob/main/DeepLearning/Assignment_41/Mnist.ipynb\" target=\"_parent\"><img src=\"https://colab.research.google.com/assets/colab-badge.svg\" alt=\"Open In Colab\"/></a>"
      ]
    },
    {
      "cell_type": "code",
      "metadata": {
        "id": "Uq-7jKXdQeMz"
      },
      "source": [
        "import tensorflow as tf\n",
        "from tensorflow.keras import layers\n",
        "import matplotlib.pyplot as plt\n",
        "import numpy as np\n",
        "from sklearn.model_selection import train_test_split\n"
      ],
      "execution_count": 308,
      "outputs": []
    },
    {
      "cell_type": "code",
      "metadata": {
        "id": "akNZdG8DRSQp"
      },
      "source": [
        "dataset = tf.keras.datasets.mnist\n",
        "(X_train, Y_train) , (X_test, Y_test) = dataset.load_data()\n",
        "(x_train, y_train) , (x_test, y_test) = dataset.load_data()"
      ],
      "execution_count": 309,
      "outputs": []
    },
    {
      "cell_type": "code",
      "metadata": {
        "colab": {
          "base_uri": "https://localhost:8080/"
        },
        "id": "sM8Ok-lgRoNk",
        "outputId": "97f9c5fc-5620-480a-f570-ccfdf25be3ac"
      },
      "source": [
        "print(X_train.shape)\n",
        "print(X_train.min(), X_train.max(), X_train.dtype)\n",
        "print(Y_train.min(), Y_train.max(), Y_train.dtype)"
      ],
      "execution_count": 310,
      "outputs": [
        {
          "output_type": "stream",
          "name": "stdout",
          "text": [
            "(60000, 28, 28)\n",
            "0 255 uint8\n",
            "0 9 uint8\n"
          ]
        }
      ]
    },
    {
      "cell_type": "code",
      "metadata": {
        "colab": {
          "base_uri": "https://localhost:8080/",
          "height": 282
        },
        "id": "V_JoO8S7RsRf",
        "outputId": "652685ff-63ff-472d-deb3-09ed073f5db2"
      },
      "source": [
        "plt.imshow(X_train[4000] , cmap='gray')\n",
        "print(Y_train[4000])"
      ],
      "execution_count": 311,
      "outputs": [
        {
          "output_type": "stream",
          "name": "stdout",
          "text": [
            "7\n"
          ]
        },
        {
          "output_type": "display_data",
          "data": {
            "image/png": "[encoded data removed]",
            "text/plain": [
              "<Figure size 432x288 with 1 Axes>"
            ]
          },
          "metadata": {
            "needs_background": "light"
          }
        }
      ]
    },
    {
      "cell_type": "code",
      "metadata": {
        "id": "77fBAkxE_Q9n"
      },
      "source": [
        ""
      ],
      "execution_count": 311,
      "outputs": []
    },
    {
      "cell_type": "markdown",
      "metadata": {
        "id": "QLe2uJcbEGm7"
      },
      "source": [
        "**MPL (Machine Learning) For mnist** \n",
        "\n",
        "\n"
      ]
    },
    {
      "cell_type": "code",
      "metadata": {
        "id": "oaZf5JTOd80Y"
      },
      "source": [
        "X_train = X_train.reshape(60000 , 784)"
      ],
      "execution_count": 312,
      "outputs": []
    },
    {
      "cell_type": "code",
      "metadata": {
        "id": "xzJ3WIVZR-QT"
      },
      "source": [
        "model = tf.keras.models.Sequential([\n",
        "      layers.Dense(64, input_dim=784, activation = 'relu') ,\n",
        "      layers.Dense(32, activation = 'relu') ,\n",
        "      layers.Dense(10, activation = 'softmax') ,\n",
        "\n",
        "])"
      ],
      "execution_count": 313,
      "outputs": []
    },
    {
      "cell_type": "code",
      "metadata": {
        "id": "b_w8z8aRTBdP"
      },
      "source": [
        "model.compile(optimizer=tf.keras.optimizers.Adam(),\n",
        "              loss = tf.keras.losses.sparse_categorical_crossentropy,\n",
        "              metrics = ['accuracy'])"
      ],
      "execution_count": 314,
      "outputs": []
    },
    {
      "cell_type": "code",
      "metadata": {
        "colab": {
          "base_uri": "https://localhost:8080/"
        },
        "id": "rvquiy22TWS2",
        "outputId": "31d8ce02-cebc-49db-f8b5-8fa076619208"
      },
      "source": [
        "model.fit(X_train, Y_train, epochs=7)"
      ],
      "execution_count": 315,
      "outputs": [
        {
          "output_type": "stream",
          "name": "stdout",
          "text": [
            "Epoch 1/7\n",
            "1875/1875 [==============================] - 4s 2ms/step - loss: 1.8477 - accuracy: 0.5132\n",
            "Epoch 2/7\n",
            "1875/1875 [==============================] - 4s 2ms/step - loss: 0.7094 - accuracy: 0.7967\n",
            "Epoch 3/7\n",
            "1875/1875 [==============================] - 4s 2ms/step - loss: 0.3933 - accuracy: 0.9083\n",
            "Epoch 4/7\n",
            "1875/1875 [==============================] - 4s 2ms/step - loss: 0.2791 - accuracy: 0.9331\n",
            "Epoch 5/7\n",
            "1875/1875 [==============================] - 3s 2ms/step - loss: 0.2193 - accuracy: 0.9467\n",
            "Epoch 6/7\n",
            "1875/1875 [==============================] - 4s 2ms/step - loss: 0.1816 - accuracy: 0.9540\n",
            "Epoch 7/7\n",
            "1875/1875 [==============================] - 4s 2ms/step - loss: 0.1596 - accuracy: 0.9589\n"
          ]
        },
        {
          "output_type": "execute_result",
          "data": {
            "text/plain": [
              "<keras.callbacks.History at 0x7f3e10026f10>"
            ]
          },
          "metadata": {},
          "execution_count": 315
        }
      ]
    },
    {
      "cell_type": "code",
      "metadata": {
        "colab": {
          "base_uri": "https://localhost:8080/"
        },
        "id": "WYqJhqO_FK6r",
        "outputId": "196023d4-971f-4834-8482-c60d915e1166"
      },
      "source": [
        "model.summary()"
      ],
      "execution_count": 316,
      "outputs": [
        {
          "output_type": "stream",
          "name": "stdout",
          "text": [
            "Model: \"sequential_37\"\n",
            "_________________________________________________________________\n",
            "Layer (type)                 Output Shape              Param #   \n",
            "=================================================================\n",
            "dense_87 (Dense)             (None, 64)                50240     \n",
            "_________________________________________________________________\n",
            "dense_88 (Dense)             (None, 32)                2080      \n",
            "_________________________________________________________________\n",
            "dense_89 (Dense)             (None, 10)                330       \n",
            "=================================================================\n",
            "Total params: 52,650\n",
            "Trainable params: 52,650\n",
            "Non-trainable params: 0\n",
            "_________________________________________________________________\n"
          ]
        }
      ]
    },
    {
      "cell_type": "code",
      "metadata": {
        "colab": {
          "base_uri": "https://localhost:8080/"
        },
        "id": "EOfLvF_8VilJ",
        "outputId": "1b534344-7313-40d9-b7e9-395b58586fc0"
      },
      "source": [
        "X_test.shape"
      ],
      "execution_count": 317,
      "outputs": [
        {
          "output_type": "execute_result",
          "data": {
            "text/plain": [
              "(10000, 28, 28)"
            ]
          },
          "metadata": {},
          "execution_count": 317
        }
      ]
    },
    {
      "cell_type": "code",
      "metadata": {
        "id": "E7rk9mX3VkzH"
      },
      "source": [
        "X_test = X_test.reshape(10000,784)"
      ],
      "execution_count": 318,
      "outputs": []
    },
    {
      "cell_type": "code",
      "metadata": {
        "colab": {
          "base_uri": "https://localhost:8080/"
        },
        "id": "jY0DGejdVvqR",
        "outputId": "9fa1c37c-1cb3-44fd-c2a3-b08d7119f0f8"
      },
      "source": [
        "model.evaluate(X_test, Y_test)"
      ],
      "execution_count": 319,
      "outputs": [
        {
          "output_type": "stream",
          "name": "stdout",
          "text": [
            "313/313 [==============================] - 1s 2ms/step - loss: 0.1838 - accuracy: 0.9545\n"
          ]
        },
        {
          "output_type": "execute_result",
          "data": {
            "text/plain": [
              "[0.18379665911197662, 0.9545000195503235]"
            ]
          },
          "metadata": {},
          "execution_count": 319
        }
      ]
    },
    {
      "cell_type": "markdown",
      "metadata": {
        "id": "mLoRFpvWD-as"
      },
      "source": [
        "**CNN + MLP (Deep Learning) For mnist**"
      ]
    },
    {
      "cell_type": "code",
      "metadata": {
        "id": "sNUf9o6qwhkI"
      },
      "source": [
        "x_train , x_test = x_train /255.0 , x_test / 255.0"
      ],
      "execution_count": 320,
      "outputs": []
    },
    {
      "cell_type": "code",
      "metadata": {
        "colab": {
          "base_uri": "https://localhost:8080/"
        },
        "id": "0VB5ZtrZv125",
        "outputId": "5e94c58b-05b2-4926-cbbe-5c2076bf70f6"
      },
      "source": [
        "x_train = x_train[..., tf.newaxis].astype(\"float32\")\n",
        "x_test = x_test[..., tf.newaxis].astype(\"float32\")\n",
        "\n",
        "print(x_train.shape)\n",
        "print(y_train.shape)"
      ],
      "execution_count": 321,
      "outputs": [
        {
          "output_type": "stream",
          "name": "stdout",
          "text": [
            "(60000, 28, 28, 1)\n",
            "(60000,)\n"
          ]
        }
      ]
    },
    {
      "cell_type": "code",
      "metadata": {
        "id": "5MhHZCQg_Iqu"
      },
      "source": [
        "model = tf.keras.models.Sequential([\n",
        "        layers.Conv2D(32, (3,3), activation='relu', input_shape = (28,28,1)),\n",
        "        layers.MaxPool2D((2, 2)),\n",
        "        layers.Conv2D(64, (3,3), activation='relu'),\n",
        "        layers.MaxPooling2D((2,2)),\n",
        "\n",
        "        layers.Flatten(),\n",
        "        layers.Dense(128, activation='relu'),\n",
        "        layers.Dense(64,activation='relu'),\n",
        "        layers.Dense(10, activation='softmax')\n",
        "])"
      ],
      "execution_count": 322,
      "outputs": []
    },
    {
      "cell_type": "code",
      "metadata": {
        "colab": {
          "base_uri": "https://localhost:8080/"
        },
        "id": "tufQtDVev9E5",
        "outputId": "0b3aea0d-a611-4026-ece1-b5242badfc84"
      },
      "source": [
        "model.compile(optimizer=tf.keras.optimizers.Adam(),\n",
        "              loss=tf.keras.losses.sparse_categorical_crossentropy, \n",
        "              metrics=['accuracy'])\n",
        "\n",
        "model.summary()"
      ],
      "execution_count": 323,
      "outputs": [
        {
          "output_type": "stream",
          "name": "stdout",
          "text": [
            "Model: \"sequential_38\"\n",
            "_________________________________________________________________\n",
            "Layer (type)                 Output Shape              Param #   \n",
            "=================================================================\n",
            "conv2d_29 (Conv2D)           (None, 26, 26, 32)        320       \n",
            "_________________________________________________________________\n",
            "max_pooling2d_18 (MaxPooling (None, 13, 13, 32)        0         \n",
            "_________________________________________________________________\n",
            "flatten_24 (Flatten)         (None, 5408)              0         \n",
            "_________________________________________________________________\n",
            "dense_90 (Dense)             (None, 64)                346176    \n",
            "_________________________________________________________________\n",
            "dense_91 (Dense)             (None, 10)                650       \n",
            "=================================================================\n",
            "Total params: 347,146\n",
            "Trainable params: 347,146\n",
            "Non-trainable params: 0\n",
            "_________________________________________________________________\n"
          ]
        }
      ]
    },
    {
      "cell_type": "code",
      "metadata": {
        "colab": {
          "base_uri": "https://localhost:8080/"
        },
        "id": "L9xRSsfBjT66",
        "outputId": "0ee82380-6deb-47cc-be70-d88c44d128bc"
      },
      "source": [
        "model.fit(x_train , y_train, epochs=5)"
      ],
      "execution_count": 324,
      "outputs": [
        {
          "output_type": "stream",
          "name": "stdout",
          "text": [
            "Epoch 1/5\n",
            "1875/1875 [==============================] - 33s 17ms/step - loss: 0.1696 - accuracy: 0.9513\n",
            "Epoch 2/5\n",
            "1875/1875 [==============================] - 32s 17ms/step - loss: 0.0595 - accuracy: 0.9819\n",
            "Epoch 3/5\n",
            "1875/1875 [==============================] - 31s 17ms/step - loss: 0.0391 - accuracy: 0.9881\n",
            "Epoch 4/5\n",
            "1875/1875 [==============================] - 32s 17ms/step - loss: 0.0281 - accuracy: 0.9911\n",
            "Epoch 5/5\n",
            "1875/1875 [==============================] - 32s 17ms/step - loss: 0.0213 - accuracy: 0.9930\n"
          ]
        },
        {
          "output_type": "execute_result",
          "data": {
            "text/plain": [
              "<keras.callbacks.History at 0x7f3e0fded150>"
            ]
          },
          "metadata": {},
          "execution_count": 324
        }
      ]
    },
    {
      "cell_type": "code",
      "metadata": {
        "id": "64Ap4c5ekfwP",
        "colab": {
          "base_uri": "https://localhost:8080/"
        },
        "outputId": "99e0c7f8-b98d-411d-fd48-52ca2adec526"
      },
      "source": [
        "Accuracy = model.evaluate(x_test , y_test)\n",
        "print (\"Deep Accuracy ==========>\" , Accuracy)"
      ],
      "execution_count": 325,
      "outputs": [
        {
          "output_type": "stream",
          "name": "stdout",
          "text": [
            "313/313 [==============================] - 2s 6ms/step - loss: 0.0542 - accuracy: 0.9835\n",
            "Deep Accuracy ==========> [0.05417240783572197, 0.9835000038146973]\n"
          ]
        }
      ]
    }
  ]
}