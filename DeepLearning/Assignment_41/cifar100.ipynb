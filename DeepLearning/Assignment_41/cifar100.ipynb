{
  "nbformat": 4,
  "nbformat_minor": 0,
  "metadata": {
    "colab": {
      "name": "cifar100.ipynb",
      "provenance": [],
      "collapsed_sections": [],
      "authorship_tag": "ABX9TyMVmrrxMBBpUR+t3v8mogru",
      "include_colab_link": true
    },
    "kernelspec": {
      "name": "python3",
      "display_name": "Python 3"
    },
    "language_info": {
      "name": "python"
    },
    "accelerator": "GPU"
  },
  "cells": [
    {
      "cell_type": "markdown",
      "metadata": {
        "id": "view-in-github",
        "colab_type": "text"
      },
      "source": [
        "<a href=\"https://colab.research.google.com/github/BJahanyar/Advanced_Python/blob/main/DeepLearning/Assignment_41/cifar100.ipynb\" target=\"_parent\"><img src=\"https://colab.research.google.com/assets/colab-badge.svg\" alt=\"Open In Colab\"/></a>"
      ]
    },
    {
      "cell_type": "code",
      "metadata": {
        "id": "Uq-7jKXdQeMz"
      },
      "source": [
        "import tensorflow as tf\n",
        "from tensorflow.keras.layers import Dense , Conv2D ,MaxPooling2D , Flatten\n",
        "import matplotlib.pyplot as plt\n"
      ],
      "execution_count": 1,
      "outputs": []
    },
    {
      "cell_type": "code",
      "metadata": {
        "id": "akNZdG8DRSQp",
        "colab": {
          "base_uri": "https://localhost:8080/"
        },
        "outputId": "a1b5fe46-a808-43f2-af6b-7afb0cfd1bb7"
      },
      "source": [
        "dataset = tf.keras.datasets.cifar100\n",
        "(X_train, Y_train) , (X_test, Y_test) = dataset.load_data()\n",
        "(x_train, y_train) , (x_test, y_test) = dataset.load_data()"
      ],
      "execution_count": 2,
      "outputs": [
        {
          "output_type": "stream",
          "name": "stdout",
          "text": [
            "Downloading data from https://www.cs.toronto.edu/~kriz/cifar-100-python.tar.gz\n",
            "169009152/169001437 [==============================] - 11s 0us/step\n",
            "169017344/169001437 [==============================] - 11s 0us/step\n"
          ]
        }
      ]
    },
    {
      "cell_type": "code",
      "metadata": {
        "colab": {
          "base_uri": "https://localhost:8080/"
        },
        "id": "sM8Ok-lgRoNk",
        "outputId": "3cd7c4d8-eb4a-466f-d252-41dbb689621e"
      },
      "source": [
        "print(X_train.shape)\n",
        "print(X_train.min(), X_train.max(), X_train.dtype)\n",
        "print(Y_train.min(), Y_train.max(), Y_train.dtype)"
      ],
      "execution_count": 3,
      "outputs": [
        {
          "output_type": "stream",
          "name": "stdout",
          "text": [
            "(50000, 32, 32, 3)\n",
            "0 255 uint8\n",
            "0 99 int64\n"
          ]
        }
      ]
    },
    {
      "cell_type": "code",
      "metadata": {
        "colab": {
          "base_uri": "https://localhost:8080/",
          "height": 283
        },
        "id": "V_JoO8S7RsRf",
        "outputId": "1113d7ab-b4e9-4ed0-a6df-74d1a9bac2da"
      },
      "source": [
        "plt.imshow(X_train[4900] )\n",
        "print(Y_train[4900])"
      ],
      "execution_count": 4,
      "outputs": [
        {
          "output_type": "stream",
          "name": "stdout",
          "text": [
            "[8]\n"
          ]
        },
        {
          "output_type": "display_data",
          "data": {
            "image/png": "[encoded data removed]",
            "text/plain": [
              "<Figure size 432x288 with 1 Axes>"
            ]
          },
          "metadata": {
            "needs_background": "light"
          }
        }
      ]
    },
    {
      "cell_type": "markdown",
      "metadata": {
        "id": "QLe2uJcbEGm7"
      },
      "source": [
        "**MPL (Machine Learning) For cifar100** \n",
        "\n",
        "\n"
      ]
    },
    {
      "cell_type": "code",
      "metadata": {
        "id": "oaZf5JTOd80Y"
      },
      "source": [
        "X_train = X_train.reshape(50000,3072)\n",
        "#print(X_train.shape)"
      ],
      "execution_count": 5,
      "outputs": []
    },
    {
      "cell_type": "code",
      "metadata": {
        "id": "xzJ3WIVZR-QT"
      },
      "source": [
        "model = tf.keras.models.Sequential([\n",
        "        Dense(64, input_dim = 3072, activation='relu'),\n",
        "        Dense(32, activation='relu'),\n",
        "        Dense(100, activation='softmax'),\n",
        "])"
      ],
      "execution_count": 6,
      "outputs": []
    },
    {
      "cell_type": "code",
      "metadata": {
        "id": "b_w8z8aRTBdP"
      },
      "source": [
        "model.compile(optimizer=tf.keras.optimizers.Adam(), loss=tf.keras.losses.sparse_categorical_crossentropy, metrics=['accuracy'])\n"
      ],
      "execution_count": 7,
      "outputs": []
    },
    {
      "cell_type": "code",
      "metadata": {
        "colab": {
          "base_uri": "https://localhost:8080/"
        },
        "id": "rvquiy22TWS2",
        "outputId": "d441fe20-c077-47a5-9612-257587122775"
      },
      "source": [
        "model.fit(X_train, Y_train, epochs=5)"
      ],
      "execution_count": 8,
      "outputs": [
        {
          "output_type": "stream",
          "name": "stdout",
          "text": [
            "Epoch 1/5\n",
            "1563/1563 [==============================] - 7s 3ms/step - loss: 6.6668 - accuracy: 0.0085\n",
            "Epoch 2/5\n",
            "1563/1563 [==============================] - 5s 3ms/step - loss: 4.6073 - accuracy: 0.0086\n",
            "Epoch 3/5\n",
            "1563/1563 [==============================] - 5s 3ms/step - loss: 4.6495 - accuracy: 0.0091\n",
            "Epoch 4/5\n",
            "1563/1563 [==============================] - 5s 3ms/step - loss: 4.6059 - accuracy: 0.0090\n",
            "Epoch 5/5\n",
            "1563/1563 [==============================] - 5s 3ms/step - loss: 4.6059 - accuracy: 0.0087\n"
          ]
        },
        {
          "output_type": "execute_result",
          "data": {
            "text/plain": [
              "<keras.callbacks.History at 0x7ff67c1dda50>"
            ]
          },
          "metadata": {},
          "execution_count": 8
        }
      ]
    },
    {
      "cell_type": "code",
      "metadata": {
        "id": "WYqJhqO_FK6r",
        "colab": {
          "base_uri": "https://localhost:8080/"
        },
        "outputId": "6ab9170e-f95b-4ae3-df68-ccabfa08f680"
      },
      "source": [
        "model.summary()"
      ],
      "execution_count": 9,
      "outputs": [
        {
          "output_type": "stream",
          "name": "stdout",
          "text": [
            "Model: \"sequential\"\n",
            "_________________________________________________________________\n",
            "Layer (type)                 Output Shape              Param #   \n",
            "=================================================================\n",
            "dense (Dense)                (None, 64)                196672    \n",
            "_________________________________________________________________\n",
            "dense_1 (Dense)              (None, 32)                2080      \n",
            "_________________________________________________________________\n",
            "dense_2 (Dense)              (None, 100)               3300      \n",
            "=================================================================\n",
            "Total params: 202,052\n",
            "Trainable params: 202,052\n",
            "Non-trainable params: 0\n",
            "_________________________________________________________________\n"
          ]
        }
      ]
    },
    {
      "cell_type": "code",
      "metadata": {
        "id": "EOfLvF_8VilJ",
        "colab": {
          "base_uri": "https://localhost:8080/"
        },
        "outputId": "c93d5acf-e4b1-4c8f-dd56-acb0b025653f"
      },
      "source": [
        "X_test.shape"
      ],
      "execution_count": 10,
      "outputs": [
        {
          "output_type": "execute_result",
          "data": {
            "text/plain": [
              "(10000, 32, 32, 3)"
            ]
          },
          "metadata": {},
          "execution_count": 10
        }
      ]
    },
    {
      "cell_type": "code",
      "metadata": {
        "id": "E7rk9mX3VkzH"
      },
      "source": [
        "X_test = X_test.reshape(10000,3072)"
      ],
      "execution_count": 11,
      "outputs": []
    },
    {
      "cell_type": "code",
      "metadata": {
        "id": "jY0DGejdVvqR",
        "colab": {
          "base_uri": "https://localhost:8080/"
        },
        "outputId": "93c99cf8-f412-4e26-b466-ed8cb113db13"
      },
      "source": [
        "model.evaluate(X_test, Y_test)"
      ],
      "execution_count": 12,
      "outputs": [
        {
          "output_type": "stream",
          "name": "stdout",
          "text": [
            "313/313 [==============================] - 1s 3ms/step - loss: 4.6052 - accuracy: 0.0100\n"
          ]
        },
        {
          "output_type": "execute_result",
          "data": {
            "text/plain": [
              "[4.605196475982666, 0.009999999776482582]"
            ]
          },
          "metadata": {},
          "execution_count": 12
        }
      ]
    },
    {
      "cell_type": "markdown",
      "metadata": {
        "id": "mLoRFpvWD-as"
      },
      "source": [
        "**CNN + MLP (Deep Learning) For cifar100**"
      ]
    },
    {
      "cell_type": "code",
      "metadata": {
        "id": "tWnLyOPsEOFi"
      },
      "source": [
        "dataset = tf.keras.datasets.cifar100\n",
        "(x_train, y_train) , (x_test, y_test) = dataset.load_data()"
      ],
      "execution_count": 13,
      "outputs": []
    },
    {
      "cell_type": "code",
      "metadata": {
        "id": "sNUf9o6qwhkI"
      },
      "source": [
        "x_train , x_test = x_train /255.0 , x_test / 255.0"
      ],
      "execution_count": 14,
      "outputs": []
    },
    {
      "cell_type": "code",
      "metadata": {
        "id": "0VB5ZtrZv125",
        "colab": {
          "base_uri": "https://localhost:8080/"
        },
        "outputId": "3a29d8dc-d7b4-4703-a25e-a1e21ca310bb"
      },
      "source": [
        "x_train = x_train.reshape(x_train.shape[0],x_train.shape[1], x_train.shape[2],3)\n",
        "x_test = x_test.reshape(x_test.shape[0], x_test.shape[1], x_test.shape[2],3)\n",
        "\n",
        "\n",
        "print(x_train.shape)\n",
        "print(y_train.shape)"
      ],
      "execution_count": 15,
      "outputs": [
        {
          "output_type": "stream",
          "name": "stdout",
          "text": [
            "(50000, 32, 32, 3)\n",
            "(50000, 1)\n"
          ]
        }
      ]
    },
    {
      "cell_type": "code",
      "metadata": {
        "id": "o4y0i9ecC80c"
      },
      "source": [
        "model = tf.keras.models.Sequential([                             \n",
        "        Conv2D(32, (3,3), activation='relu', input_shape=(32, 32, 3)),\n",
        "        MaxPooling2D((2,2)),\n",
        "        Conv2D(64, (3,3), activation='relu'),\n",
        "        MaxPooling2D((2,2)),\n",
        "        Conv2D(128, (3,3), activation='relu'),\n",
        "        \n",
        "        Flatten(),\n",
        "        Dense(128, activation='relu'),\n",
        "        Dense(10, activation='softmax'),\n",
        "])"
      ],
      "execution_count": 34,
      "outputs": []
    },
    {
      "cell_type": "code",
      "metadata": {
        "id": "tufQtDVev9E5"
      },
      "source": [
        "model.compile(optimizer=tf.keras.optimizers.Adam(), loss=tf.keras.losses.sparse_categorical_crossentropy, metrics=['accuracy'])"
      ],
      "execution_count": 35,
      "outputs": []
    },
    {
      "cell_type": "code",
      "metadata": {
        "colab": {
          "base_uri": "https://localhost:8080/"
        },
        "id": "L9xRSsfBjT66",
        "outputId": "c6623aa2-dcd7-4d28-975b-796cc72d86ff"
      },
      "source": [
        "model.fit(x_train , y_train, epochs=10)"
      ],
      "execution_count": 36,
      "outputs": [
        {
          "output_type": "stream",
          "name": "stdout",
          "text": [
            "Epoch 1/10\n",
            "1563/1563 [==============================] - 12s 7ms/step - loss: nan - accuracy: 0.0100\n",
            "Epoch 2/10\n",
            "1563/1563 [==============================] - 11s 7ms/step - loss: nan - accuracy: 0.0100\n",
            "Epoch 3/10\n",
            "1563/1563 [==============================] - 11s 7ms/step - loss: nan - accuracy: 0.0100\n",
            "Epoch 4/10\n",
            "1563/1563 [==============================] - 11s 7ms/step - loss: nan - accuracy: 0.0100\n",
            "Epoch 5/10\n",
            "1563/1563 [==============================] - 11s 7ms/step - loss: nan - accuracy: 0.0100\n",
            "Epoch 6/10\n",
            "1563/1563 [==============================] - 11s 7ms/step - loss: nan - accuracy: 0.0100\n",
            "Epoch 7/10\n",
            "1563/1563 [==============================] - 11s 7ms/step - loss: nan - accuracy: 0.0100\n",
            "Epoch 8/10\n",
            "1563/1563 [==============================] - 11s 7ms/step - loss: nan - accuracy: 0.0100\n",
            "Epoch 9/10\n",
            "1563/1563 [==============================] - 11s 7ms/step - loss: nan - accuracy: 0.0100\n",
            "Epoch 10/10\n",
            "1563/1563 [==============================] - 11s 7ms/step - loss: nan - accuracy: 0.0100\n"
          ]
        },
        {
          "output_type": "execute_result",
          "data": {
            "text/plain": [
              "<keras.callbacks.History at 0x7ff6307e28d0>"
            ]
          },
          "metadata": {},
          "execution_count": 36
        }
      ]
    },
    {
      "cell_type": "code",
      "metadata": {
        "id": "64Ap4c5ekfwP",
        "colab": {
          "base_uri": "https://localhost:8080/"
        },
        "outputId": "a01fcf48-1863-4842-fab4-00335e3744f3"
      },
      "source": [
        "Accuracy = model.evaluate(x_test , y_test)\n",
        "print (\"Deep Accuracy ==========>\" , Accuracy)"
      ],
      "execution_count": 37,
      "outputs": [
        {
          "output_type": "stream",
          "name": "stdout",
          "text": [
            "313/313 [==============================] - 1s 4ms/step - loss: nan - accuracy: 0.0100\n",
            "Deep Accuracy ==========> [nan, 0.009999999776482582]\n"
          ]
        }
      ]
    }
  ]
}