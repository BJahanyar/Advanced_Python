{
  "nbformat": 4,
  "nbformat_minor": 0,
  "metadata": {
    "colab": {
      "name": "Untitled0.ipynb",
      "provenance": [],
      "collapsed_sections": [],
      "authorship_tag": "ABX9TyMxFmOfRSv/5RL96UERajsq",
      "include_colab_link": true
    },
    "kernelspec": {
      "name": "python3",
      "display_name": "Python 3"
    },
    "language_info": {
      "name": "python"
    },
    "accelerator": "GPU"
  },
  "cells": [
    {
      "cell_type": "markdown",
      "metadata": {
        "id": "view-in-github",
        "colab_type": "text"
      },
      "source": [
        "<a href=\"https://colab.research.google.com/github/BJahanyar/Advanced_Python/blob/main/DeepLearning/Assignment_42/Sheykh_Detectiom.ipynb\" target=\"_parent\"><img src=\"https://colab.research.google.com/assets/colab-badge.svg\" alt=\"Open In Colab\"/></a>"
      ]
    },
    {
      "cell_type": "code",
      "metadata": {
        "id": "tWOlZrqkZsrs"
      },
      "source": [
        "import numpy as np\n",
        "import tensorflow as tf\n",
        "from tensorflow.keras.layers import Dense, Conv2D, MaxPool2D, Flatten\n",
        "from tensorflow.keras.optimizers import SGD, Adam\n",
        "from tensorflow.keras.preprocessing.image import ImageDataGenerator"
      ],
      "execution_count": 1,
      "outputs": []
    },
    {
      "cell_type": "code",
      "metadata": {
        "colab": {
          "base_uri": "https://localhost:8080/"
        },
        "id": "QGyeAwkakS8c",
        "outputId": "6bf23c4b-3ca4-48e9-af08-cc5b3b4ab428"
      },
      "source": [
        "from google.colab import drive\n",
        "drive.mount('/content/drive')"
      ],
      "execution_count": 2,
      "outputs": [
        {
          "output_type": "stream",
          "name": "stdout",
          "text": [
            "Mounted at /content/drive\n"
          ]
        }
      ]
    },
    {
      "cell_type": "code",
      "metadata": {
        "id": "19OBefjAaCOU"
      },
      "source": [
        "width = height = 224"
      ],
      "execution_count": 3,
      "outputs": []
    },
    {
      "cell_type": "code",
      "metadata": {
        "id": "4wPkdPqVaEVy"
      },
      "source": [
        "data_generator = ImageDataGenerator(\n",
        "    rescale = 1 / 255,\n",
        ")"
      ],
      "execution_count": 4,
      "outputs": []
    },
    {
      "cell_type": "code",
      "metadata": {
        "colab": {
          "base_uri": "https://localhost:8080/"
        },
        "id": "zgGu3e22ay69",
        "outputId": "f673b60d-aa76-4edd-cfc3-4f36c9fe9d89"
      },
      "source": [
        "train = data_generator.flow_from_directory( '/content/drive/MyDrive/DeepLearning/Sheykh_Detection/Sheykh-Recognition',\n",
        "    target_size = (width, height),\n",
        "    class_mode = 'categorical',\n",
        ")"
      ],
      "execution_count": 5,
      "outputs": [
        {
          "output_type": "stream",
          "name": "stdout",
          "text": [
            "Found 157 images belonging to 2 classes.\n"
          ]
        }
      ]
    },
    {
      "cell_type": "code",
      "metadata": {
        "colab": {
          "base_uri": "https://localhost:8080/"
        },
        "id": "SBLaWx6ylMxH",
        "outputId": "c3bef1e7-ec7d-4d11-b42c-6f3391bd8e3f"
      },
      "source": [
        "input_shape = (224, 224, 3)\n",
        "\n",
        "model = tf.keras.models.Sequential([\n",
        "         Conv2D(32, (3, 3), input_shape=input_shape, activation='relu'),\n",
        "         Conv2D(32, (3, 3), activation='relu'),\n",
        "         MaxPool2D((2, 2)),\n",
        "         Conv2D(32, (3, 3), activation='relu'),\n",
        "         Conv2D(32, (3, 3), activation='relu'),\n",
        "         MaxPool2D((2, 2)),\n",
        "         Conv2D(64, (3, 3), activation='relu'),\n",
        "         Conv2D(64, (3, 3), activation='relu'),\n",
        "         MaxPool2D((2, 2)),\n",
        "         Conv2D(64, (3, 3), activation='relu'),\n",
        "         Conv2D(64, (3, 3), activation='relu'),\n",
        "         MaxPool2D((2, 2)),\n",
        "         Conv2D(128, (3, 3), activation='relu'),\n",
        "         Flatten(),\n",
        "         Dense(128, activation='relu'),\n",
        "         Dense(64, activation='relu'),\n",
        "         Dense(2, activation='softmax')                          \n",
        "])\n",
        "\n",
        "model.compile(optimizer=tf.keras.optimizers.SGD(),\n",
        "              loss=tf.keras.losses.binary_crossentropy,\n",
        "              metrics='accuracy')\n",
        "\n",
        "model.summary()\n"
      ],
      "execution_count": 6,
      "outputs": [
        {
          "output_type": "stream",
          "name": "stdout",
          "text": [
            "Model: \"sequential\"\n",
            "_________________________________________________________________\n",
            "Layer (type)                 Output Shape              Param #   \n",
            "=================================================================\n",
            "conv2d (Conv2D)              (None, 222, 222, 32)      896       \n",
            "_________________________________________________________________\n",
            "conv2d_1 (Conv2D)            (None, 220, 220, 32)      9248      \n",
            "_________________________________________________________________\n",
            "max_pooling2d (MaxPooling2D) (None, 110, 110, 32)      0         \n",
            "_________________________________________________________________\n",
            "conv2d_2 (Conv2D)            (None, 108, 108, 32)      9248      \n",
            "_________________________________________________________________\n",
            "conv2d_3 (Conv2D)            (None, 106, 106, 32)      9248      \n",
            "_________________________________________________________________\n",
            "max_pooling2d_1 (MaxPooling2 (None, 53, 53, 32)        0         \n",
            "_________________________________________________________________\n",
            "conv2d_4 (Conv2D)            (None, 51, 51, 64)        18496     \n",
            "_________________________________________________________________\n",
            "conv2d_5 (Conv2D)            (None, 49, 49, 64)        36928     \n",
            "_________________________________________________________________\n",
            "max_pooling2d_2 (MaxPooling2 (None, 24, 24, 64)        0         \n",
            "_________________________________________________________________\n",
            "conv2d_6 (Conv2D)            (None, 22, 22, 64)        36928     \n",
            "_________________________________________________________________\n",
            "conv2d_7 (Conv2D)            (None, 20, 20, 64)        36928     \n",
            "_________________________________________________________________\n",
            "max_pooling2d_3 (MaxPooling2 (None, 10, 10, 64)        0         \n",
            "_________________________________________________________________\n",
            "conv2d_8 (Conv2D)            (None, 8, 8, 128)         73856     \n",
            "_________________________________________________________________\n",
            "max_pooling2d_4 (MaxPooling2 (None, 4, 4, 128)         0         \n",
            "_________________________________________________________________\n",
            "conv2d_9 (Conv2D)            (None, 2, 2, 128)         147584    \n",
            "_________________________________________________________________\n",
            "flatten (Flatten)            (None, 512)               0         \n",
            "_________________________________________________________________\n",
            "dense (Dense)                (None, 256)               131328    \n",
            "_________________________________________________________________\n",
            "dense_1 (Dense)              (None, 64)                16448     \n",
            "_________________________________________________________________\n",
            "dense_2 (Dense)              (None, 2)                 130       \n",
            "=================================================================\n",
            "Total params: 527,266\n",
            "Trainable params: 527,266\n",
            "Non-trainable params: 0\n",
            "_________________________________________________________________\n"
          ]
        }
      ]
    },
    {
      "cell_type": "code",
      "metadata": {
        "colab": {
          "base_uri": "https://localhost:8080/"
        },
        "id": "9TAirzWlmewF",
        "outputId": "51062714-a021-4703-9ce1-8096e1719aa8"
      },
      "source": [
        "history = model.fit(train, epochs=100)"
      ],
      "execution_count": 8,
      "outputs": [
        {
          "output_type": "stream",
          "name": "stdout",
          "text": [
            "Epoch 1/100\n",
            "5/5 [==============================] - 2s 393ms/step - loss: 0.6922 - accuracy: 0.6433\n",
            "Epoch 2/100\n",
            "5/5 [==============================] - 2s 433ms/step - loss: 0.6922 - accuracy: 0.5796\n",
            "Epoch 3/100\n",
            "5/5 [==============================] - 2s 455ms/step - loss: 0.6922 - accuracy: 0.7006\n",
            "Epoch 4/100\n",
            "5/5 [==============================] - 2s 405ms/step - loss: 0.6922 - accuracy: 0.6242\n",
            "Epoch 5/100\n",
            "5/5 [==============================] - 2s 389ms/step - loss: 0.6922 - accuracy: 0.5541\n",
            "Epoch 6/100\n",
            "5/5 [==============================] - 2s 368ms/step - loss: 0.6921 - accuracy: 0.6497\n",
            "Epoch 7/100\n",
            "5/5 [==============================] - 2s 365ms/step - loss: 0.6921 - accuracy: 0.6561\n",
            "Epoch 8/100\n",
            "5/5 [==============================] - 2s 389ms/step - loss: 0.6921 - accuracy: 0.6306\n",
            "Epoch 9/100\n",
            "5/5 [==============================] - 2s 347ms/step - loss: 0.6921 - accuracy: 0.7580\n",
            "Epoch 10/100\n",
            "5/5 [==============================] - 2s 373ms/step - loss: 0.6921 - accuracy: 0.5478\n",
            "Epoch 11/100\n",
            "5/5 [==============================] - 2s 379ms/step - loss: 0.6920 - accuracy: 0.7325\n",
            "Epoch 12/100\n",
            "5/5 [==============================] - 2s 402ms/step - loss: 0.6920 - accuracy: 0.5860\n",
            "Epoch 13/100\n",
            "5/5 [==============================] - 2s 407ms/step - loss: 0.6921 - accuracy: 0.5350\n",
            "Epoch 14/100\n",
            "5/5 [==============================] - 2s 400ms/step - loss: 0.6919 - accuracy: 0.7580\n",
            "Epoch 15/100\n",
            "5/5 [==============================] - 2s 406ms/step - loss: 0.6920 - accuracy: 0.6051\n",
            "Epoch 16/100\n",
            "5/5 [==============================] - 2s 408ms/step - loss: 0.6920 - accuracy: 0.6561\n",
            "Epoch 17/100\n",
            "5/5 [==============================] - 2s 373ms/step - loss: 0.6919 - accuracy: 0.7707\n",
            "Epoch 18/100\n",
            "5/5 [==============================] - 2s 388ms/step - loss: 0.6919 - accuracy: 0.6178\n",
            "Epoch 19/100\n",
            "5/5 [==============================] - 2s 397ms/step - loss: 0.6921 - accuracy: 0.5924\n",
            "Epoch 20/100\n",
            "5/5 [==============================] - 2s 393ms/step - loss: 0.6919 - accuracy: 0.6242\n",
            "Epoch 21/100\n",
            "5/5 [==============================] - 2s 402ms/step - loss: 0.6918 - accuracy: 0.5478\n",
            "Epoch 22/100\n",
            "5/5 [==============================] - 2s 388ms/step - loss: 0.6918 - accuracy: 0.7707\n",
            "Epoch 23/100\n",
            "5/5 [==============================] - 2s 414ms/step - loss: 0.6919 - accuracy: 0.6433\n",
            "Epoch 24/100\n",
            "5/5 [==============================] - 2s 393ms/step - loss: 0.6919 - accuracy: 0.5987\n",
            "Epoch 25/100\n",
            "5/5 [==============================] - 2s 386ms/step - loss: 0.6918 - accuracy: 0.6561\n",
            "Epoch 26/100\n",
            "5/5 [==============================] - 2s 417ms/step - loss: 0.6917 - accuracy: 0.5159\n",
            "Epoch 27/100\n",
            "5/5 [==============================] - 2s 410ms/step - loss: 0.6917 - accuracy: 0.5478\n",
            "Epoch 28/100\n",
            "5/5 [==============================] - 2s 381ms/step - loss: 0.6917 - accuracy: 0.5350\n",
            "Epoch 29/100\n",
            "5/5 [==============================] - 2s 403ms/step - loss: 0.6916 - accuracy: 0.5796\n",
            "Epoch 30/100\n",
            "5/5 [==============================] - 2s 386ms/step - loss: 0.6916 - accuracy: 0.5669\n",
            "Epoch 31/100\n",
            "5/5 [==============================] - 2s 397ms/step - loss: 0.6917 - accuracy: 0.5541\n",
            "Epoch 32/100\n",
            "5/5 [==============================] - 2s 397ms/step - loss: 0.6917 - accuracy: 0.6752\n",
            "Epoch 33/100\n",
            "5/5 [==============================] - 2s 363ms/step - loss: 0.6916 - accuracy: 0.5987\n",
            "Epoch 34/100\n",
            "5/5 [==============================] - 2s 383ms/step - loss: 0.6916 - accuracy: 0.6306\n",
            "Epoch 35/100\n",
            "5/5 [==============================] - 2s 378ms/step - loss: 0.6916 - accuracy: 0.5605\n",
            "Epoch 36/100\n",
            "5/5 [==============================] - 2s 394ms/step - loss: 0.6916 - accuracy: 0.6242\n",
            "Epoch 37/100\n",
            "5/5 [==============================] - 2s 351ms/step - loss: 0.6916 - accuracy: 0.5287\n",
            "Epoch 38/100\n",
            "5/5 [==============================] - 2s 405ms/step - loss: 0.6914 - accuracy: 0.5924\n",
            "Epoch 39/100\n",
            "5/5 [==============================] - 2s 375ms/step - loss: 0.6914 - accuracy: 0.6369\n",
            "Epoch 40/100\n",
            "5/5 [==============================] - 2s 388ms/step - loss: 0.6914 - accuracy: 0.5478\n",
            "Epoch 41/100\n",
            "5/5 [==============================] - 2s 400ms/step - loss: 0.6914 - accuracy: 0.5159\n",
            "Epoch 42/100\n",
            "5/5 [==============================] - 2s 375ms/step - loss: 0.6913 - accuracy: 0.5541\n",
            "Epoch 43/100\n",
            "5/5 [==============================] - 2s 401ms/step - loss: 0.6914 - accuracy: 0.5669\n",
            "Epoch 44/100\n",
            "5/5 [==============================] - 2s 393ms/step - loss: 0.6914 - accuracy: 0.6433\n",
            "Epoch 45/100\n",
            "5/5 [==============================] - 2s 378ms/step - loss: 0.6913 - accuracy: 0.5860\n",
            "Epoch 46/100\n",
            "5/5 [==============================] - 2s 383ms/step - loss: 0.6912 - accuracy: 0.6497\n",
            "Epoch 47/100\n",
            "5/5 [==============================] - 2s 412ms/step - loss: 0.6912 - accuracy: 0.5605\n",
            "Epoch 48/100\n",
            "5/5 [==============================] - 2s 424ms/step - loss: 0.6912 - accuracy: 0.5350\n",
            "Epoch 49/100\n",
            "5/5 [==============================] - 2s 371ms/step - loss: 0.6911 - accuracy: 0.5605\n",
            "Epoch 50/100\n",
            "5/5 [==============================] - 2s 412ms/step - loss: 0.6911 - accuracy: 0.5924\n",
            "Epoch 51/100\n",
            "5/5 [==============================] - 2s 424ms/step - loss: 0.6910 - accuracy: 0.6306\n",
            "Epoch 52/100\n",
            "5/5 [==============================] - 2s 388ms/step - loss: 0.6912 - accuracy: 0.5924\n",
            "Epoch 53/100\n",
            "5/5 [==============================] - 2s 392ms/step - loss: 0.6911 - accuracy: 0.5287\n",
            "Epoch 54/100\n",
            "5/5 [==============================] - 2s 391ms/step - loss: 0.6909 - accuracy: 0.5796\n",
            "Epoch 55/100\n",
            "5/5 [==============================] - 2s 385ms/step - loss: 0.6910 - accuracy: 0.5541\n",
            "Epoch 56/100\n",
            "5/5 [==============================] - 2s 390ms/step - loss: 0.6909 - accuracy: 0.5796\n",
            "Epoch 57/100\n",
            "5/5 [==============================] - 2s 407ms/step - loss: 0.6909 - accuracy: 0.5860\n",
            "Epoch 58/100\n",
            "5/5 [==============================] - 2s 356ms/step - loss: 0.6908 - accuracy: 0.6051\n",
            "Epoch 59/100\n",
            "5/5 [==============================] - 2s 412ms/step - loss: 0.6907 - accuracy: 0.5987\n",
            "Epoch 60/100\n",
            "5/5 [==============================] - 2s 393ms/step - loss: 0.6907 - accuracy: 0.6051\n",
            "Epoch 61/100\n",
            "5/5 [==============================] - 2s 423ms/step - loss: 0.6907 - accuracy: 0.7006\n",
            "Epoch 62/100\n",
            "5/5 [==============================] - 2s 426ms/step - loss: 0.6907 - accuracy: 0.5669\n",
            "Epoch 63/100\n",
            "5/5 [==============================] - 2s 400ms/step - loss: 0.6906 - accuracy: 0.5732\n",
            "Epoch 64/100\n",
            "5/5 [==============================] - 2s 371ms/step - loss: 0.6906 - accuracy: 0.7134\n",
            "Epoch 65/100\n",
            "5/5 [==============================] - 2s 387ms/step - loss: 0.6906 - accuracy: 0.5732\n",
            "Epoch 66/100\n",
            "5/5 [==============================] - 2s 396ms/step - loss: 0.6908 - accuracy: 0.5924\n",
            "Epoch 67/100\n",
            "5/5 [==============================] - 2s 392ms/step - loss: 0.6905 - accuracy: 0.6051\n",
            "Epoch 68/100\n",
            "5/5 [==============================] - 2s 417ms/step - loss: 0.6905 - accuracy: 0.6433\n",
            "Epoch 69/100\n",
            "5/5 [==============================] - 2s 329ms/step - loss: 0.6904 - accuracy: 0.6497\n",
            "Epoch 70/100\n",
            "5/5 [==============================] - 2s 371ms/step - loss: 0.6903 - accuracy: 0.6369\n",
            "Epoch 71/100\n",
            "5/5 [==============================] - 2s 359ms/step - loss: 0.6903 - accuracy: 0.5732\n",
            "Epoch 72/100\n",
            "5/5 [==============================] - 2s 401ms/step - loss: 0.6903 - accuracy: 0.6369\n",
            "Epoch 73/100\n",
            "5/5 [==============================] - 2s 382ms/step - loss: 0.6905 - accuracy: 0.5860\n",
            "Epoch 74/100\n",
            "5/5 [==============================] - 2s 396ms/step - loss: 0.6901 - accuracy: 0.6943\n",
            "Epoch 75/100\n",
            "5/5 [==============================] - 2s 392ms/step - loss: 0.6901 - accuracy: 0.6943\n",
            "Epoch 76/100\n",
            "5/5 [==============================] - 2s 391ms/step - loss: 0.6900 - accuracy: 0.6624\n",
            "Epoch 77/100\n",
            "5/5 [==============================] - 2s 405ms/step - loss: 0.6901 - accuracy: 0.6815\n",
            "Epoch 78/100\n",
            "5/5 [==============================] - 2s 382ms/step - loss: 0.6899 - accuracy: 0.6051\n",
            "Epoch 79/100\n",
            "5/5 [==============================] - 2s 402ms/step - loss: 0.6898 - accuracy: 0.5924\n",
            "Epoch 80/100\n",
            "5/5 [==============================] - 2s 409ms/step - loss: 0.6898 - accuracy: 0.6879\n",
            "Epoch 81/100\n",
            "5/5 [==============================] - 2s 394ms/step - loss: 0.6897 - accuracy: 0.6497\n",
            "Epoch 82/100\n",
            "5/5 [==============================] - 2s 409ms/step - loss: 0.6898 - accuracy: 0.6879\n",
            "Epoch 83/100\n",
            "5/5 [==============================] - 2s 400ms/step - loss: 0.6896 - accuracy: 0.6497\n",
            "Epoch 84/100\n",
            "5/5 [==============================] - 2s 383ms/step - loss: 0.6896 - accuracy: 0.7197\n",
            "Epoch 85/100\n",
            "5/5 [==============================] - 2s 410ms/step - loss: 0.6894 - accuracy: 0.6815\n",
            "Epoch 86/100\n",
            "5/5 [==============================] - 2s 388ms/step - loss: 0.6894 - accuracy: 0.6115\n",
            "Epoch 87/100\n",
            "5/5 [==============================] - 2s 380ms/step - loss: 0.6893 - accuracy: 0.7134\n",
            "Epoch 88/100\n",
            "5/5 [==============================] - 2s 375ms/step - loss: 0.6895 - accuracy: 0.6752\n",
            "Epoch 89/100\n",
            "5/5 [==============================] - 2s 386ms/step - loss: 0.6892 - accuracy: 0.6624\n",
            "Epoch 90/100\n",
            "5/5 [==============================] - 2s 396ms/step - loss: 0.6891 - accuracy: 0.7006\n",
            "Epoch 91/100\n",
            "5/5 [==============================] - 2s 367ms/step - loss: 0.6891 - accuracy: 0.7261\n",
            "Epoch 92/100\n",
            "5/5 [==============================] - 2s 403ms/step - loss: 0.6889 - accuracy: 0.7643\n",
            "Epoch 93/100\n",
            "5/5 [==============================] - 2s 391ms/step - loss: 0.6888 - accuracy: 0.6943\n",
            "Epoch 94/100\n",
            "5/5 [==============================] - 2s 423ms/step - loss: 0.6887 - accuracy: 0.7006\n",
            "Epoch 95/100\n",
            "5/5 [==============================] - 2s 371ms/step - loss: 0.6886 - accuracy: 0.7580\n",
            "Epoch 96/100\n",
            "5/5 [==============================] - 2s 371ms/step - loss: 0.6885 - accuracy: 0.7516\n",
            "Epoch 97/100\n",
            "5/5 [==============================] - 2s 374ms/step - loss: 0.6885 - accuracy: 0.7707\n",
            "Epoch 98/100\n",
            "5/5 [==============================] - 2s 403ms/step - loss: 0.6883 - accuracy: 0.6943\n",
            "Epoch 99/100\n",
            "5/5 [==============================] - 2s 399ms/step - loss: 0.6883 - accuracy: 0.6815\n",
            "Epoch 100/100\n",
            "5/5 [==============================] - 2s 405ms/step - loss: 0.6881 - accuracy: 0.7962\n"
          ]
        }
      ]
    }
  ]
}